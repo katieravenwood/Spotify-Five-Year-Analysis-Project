{
 "cells": [
  {
   "cell_type": "markdown",
   "id": "b1d14ab4",
   "metadata": {},
   "source": [
    "# Genre & Artist Nested List Wrangling"
   ]
  },
  {
   "cell_type": "markdown",
   "id": "f79598de",
   "metadata": {},
   "source": [
    "## Imports"
   ]
  },
  {
   "cell_type": "code",
   "execution_count": 70,
   "id": "ececcbe6",
   "metadata": {
    "scrolled": true
   },
   "outputs": [],
   "source": [
    "import pandas as pd\n",
    "import numpy as np"
   ]
  },
  {
   "cell_type": "markdown",
   "id": "74455948",
   "metadata": {},
   "source": [
    "## Set display options"
   ]
  },
  {
   "cell_type": "code",
   "execution_count": 71,
   "id": "1ce76860",
   "metadata": {
    "scrolled": true
   },
   "outputs": [],
   "source": [
    "pd.set_option('display.max_columns', 75)"
   ]
  },
  {
   "cell_type": "markdown",
   "id": "dc46ee64",
   "metadata": {},
   "source": [
    "## Import data"
   ]
  },
  {
   "cell_type": "markdown",
   "id": "7d044b98",
   "metadata": {},
   "source": [
    "#### Import table for all chart album tracks"
   ]
  },
  {
   "cell_type": "code",
   "execution_count": 72,
   "id": "818883ea",
   "metadata": {
    "scrolled": true
   },
   "outputs": [],
   "source": [
    "df = pd.read_csv(\"../data/allchartalbumtracks.csv\")"
   ]
  },
  {
   "cell_type": "code",
   "execution_count": 73,
   "id": "3b1501a6",
   "metadata": {
    "scrolled": true
   },
   "outputs": [
    {
     "data": {
      "text/html": [
       "<div>\n",
       "<style scoped>\n",
       "    .dataframe tbody tr th:only-of-type {\n",
       "        vertical-align: middle;\n",
       "    }\n",
       "\n",
       "    .dataframe tbody tr th {\n",
       "        vertical-align: top;\n",
       "    }\n",
       "\n",
       "    .dataframe thead th {\n",
       "        text-align: right;\n",
       "    }\n",
       "</style>\n",
       "<table border=\"1\" class=\"dataframe\">\n",
       "  <thead>\n",
       "    <tr style=\"text-align: right;\">\n",
       "      <th></th>\n",
       "      <th>track_name</th>\n",
       "      <th>track_id</th>\n",
       "      <th>track_popularity</th>\n",
       "      <th>track_artists</th>\n",
       "      <th>track_artists_ids</th>\n",
       "      <th>track_artists_genres</th>\n",
       "      <th>track_artists_popularity</th>\n",
       "      <th>track_explicit</th>\n",
       "      <th>track_artists_followers</th>\n",
       "      <th>album_name</th>\n",
       "      <th>album_id</th>\n",
       "      <th>danceability</th>\n",
       "      <th>energy</th>\n",
       "      <th>key</th>\n",
       "      <th>speechiness</th>\n",
       "      <th>loudness</th>\n",
       "      <th>mode</th>\n",
       "      <th>acousticness</th>\n",
       "      <th>instrumentalness</th>\n",
       "      <th>liveness</th>\n",
       "      <th>valence</th>\n",
       "      <th>tempo</th>\n",
       "      <th>duration_ms</th>\n",
       "      <th>time_signature</th>\n",
       "    </tr>\n",
       "  </thead>\n",
       "  <tbody>\n",
       "    <tr>\n",
       "      <th>8987</th>\n",
       "      <td>Big Love In A Small Town</td>\n",
       "      <td>1VwuDXLQdyTWvieBIPWkNt</td>\n",
       "      <td>36</td>\n",
       "      <td>['Lady A']</td>\n",
       "      <td>['32WkQRZEVKSzVAAYqukAEA']</td>\n",
       "      <td>[['contemporary country', 'country', 'country ...</td>\n",
       "      <td>[73]</td>\n",
       "      <td>False</td>\n",
       "      <td>[3439689]</td>\n",
       "      <td>Heart Break</td>\n",
       "      <td>4WZZDzGqjvw4bRwrp56U24</td>\n",
       "      <td>0.524</td>\n",
       "      <td>0.523</td>\n",
       "      <td>1</td>\n",
       "      <td>0.0268</td>\n",
       "      <td>-5.150</td>\n",
       "      <td>1</td>\n",
       "      <td>0.64500</td>\n",
       "      <td>0.000000</td>\n",
       "      <td>0.1010</td>\n",
       "      <td>0.313</td>\n",
       "      <td>144.012</td>\n",
       "      <td>226013</td>\n",
       "      <td>4</td>\n",
       "    </tr>\n",
       "    <tr>\n",
       "      <th>8988</th>\n",
       "      <td>The Stars</td>\n",
       "      <td>2gFkkpMs7rakuCCi9UepP0</td>\n",
       "      <td>37</td>\n",
       "      <td>['Lady A']</td>\n",
       "      <td>['32WkQRZEVKSzVAAYqukAEA']</td>\n",
       "      <td>[['contemporary country', 'country', 'country ...</td>\n",
       "      <td>[73]</td>\n",
       "      <td>False</td>\n",
       "      <td>[3439689]</td>\n",
       "      <td>Heart Break</td>\n",
       "      <td>4WZZDzGqjvw4bRwrp56U24</td>\n",
       "      <td>0.576</td>\n",
       "      <td>0.766</td>\n",
       "      <td>1</td>\n",
       "      <td>0.0304</td>\n",
       "      <td>-4.594</td>\n",
       "      <td>1</td>\n",
       "      <td>0.26300</td>\n",
       "      <td>0.000004</td>\n",
       "      <td>0.1020</td>\n",
       "      <td>0.407</td>\n",
       "      <td>143.029</td>\n",
       "      <td>202347</td>\n",
       "      <td>4</td>\n",
       "    </tr>\n",
       "    <tr>\n",
       "      <th>8989</th>\n",
       "      <td>Teenage Heart</td>\n",
       "      <td>7G2BnhS46nEiPucLNvE0G3</td>\n",
       "      <td>35</td>\n",
       "      <td>['Lady A']</td>\n",
       "      <td>['32WkQRZEVKSzVAAYqukAEA']</td>\n",
       "      <td>[['contemporary country', 'country', 'country ...</td>\n",
       "      <td>[73]</td>\n",
       "      <td>False</td>\n",
       "      <td>[3439689]</td>\n",
       "      <td>Heart Break</td>\n",
       "      <td>4WZZDzGqjvw4bRwrp56U24</td>\n",
       "      <td>0.572</td>\n",
       "      <td>0.840</td>\n",
       "      <td>2</td>\n",
       "      <td>0.0341</td>\n",
       "      <td>-6.227</td>\n",
       "      <td>1</td>\n",
       "      <td>0.00323</td>\n",
       "      <td>0.000013</td>\n",
       "      <td>0.5590</td>\n",
       "      <td>0.505</td>\n",
       "      <td>133.474</td>\n",
       "      <td>220227</td>\n",
       "      <td>4</td>\n",
       "    </tr>\n",
       "    <tr>\n",
       "      <th>8990</th>\n",
       "      <td>Home</td>\n",
       "      <td>32zF5eXrb8QrUu5qNdYmIO</td>\n",
       "      <td>35</td>\n",
       "      <td>['Lady A']</td>\n",
       "      <td>['32WkQRZEVKSzVAAYqukAEA']</td>\n",
       "      <td>[['contemporary country', 'country', 'country ...</td>\n",
       "      <td>[73]</td>\n",
       "      <td>False</td>\n",
       "      <td>[3439689]</td>\n",
       "      <td>Heart Break</td>\n",
       "      <td>4WZZDzGqjvw4bRwrp56U24</td>\n",
       "      <td>0.559</td>\n",
       "      <td>0.692</td>\n",
       "      <td>7</td>\n",
       "      <td>0.0385</td>\n",
       "      <td>-7.797</td>\n",
       "      <td>1</td>\n",
       "      <td>0.48600</td>\n",
       "      <td>0.000004</td>\n",
       "      <td>0.1250</td>\n",
       "      <td>0.567</td>\n",
       "      <td>89.954</td>\n",
       "      <td>177200</td>\n",
       "      <td>4</td>\n",
       "    </tr>\n",
       "    <tr>\n",
       "      <th>8991</th>\n",
       "      <td>Famous</td>\n",
       "      <td>5xeo7Mr6638HYaEontltHV</td>\n",
       "      <td>34</td>\n",
       "      <td>['Lady A']</td>\n",
       "      <td>['32WkQRZEVKSzVAAYqukAEA']</td>\n",
       "      <td>[['contemporary country', 'country', 'country ...</td>\n",
       "      <td>[73]</td>\n",
       "      <td>False</td>\n",
       "      <td>[3439689]</td>\n",
       "      <td>Heart Break</td>\n",
       "      <td>4WZZDzGqjvw4bRwrp56U24</td>\n",
       "      <td>0.557</td>\n",
       "      <td>0.621</td>\n",
       "      <td>0</td>\n",
       "      <td>0.0308</td>\n",
       "      <td>-6.355</td>\n",
       "      <td>0</td>\n",
       "      <td>0.59700</td>\n",
       "      <td>0.000098</td>\n",
       "      <td>0.0864</td>\n",
       "      <td>0.680</td>\n",
       "      <td>76.994</td>\n",
       "      <td>232613</td>\n",
       "      <td>4</td>\n",
       "    </tr>\n",
       "  </tbody>\n",
       "</table>\n",
       "</div>"
      ],
      "text/plain": [
       "                    track_name                track_id  track_popularity  \\\n",
       "8987  Big Love In A Small Town  1VwuDXLQdyTWvieBIPWkNt                36   \n",
       "8988                 The Stars  2gFkkpMs7rakuCCi9UepP0                37   \n",
       "8989             Teenage Heart  7G2BnhS46nEiPucLNvE0G3                35   \n",
       "8990                      Home  32zF5eXrb8QrUu5qNdYmIO                35   \n",
       "8991                    Famous  5xeo7Mr6638HYaEontltHV                34   \n",
       "\n",
       "     track_artists           track_artists_ids  \\\n",
       "8987    ['Lady A']  ['32WkQRZEVKSzVAAYqukAEA']   \n",
       "8988    ['Lady A']  ['32WkQRZEVKSzVAAYqukAEA']   \n",
       "8989    ['Lady A']  ['32WkQRZEVKSzVAAYqukAEA']   \n",
       "8990    ['Lady A']  ['32WkQRZEVKSzVAAYqukAEA']   \n",
       "8991    ['Lady A']  ['32WkQRZEVKSzVAAYqukAEA']   \n",
       "\n",
       "                                   track_artists_genres  \\\n",
       "8987  [['contemporary country', 'country', 'country ...   \n",
       "8988  [['contemporary country', 'country', 'country ...   \n",
       "8989  [['contemporary country', 'country', 'country ...   \n",
       "8990  [['contemporary country', 'country', 'country ...   \n",
       "8991  [['contemporary country', 'country', 'country ...   \n",
       "\n",
       "     track_artists_popularity  track_explicit track_artists_followers  \\\n",
       "8987                     [73]           False               [3439689]   \n",
       "8988                     [73]           False               [3439689]   \n",
       "8989                     [73]           False               [3439689]   \n",
       "8990                     [73]           False               [3439689]   \n",
       "8991                     [73]           False               [3439689]   \n",
       "\n",
       "       album_name                album_id  danceability  energy  key  \\\n",
       "8987  Heart Break  4WZZDzGqjvw4bRwrp56U24         0.524   0.523    1   \n",
       "8988  Heart Break  4WZZDzGqjvw4bRwrp56U24         0.576   0.766    1   \n",
       "8989  Heart Break  4WZZDzGqjvw4bRwrp56U24         0.572   0.840    2   \n",
       "8990  Heart Break  4WZZDzGqjvw4bRwrp56U24         0.559   0.692    7   \n",
       "8991  Heart Break  4WZZDzGqjvw4bRwrp56U24         0.557   0.621    0   \n",
       "\n",
       "      speechiness  loudness  mode  acousticness  instrumentalness  liveness  \\\n",
       "8987       0.0268    -5.150     1       0.64500          0.000000    0.1010   \n",
       "8988       0.0304    -4.594     1       0.26300          0.000004    0.1020   \n",
       "8989       0.0341    -6.227     1       0.00323          0.000013    0.5590   \n",
       "8990       0.0385    -7.797     1       0.48600          0.000004    0.1250   \n",
       "8991       0.0308    -6.355     0       0.59700          0.000098    0.0864   \n",
       "\n",
       "      valence    tempo  duration_ms  time_signature  \n",
       "8987    0.313  144.012       226013               4  \n",
       "8988    0.407  143.029       202347               4  \n",
       "8989    0.505  133.474       220227               4  \n",
       "8990    0.567   89.954       177200               4  \n",
       "8991    0.680   76.994       232613               4  "
      ]
     },
     "execution_count": 73,
     "metadata": {},
     "output_type": "execute_result"
    }
   ],
   "source": [
    "df.tail()\n",
    "#df = pd.read_csv(\"allchartalbumtracks.csv\", \n",
    "                 #converters={'track_artists_popularity': pd.eval, 'track_artists_genres': pd.eval, \n",
    "                            # 'track_artists_ids': pd.eval, 'track_artists_popularity': pd.eval, \n",
    "                            # 'track_artists_followers': pd.eval})"
   ]
  },
  {
   "cell_type": "markdown",
   "id": "ba463b21",
   "metadata": {},
   "source": [
    "#### Import table for yearly chart data"
   ]
  },
  {
   "cell_type": "code",
   "execution_count": 74,
   "id": "baa9a0ce",
   "metadata": {
    "scrolled": true
   },
   "outputs": [
    {
     "data": {
      "text/html": [
       "<div>\n",
       "<style scoped>\n",
       "    .dataframe tbody tr th:only-of-type {\n",
       "        vertical-align: middle;\n",
       "    }\n",
       "\n",
       "    .dataframe tbody tr th {\n",
       "        vertical-align: top;\n",
       "    }\n",
       "\n",
       "    .dataframe thead th {\n",
       "        text-align: right;\n",
       "    }\n",
       "</style>\n",
       "<table border=\"1\" class=\"dataframe\">\n",
       "  <thead>\n",
       "    <tr style=\"text-align: right;\">\n",
       "      <th></th>\n",
       "      <th>playlist_id</th>\n",
       "      <th>playlist_name</th>\n",
       "      <th>position</th>\n",
       "      <th>album_name</th>\n",
       "      <th>album_id</th>\n",
       "      <th>album_release_date</th>\n",
       "      <th>album_artists</th>\n",
       "      <th>album_artists_ids</th>\n",
       "      <th>album_artists_genres</th>\n",
       "      <th>album_artists_popularity</th>\n",
       "      <th>album_artists_followers</th>\n",
       "      <th>track_name</th>\n",
       "      <th>track_id</th>\n",
       "      <th>track_popularity</th>\n",
       "      <th>track_artists</th>\n",
       "      <th>track_artists_ids</th>\n",
       "      <th>track_artists_genres</th>\n",
       "      <th>track_artists_popularity</th>\n",
       "      <th>track_explicit</th>\n",
       "      <th>track_artists_followers</th>\n",
       "      <th>danceability</th>\n",
       "      <th>energy</th>\n",
       "      <th>key</th>\n",
       "      <th>speechiness</th>\n",
       "      <th>loudness</th>\n",
       "      <th>mode</th>\n",
       "      <th>acousticness</th>\n",
       "      <th>instrumentalness</th>\n",
       "      <th>liveness</th>\n",
       "      <th>valence</th>\n",
       "      <th>tempo</th>\n",
       "      <th>duration_ms</th>\n",
       "      <th>time_signature</th>\n",
       "    </tr>\n",
       "  </thead>\n",
       "  <tbody>\n",
       "    <tr>\n",
       "      <th>0</th>\n",
       "      <td>3avCwQPH6DkhMTRsizon7N</td>\n",
       "      <td>Billboard 200 Top Albums 2021</td>\n",
       "      <td>1</td>\n",
       "      <td>Dangerous: The Double Album</td>\n",
       "      <td>1qW1C4kDOXnrly22daHbxz</td>\n",
       "      <td>2021-01-08</td>\n",
       "      <td>Morgan Wallen</td>\n",
       "      <td>['4oUHIQIBe0LHzYfvXNW4QM']</td>\n",
       "      <td>[['contemporary country']]</td>\n",
       "      <td>[86]</td>\n",
       "      <td>[2789002]</td>\n",
       "      <td>More Than My Hometown</td>\n",
       "      <td>65mMCEOu5Ll1DBAfEUmerU</td>\n",
       "      <td>34</td>\n",
       "      <td>['Morgan Wallen']</td>\n",
       "      <td>['4oUHIQIBe0LHzYfvXNW4QM']</td>\n",
       "      <td>[['contemporary country']]</td>\n",
       "      <td>[86]</td>\n",
       "      <td>False</td>\n",
       "      <td>[2789002]</td>\n",
       "      <td>0.621</td>\n",
       "      <td>0.868</td>\n",
       "      <td>6</td>\n",
       "      <td>0.0460</td>\n",
       "      <td>-5.478</td>\n",
       "      <td>1</td>\n",
       "      <td>0.617000</td>\n",
       "      <td>0.000000</td>\n",
       "      <td>0.131</td>\n",
       "      <td>0.594</td>\n",
       "      <td>126.010</td>\n",
       "      <td>216573</td>\n",
       "      <td>4</td>\n",
       "    </tr>\n",
       "    <tr>\n",
       "      <th>1</th>\n",
       "      <td>3avCwQPH6DkhMTRsizon7N</td>\n",
       "      <td>Billboard 200 Top Albums 2021</td>\n",
       "      <td>2</td>\n",
       "      <td>SOUR</td>\n",
       "      <td>6s84u2TUpR3wdUv4NgKA2j</td>\n",
       "      <td>2021-05-21</td>\n",
       "      <td>['Olivia Rodrigo']</td>\n",
       "      <td>['1McMsnEElThX1knmY4oliG']</td>\n",
       "      <td>[['pop']]</td>\n",
       "      <td>[91]</td>\n",
       "      <td>[12849364]</td>\n",
       "      <td>drivers license</td>\n",
       "      <td>5wANPM4fQCJwkGd4rN57mH</td>\n",
       "      <td>92</td>\n",
       "      <td>['Olivia Rodrigo']</td>\n",
       "      <td>['1McMsnEElThX1knmY4oliG']</td>\n",
       "      <td>[['pop']]</td>\n",
       "      <td>[91]</td>\n",
       "      <td>True</td>\n",
       "      <td>[12849364]</td>\n",
       "      <td>0.561</td>\n",
       "      <td>0.431</td>\n",
       "      <td>10</td>\n",
       "      <td>0.0578</td>\n",
       "      <td>-8.810</td>\n",
       "      <td>1</td>\n",
       "      <td>0.768000</td>\n",
       "      <td>0.000014</td>\n",
       "      <td>0.106</td>\n",
       "      <td>0.137</td>\n",
       "      <td>143.875</td>\n",
       "      <td>242013</td>\n",
       "      <td>4</td>\n",
       "    </tr>\n",
       "    <tr>\n",
       "      <th>2</th>\n",
       "      <td>3avCwQPH6DkhMTRsizon7N</td>\n",
       "      <td>Billboard 200 Top Albums 2021</td>\n",
       "      <td>3</td>\n",
       "      <td>Shoot For The Stars Aim For The Moon</td>\n",
       "      <td>7e7t0MCrNDcJZsPwUKjmOc</td>\n",
       "      <td>2020-07-03</td>\n",
       "      <td>['Pop Smoke']</td>\n",
       "      <td>['0eDvMgVFoNV3TpwtrVCoTj']</td>\n",
       "      <td>[['brooklyn drill']]</td>\n",
       "      <td>[89]</td>\n",
       "      <td>[8935893]</td>\n",
       "      <td>What You Know Bout Love</td>\n",
       "      <td>1tkg4EHVoqnhR6iFEXb60y</td>\n",
       "      <td>85</td>\n",
       "      <td>['Pop Smoke']</td>\n",
       "      <td>['0eDvMgVFoNV3TpwtrVCoTj']</td>\n",
       "      <td>[['brooklyn drill']]</td>\n",
       "      <td>[89]</td>\n",
       "      <td>True</td>\n",
       "      <td>[8935893]</td>\n",
       "      <td>0.709</td>\n",
       "      <td>0.548</td>\n",
       "      <td>10</td>\n",
       "      <td>0.3530</td>\n",
       "      <td>-8.493</td>\n",
       "      <td>1</td>\n",
       "      <td>0.650000</td>\n",
       "      <td>0.000002</td>\n",
       "      <td>0.133</td>\n",
       "      <td>0.543</td>\n",
       "      <td>83.995</td>\n",
       "      <td>160000</td>\n",
       "      <td>4</td>\n",
       "    </tr>\n",
       "    <tr>\n",
       "      <th>3</th>\n",
       "      <td>3avCwQPH6DkhMTRsizon7N</td>\n",
       "      <td>Billboard 200 Top Albums 2021</td>\n",
       "      <td>4</td>\n",
       "      <td>evermore</td>\n",
       "      <td>2Xoteh7uEpea4TohMxjtaq</td>\n",
       "      <td>2020-12-11</td>\n",
       "      <td>['Taylor Swift']</td>\n",
       "      <td>['06HL4z0CvFAxyc27GXpf02']</td>\n",
       "      <td>[['pop']]</td>\n",
       "      <td>[98]</td>\n",
       "      <td>[48097228]</td>\n",
       "      <td>willow</td>\n",
       "      <td>0lx2cLdOt3piJbcaXIV74f</td>\n",
       "      <td>82</td>\n",
       "      <td>['Taylor Swift']</td>\n",
       "      <td>['06HL4z0CvFAxyc27GXpf02']</td>\n",
       "      <td>[['pop']]</td>\n",
       "      <td>[98]</td>\n",
       "      <td>False</td>\n",
       "      <td>[48097228]</td>\n",
       "      <td>0.392</td>\n",
       "      <td>0.574</td>\n",
       "      <td>7</td>\n",
       "      <td>0.1700</td>\n",
       "      <td>-9.195</td>\n",
       "      <td>1</td>\n",
       "      <td>0.833000</td>\n",
       "      <td>0.001790</td>\n",
       "      <td>0.145</td>\n",
       "      <td>0.529</td>\n",
       "      <td>81.112</td>\n",
       "      <td>214707</td>\n",
       "      <td>4</td>\n",
       "    </tr>\n",
       "    <tr>\n",
       "      <th>4</th>\n",
       "      <td>3avCwQPH6DkhMTRsizon7N</td>\n",
       "      <td>Billboard 200 Top Albums 2021</td>\n",
       "      <td>5</td>\n",
       "      <td>Certified Lover Boy</td>\n",
       "      <td>3SpBlxme9WbeQdI9kx7KAV</td>\n",
       "      <td>2021-09-03</td>\n",
       "      <td>['Drake']</td>\n",
       "      <td>['3TVXtAsR1Inumwj472S9r4']</td>\n",
       "      <td>[['canadian hip hop', 'canadian pop', 'hip hop...</td>\n",
       "      <td>[98]</td>\n",
       "      <td>[60310746]</td>\n",
       "      <td>Way 2 Sexy (with Future &amp; Young Thug)</td>\n",
       "      <td>0k1WUmIRnG3xU6fvvDVfRG</td>\n",
       "      <td>88</td>\n",
       "      <td>['Drake', 'Future', 'Young Thug']</td>\n",
       "      <td>['3TVXtAsR1Inumwj472S9r4']</td>\n",
       "      <td>[['canadian hip hop', 'canadian pop', 'hip hop...</td>\n",
       "      <td>[98]</td>\n",
       "      <td>True</td>\n",
       "      <td>[60310746]</td>\n",
       "      <td>0.803</td>\n",
       "      <td>0.597</td>\n",
       "      <td>11</td>\n",
       "      <td>0.1410</td>\n",
       "      <td>-6.035</td>\n",
       "      <td>0</td>\n",
       "      <td>0.000619</td>\n",
       "      <td>0.000005</td>\n",
       "      <td>0.323</td>\n",
       "      <td>0.331</td>\n",
       "      <td>136.008</td>\n",
       "      <td>257605</td>\n",
       "      <td>4</td>\n",
       "    </tr>\n",
       "  </tbody>\n",
       "</table>\n",
       "</div>"
      ],
      "text/plain": [
       "              playlist_id                  playlist_name  position  \\\n",
       "0  3avCwQPH6DkhMTRsizon7N  Billboard 200 Top Albums 2021         1   \n",
       "1  3avCwQPH6DkhMTRsizon7N  Billboard 200 Top Albums 2021         2   \n",
       "2  3avCwQPH6DkhMTRsizon7N  Billboard 200 Top Albums 2021         3   \n",
       "3  3avCwQPH6DkhMTRsizon7N  Billboard 200 Top Albums 2021         4   \n",
       "4  3avCwQPH6DkhMTRsizon7N  Billboard 200 Top Albums 2021         5   \n",
       "\n",
       "                             album_name                album_id  \\\n",
       "0           Dangerous: The Double Album  1qW1C4kDOXnrly22daHbxz   \n",
       "1                                  SOUR  6s84u2TUpR3wdUv4NgKA2j   \n",
       "2  Shoot For The Stars Aim For The Moon  7e7t0MCrNDcJZsPwUKjmOc   \n",
       "3                              evermore  2Xoteh7uEpea4TohMxjtaq   \n",
       "4                   Certified Lover Boy  3SpBlxme9WbeQdI9kx7KAV   \n",
       "\n",
       "  album_release_date       album_artists           album_artists_ids  \\\n",
       "0         2021-01-08       Morgan Wallen  ['4oUHIQIBe0LHzYfvXNW4QM']   \n",
       "1         2021-05-21  ['Olivia Rodrigo']  ['1McMsnEElThX1knmY4oliG']   \n",
       "2         2020-07-03       ['Pop Smoke']  ['0eDvMgVFoNV3TpwtrVCoTj']   \n",
       "3         2020-12-11    ['Taylor Swift']  ['06HL4z0CvFAxyc27GXpf02']   \n",
       "4         2021-09-03           ['Drake']  ['3TVXtAsR1Inumwj472S9r4']   \n",
       "\n",
       "                                album_artists_genres album_artists_popularity  \\\n",
       "0                         [['contemporary country']]                     [86]   \n",
       "1                                          [['pop']]                     [91]   \n",
       "2                               [['brooklyn drill']]                     [89]   \n",
       "3                                          [['pop']]                     [98]   \n",
       "4  [['canadian hip hop', 'canadian pop', 'hip hop...                     [98]   \n",
       "\n",
       "  album_artists_followers                             track_name  \\\n",
       "0               [2789002]                  More Than My Hometown   \n",
       "1              [12849364]                        drivers license   \n",
       "2               [8935893]                What You Know Bout Love   \n",
       "3              [48097228]                                 willow   \n",
       "4              [60310746]  Way 2 Sexy (with Future & Young Thug)   \n",
       "\n",
       "                 track_id  track_popularity  \\\n",
       "0  65mMCEOu5Ll1DBAfEUmerU                34   \n",
       "1  5wANPM4fQCJwkGd4rN57mH                92   \n",
       "2  1tkg4EHVoqnhR6iFEXb60y                85   \n",
       "3  0lx2cLdOt3piJbcaXIV74f                82   \n",
       "4  0k1WUmIRnG3xU6fvvDVfRG                88   \n",
       "\n",
       "                       track_artists           track_artists_ids  \\\n",
       "0                  ['Morgan Wallen']  ['4oUHIQIBe0LHzYfvXNW4QM']   \n",
       "1                 ['Olivia Rodrigo']  ['1McMsnEElThX1knmY4oliG']   \n",
       "2                      ['Pop Smoke']  ['0eDvMgVFoNV3TpwtrVCoTj']   \n",
       "3                   ['Taylor Swift']  ['06HL4z0CvFAxyc27GXpf02']   \n",
       "4  ['Drake', 'Future', 'Young Thug']  ['3TVXtAsR1Inumwj472S9r4']   \n",
       "\n",
       "                                track_artists_genres track_artists_popularity  \\\n",
       "0                         [['contemporary country']]                     [86]   \n",
       "1                                          [['pop']]                     [91]   \n",
       "2                               [['brooklyn drill']]                     [89]   \n",
       "3                                          [['pop']]                     [98]   \n",
       "4  [['canadian hip hop', 'canadian pop', 'hip hop...                     [98]   \n",
       "\n",
       "   track_explicit track_artists_followers  danceability  energy  key  \\\n",
       "0           False               [2789002]         0.621   0.868    6   \n",
       "1            True              [12849364]         0.561   0.431   10   \n",
       "2            True               [8935893]         0.709   0.548   10   \n",
       "3           False              [48097228]         0.392   0.574    7   \n",
       "4            True              [60310746]         0.803   0.597   11   \n",
       "\n",
       "   speechiness  loudness  mode  acousticness  instrumentalness  liveness  \\\n",
       "0       0.0460    -5.478     1      0.617000          0.000000     0.131   \n",
       "1       0.0578    -8.810     1      0.768000          0.000014     0.106   \n",
       "2       0.3530    -8.493     1      0.650000          0.000002     0.133   \n",
       "3       0.1700    -9.195     1      0.833000          0.001790     0.145   \n",
       "4       0.1410    -6.035     0      0.000619          0.000005     0.323   \n",
       "\n",
       "   valence    tempo  duration_ms  time_signature  \n",
       "0    0.594  126.010       216573               4  \n",
       "1    0.137  143.875       242013               4  \n",
       "2    0.543   83.995       160000               4  \n",
       "3    0.529   81.112       214707               4  \n",
       "4    0.331  136.008       257605               4  "
      ]
     },
     "execution_count": 74,
     "metadata": {},
     "output_type": "execute_result"
    }
   ],
   "source": [
    "dfa = pd.read_csv(\"../data/mastercharttable.csv\")\n",
    "dfa.head()"
   ]
  },
  {
   "cell_type": "markdown",
   "id": "e505ab04",
   "metadata": {},
   "source": [
    "#### Import table of wrangled genres"
   ]
  },
  {
   "cell_type": "code",
   "execution_count": 75,
   "id": "ee8dd83d",
   "metadata": {},
   "outputs": [
    {
     "data": {
      "text/html": [
       "<div>\n",
       "<style scoped>\n",
       "    .dataframe tbody tr th:only-of-type {\n",
       "        vertical-align: middle;\n",
       "    }\n",
       "\n",
       "    .dataframe tbody tr th {\n",
       "        vertical-align: top;\n",
       "    }\n",
       "\n",
       "    .dataframe thead th {\n",
       "        text-align: right;\n",
       "    }\n",
       "</style>\n",
       "<table border=\"1\" class=\"dataframe\">\n",
       "  <thead>\n",
       "    <tr style=\"text-align: right;\">\n",
       "      <th></th>\n",
       "      <th>Original_Genre</th>\n",
       "      <th>New Genre</th>\n",
       "    </tr>\n",
       "  </thead>\n",
       "  <tbody>\n",
       "    <tr>\n",
       "      <th>0</th>\n",
       "      <td>hollywood</td>\n",
       "      <td>Misc</td>\n",
       "    </tr>\n",
       "    <tr>\n",
       "      <th>1</th>\n",
       "      <td>country rock</td>\n",
       "      <td>Rock</td>\n",
       "    </tr>\n",
       "    <tr>\n",
       "      <th>2</th>\n",
       "      <td>k-pop boy group</td>\n",
       "      <td>Pop</td>\n",
       "    </tr>\n",
       "    <tr>\n",
       "      <th>3</th>\n",
       "      <td>deep underground hip hop</td>\n",
       "      <td>Hip-hop</td>\n",
       "    </tr>\n",
       "    <tr>\n",
       "      <th>4</th>\n",
       "      <td>post-grunge</td>\n",
       "      <td>Rock</td>\n",
       "    </tr>\n",
       "  </tbody>\n",
       "</table>\n",
       "</div>"
      ],
      "text/plain": [
       "             Original_Genre New Genre\n",
       "0                 hollywood      Misc\n",
       "1              country rock      Rock\n",
       "2           k-pop boy group       Pop\n",
       "3  deep underground hip hop   Hip-hop\n",
       "4               post-grunge      Rock"
      ]
     },
     "execution_count": 75,
     "metadata": {},
     "output_type": "execute_result"
    }
   ],
   "source": [
    "pd.set_option('display.max_rows', None)\n",
    "genres_df = pd.read_csv(\"../data/genre_wrangling.csv\")\n",
    "genres_df.head()"
   ]
  },
  {
   "cell_type": "code",
   "execution_count": 76,
   "id": "a6306449",
   "metadata": {},
   "outputs": [],
   "source": [
    "genres_df.at[220,'New Genre']= 'No Genre Assigned'"
   ]
  },
  {
   "cell_type": "code",
   "execution_count": 77,
   "id": "63e56422",
   "metadata": {},
   "outputs": [],
   "source": [
    "# Replace values for 'movie tunes', 'show_tunes' 'mellow gold' 'hollywood'\n",
    "genres_df.loc[genres_df.Original_Genre == \"movie tunes\", 'New Genre'] = \"Soundtrack\"\n",
    "genres_df.loc[genres_df.Original_Genre == \"show_tunes\", 'New Genre'] = \"Soundtrack\"\n",
    "genres_df.loc[genres_df.Original_Genre == \"mellow gold\", 'New Genre'] = \"Rock\"\n",
    "genres_df.loc[genres_df.Original_Genre == \"hollywood\", 'New Genre'] = \"Soundtrack\""
   ]
  },
  {
   "cell_type": "markdown",
   "id": "360d6db3",
   "metadata": {},
   "source": [
    "## Wrangle Nested Columns In All Track Table"
   ]
  },
  {
   "cell_type": "markdown",
   "id": "3d70dc37",
   "metadata": {},
   "source": [
    "#### Eval track artist, track_artists_ids, track_artists_popularity, track_artists_followers columns for proper list format"
   ]
  },
  {
   "cell_type": "code",
   "execution_count": 78,
   "id": "689066a5",
   "metadata": {
    "scrolled": true
   },
   "outputs": [],
   "source": [
    "df['track_artists'] = df['track_artists'].apply(lambda v: eval(v))"
   ]
  },
  {
   "cell_type": "code",
   "execution_count": 79,
   "id": "a283f88f",
   "metadata": {
    "scrolled": true
   },
   "outputs": [],
   "source": [
    "df['track_artists_ids'] = df['track_artists_ids'].apply(lambda v: eval(v))"
   ]
  },
  {
   "cell_type": "code",
   "execution_count": 80,
   "id": "615d5c5c",
   "metadata": {
    "scrolled": true
   },
   "outputs": [],
   "source": [
    "df['track_artists_popularity'] = df['track_artists_popularity'].apply(lambda v: eval(v))"
   ]
  },
  {
   "cell_type": "code",
   "execution_count": 81,
   "id": "58e9d77b",
   "metadata": {
    "scrolled": true
   },
   "outputs": [],
   "source": [
    "df['track_artists_followers'] = df['track_artists_followers'].apply(lambda v: eval(v))"
   ]
  },
  {
   "cell_type": "markdown",
   "id": "9323389b",
   "metadata": {},
   "source": [
    "#### Eval genre lists for proper list format"
   ]
  },
  {
   "cell_type": "code",
   "execution_count": 82,
   "id": "43a62baf",
   "metadata": {
    "scrolled": true
   },
   "outputs": [],
   "source": [
    "df['track_artists_genres'] = df['track_artists_genres'].apply(lambda v: eval(v))"
   ]
  },
  {
   "cell_type": "markdown",
   "id": "372441e5",
   "metadata": {},
   "source": [
    "## Wrangle Nested Columns In Yearly Chart Track Table"
   ]
  },
  {
   "cell_type": "markdown",
   "id": "cf6413e9",
   "metadata": {},
   "source": [
    "#### Eval track artist, track_artists_ids, track_artists_popularity, track_artists_followers columns for proper list format"
   ]
  },
  {
   "cell_type": "code",
   "execution_count": 83,
   "id": "2349d33a",
   "metadata": {
    "scrolled": true
   },
   "outputs": [],
   "source": [
    "dfa['track_artists'] = dfa['track_artists'].apply(lambda v: eval(v))\n"
   ]
  },
  {
   "cell_type": "code",
   "execution_count": 84,
   "id": "4dec8c03",
   "metadata": {
    "scrolled": true
   },
   "outputs": [],
   "source": [
    "dfa['track_artists_ids'] = dfa['track_artists_ids'].apply(lambda v: eval(v))"
   ]
  },
  {
   "cell_type": "code",
   "execution_count": 85,
   "id": "49249c3a",
   "metadata": {
    "scrolled": true
   },
   "outputs": [],
   "source": [
    "dfa['track_artists_popularity'] = dfa['track_artists_popularity'].apply(lambda v: eval(v))"
   ]
  },
  {
   "cell_type": "code",
   "execution_count": 86,
   "id": "4ff37044",
   "metadata": {
    "scrolled": true
   },
   "outputs": [],
   "source": [
    "dfa['track_artists_followers'] = dfa['track_artists_followers'].apply(lambda v: eval(v))"
   ]
  },
  {
   "cell_type": "markdown",
   "id": "e994bd7a",
   "metadata": {},
   "source": [
    "#### Eval genre lists for proper list format"
   ]
  },
  {
   "cell_type": "code",
   "execution_count": 87,
   "id": "b3a1f50c",
   "metadata": {
    "scrolled": true
   },
   "outputs": [],
   "source": [
    "dfa['track_artists_genres'] = dfa['track_artists_genres'].apply(lambda v: eval(v))"
   ]
  },
  {
   "cell_type": "markdown",
   "id": "d635a8a2",
   "metadata": {},
   "source": [
    "#### Eval album_artist, album_artists_ids, album_artists_popularity, album_artists_followers columns for proper list format"
   ]
  },
  {
   "cell_type": "code",
   "execution_count": 88,
   "id": "94093d1b",
   "metadata": {
    "scrolled": true
   },
   "outputs": [],
   "source": [
    "# This function generates an error on row 12. Work in progress to bugfix. \n",
    "# See function below joining track_artist on album_id from tracks dataframe\n",
    "# dfa['album_artists'] = dfa['album_artists'].apply(lambda v: eval(v))\n",
    "# dfa['album_artists']"
   ]
  },
  {
   "cell_type": "code",
   "execution_count": 89,
   "id": "f62eb7c7",
   "metadata": {
    "scrolled": true
   },
   "outputs": [],
   "source": [
    "dfa['album_artists_ids'] = dfa['album_artists_ids'].apply(lambda v: eval(v))"
   ]
  },
  {
   "cell_type": "code",
   "execution_count": 90,
   "id": "28ed256d",
   "metadata": {
    "scrolled": true
   },
   "outputs": [],
   "source": [
    "dfa['album_artists_popularity'] = dfa['album_artists_popularity'].apply(lambda v: eval(v))"
   ]
  },
  {
   "cell_type": "code",
   "execution_count": 91,
   "id": "cd0db4b1",
   "metadata": {
    "scrolled": true
   },
   "outputs": [],
   "source": [
    "dfa['album_artists_followers'] = dfa['album_artists_followers'].apply(lambda v: eval(v))"
   ]
  },
  {
   "cell_type": "markdown",
   "id": "0941895a",
   "metadata": {},
   "source": [
    "#### Eval genre lists for proper list format"
   ]
  },
  {
   "cell_type": "code",
   "execution_count": 92,
   "id": "28d8742c",
   "metadata": {
    "scrolled": true
   },
   "outputs": [],
   "source": [
    "dfa['album_artists_genres'] = dfa['album_artists_genres'].apply(lambda v: eval(v))"
   ]
  },
  {
   "cell_type": "markdown",
   "id": "a1adcf32",
   "metadata": {},
   "source": [
    "## Wrangle genres"
   ]
  },
  {
   "cell_type": "markdown",
   "id": "bdd03ecc",
   "metadata": {},
   "source": [
    "### Select primary track artist, artist id, popularity, followers from list"
   ]
  },
  {
   "cell_type": "markdown",
   "id": "4f7f3acb",
   "metadata": {},
   "source": [
    "#### Primary artist selection"
   ]
  },
  {
   "cell_type": "code",
   "execution_count": 93,
   "id": "499e0d47",
   "metadata": {
    "scrolled": false
   },
   "outputs": [],
   "source": [
    "track_artists_list = list(df[\"track_artists\"])"
   ]
  },
  {
   "cell_type": "code",
   "execution_count": 94,
   "id": "31253993",
   "metadata": {
    "scrolled": true
   },
   "outputs": [],
   "source": [
    "artist_list = [original_list[0] for original_list in track_artists_list]"
   ]
  },
  {
   "cell_type": "code",
   "execution_count": 95,
   "id": "dcc8304a",
   "metadata": {
    "scrolled": true
   },
   "outputs": [],
   "source": [
    "df[\"track_artist\"] = artist_list"
   ]
  },
  {
   "cell_type": "code",
   "execution_count": 96,
   "id": "cc761fb7",
   "metadata": {
    "scrolled": true
   },
   "outputs": [],
   "source": [
    "album_artists_list = list(dfa['track_artists'])"
   ]
  },
  {
   "cell_type": "code",
   "execution_count": 97,
   "id": "86d186bd",
   "metadata": {
    "scrolled": true
   },
   "outputs": [],
   "source": [
    "album_artist_list = [original_list[0] for original_list in album_artists_list]"
   ]
  },
  {
   "cell_type": "code",
   "execution_count": 98,
   "id": "4f777fb2",
   "metadata": {
    "scrolled": true
   },
   "outputs": [],
   "source": [
    "dfa[\"album_artist\"] = album_artist_list"
   ]
  },
  {
   "cell_type": "markdown",
   "id": "cc6492bc",
   "metadata": {},
   "source": [
    "#### Primary artist id selection"
   ]
  },
  {
   "cell_type": "code",
   "execution_count": 99,
   "id": "7f815036",
   "metadata": {
    "scrolled": false
   },
   "outputs": [],
   "source": [
    "track_artists_ids_list = list(df[\"track_artists_ids\"])"
   ]
  },
  {
   "cell_type": "code",
   "execution_count": 100,
   "id": "b651b2dd",
   "metadata": {
    "scrolled": true
   },
   "outputs": [],
   "source": [
    "artist_id_list = [original_list[0] for original_list in track_artists_ids_list]"
   ]
  },
  {
   "cell_type": "code",
   "execution_count": 101,
   "id": "104d33d0",
   "metadata": {
    "scrolled": true
   },
   "outputs": [],
   "source": [
    "df[\"track_artist_id\"] = artist_id_list"
   ]
  },
  {
   "cell_type": "markdown",
   "id": "9a2c278b",
   "metadata": {},
   "source": [
    "#### Primary artist popularity selection"
   ]
  },
  {
   "cell_type": "code",
   "execution_count": 102,
   "id": "381a2344",
   "metadata": {
    "scrolled": false
   },
   "outputs": [],
   "source": [
    "track_artists_popularity_list = list(df[\"track_artists_popularity\"])"
   ]
  },
  {
   "cell_type": "code",
   "execution_count": 103,
   "id": "f6108113",
   "metadata": {
    "scrolled": true
   },
   "outputs": [],
   "source": [
    "artist_popularity_list = [original_list[0] for original_list in track_artists_popularity_list]"
   ]
  },
  {
   "cell_type": "code",
   "execution_count": 104,
   "id": "fad90c3b",
   "metadata": {
    "scrolled": true
   },
   "outputs": [],
   "source": [
    "df[\"track_artist_popularity\"] = artist_popularity_list"
   ]
  },
  {
   "cell_type": "markdown",
   "id": "61b2dd0f",
   "metadata": {},
   "source": [
    "#### Primary artist followers selection"
   ]
  },
  {
   "cell_type": "code",
   "execution_count": 105,
   "id": "f00c2c12",
   "metadata": {
    "scrolled": false
   },
   "outputs": [],
   "source": [
    "track_artists_followers_list = list(df[\"track_artists_followers\"])"
   ]
  },
  {
   "cell_type": "code",
   "execution_count": 106,
   "id": "950d6fdd",
   "metadata": {
    "scrolled": true
   },
   "outputs": [],
   "source": [
    "artist_followers_list = [original_list[0] for original_list in track_artists_followers_list]"
   ]
  },
  {
   "cell_type": "code",
   "execution_count": 107,
   "id": "043dfd2d",
   "metadata": {
    "scrolled": true
   },
   "outputs": [],
   "source": [
    "df[\"track_artist_followers\"] = artist_followers_list"
   ]
  },
  {
   "cell_type": "markdown",
   "id": "22f11040",
   "metadata": {},
   "source": [
    "### Reshape track_artists_genres"
   ]
  },
  {
   "cell_type": "markdown",
   "id": "dd314142",
   "metadata": {},
   "source": [
    "#### Create dictionary to contain oldgenre:new genre pairs"
   ]
  },
  {
   "cell_type": "code",
   "execution_count": 108,
   "id": "4a7ebca9",
   "metadata": {
    "scrolled": true
   },
   "outputs": [],
   "source": [
    "genres_dict = {}"
   ]
  },
  {
   "cell_type": "markdown",
   "id": "5f145662",
   "metadata": {},
   "source": [
    "#### Loop though table to add to dictionary of pairs"
   ]
  },
  {
   "cell_type": "code",
   "execution_count": 110,
   "id": "68cee3d1",
   "metadata": {
    "scrolled": true
   },
   "outputs": [],
   "source": [
    "for index in genres_df.index:\n",
    "    genres_dict[genres_df.iloc[index,0]] = genres_df.iloc[index,1]"
   ]
  },
  {
   "cell_type": "markdown",
   "id": "37b8f30b",
   "metadata": {},
   "source": [
    "#### Create list of track_artists_genres variable"
   ]
  },
  {
   "cell_type": "code",
   "execution_count": 111,
   "id": "0f951ae2",
   "metadata": {
    "scrolled": false
   },
   "outputs": [],
   "source": [
    "track_artists_genres_list = list(df[\"track_artists_genres\"])"
   ]
  },
  {
   "cell_type": "markdown",
   "id": "c3ce11b0",
   "metadata": {},
   "source": [
    "#### Select the first artist's genre list only if the cell value is a list of genre lists for multiple artists, otherwise return just the single artist's genre list if there's only one."
   ]
  },
  {
   "cell_type": "code",
   "execution_count": 112,
   "id": "d00dc708",
   "metadata": {
    "scrolled": true
   },
   "outputs": [],
   "source": [
    "reshaped_list = [original_list[0] if type(original_list[0]) == list else original_list for original_list in track_artists_genres_list]"
   ]
  },
  {
   "cell_type": "code",
   "execution_count": 113,
   "id": "9eb71865",
   "metadata": {
    "scrolled": true
   },
   "outputs": [],
   "source": [
    "df[\"track_artists_genres\"] = reshaped_list"
   ]
  },
  {
   "cell_type": "markdown",
   "id": "e881fa92",
   "metadata": {},
   "source": [
    "#### Consolidate track_artists_genres by replacing old genres with new genres"
   ]
  },
  {
   "cell_type": "code",
   "execution_count": 114,
   "id": "b0bd732e",
   "metadata": {
    "scrolled": true
   },
   "outputs": [],
   "source": [
    "df[\"track_artists_genres_consolidate\"] = df[\"track_artists_genres\"].apply(lambda l: [genres_dict.get(v) for v in l])"
   ]
  },
  {
   "cell_type": "markdown",
   "id": "39977aa8",
   "metadata": {},
   "source": [
    "#### Select the first new genre as primary genre"
   ]
  },
  {
   "cell_type": "code",
   "execution_count": 115,
   "id": "560904f2",
   "metadata": {
    "scrolled": true
   },
   "outputs": [
    {
     "data": {
      "text/plain": [
       "'Hip-hop'"
      ]
     },
     "execution_count": 115,
     "metadata": {},
     "output_type": "execute_result"
    }
   ],
   "source": [
    "main_genre_list = list(df[\"track_artists_genres_consolidate\"])\n",
    "test_genre = main_genre_list[75]\n",
    "test_genre[0]"
   ]
  },
  {
   "cell_type": "code",
   "execution_count": 116,
   "id": "95792464",
   "metadata": {
    "scrolled": true
   },
   "outputs": [],
   "source": [
    "reshaped_main_genre_list = [original_list[0] if original_list else \"No Genre Assigned\" for original_list in main_genre_list]"
   ]
  },
  {
   "cell_type": "code",
   "execution_count": 117,
   "id": "c967faa9",
   "metadata": {
    "scrolled": true
   },
   "outputs": [],
   "source": [
    "df['main_genre'] = reshaped_main_genre_list"
   ]
  },
  {
   "cell_type": "markdown",
   "id": "6b1f6aad",
   "metadata": {},
   "source": [
    "#### Add genre information for albums without a genre assigned"
   ]
  },
  {
   "cell_type": "code",
   "execution_count": 118,
   "id": "24aa6eb2",
   "metadata": {},
   "outputs": [],
   "source": [
    "df_unassigned = df.loc[df['main_genre'] == 'No Genre Assigned']"
   ]
  },
  {
   "cell_type": "code",
   "execution_count": 119,
   "id": "b1faed6e",
   "metadata": {},
   "outputs": [
    {
     "data": {
      "text/plain": [
       "array(['Moana (Original Motion Picture Soundtrack/Deluxe Edition)',\n",
       "       'The Greatest Showman (Original Motion Picture Soundtrack)',\n",
       "       'Frozen 2 (Original Motion Picture Soundtrack/Deluxe Edition)',\n",
       "       'Frozen (Original Motion Picture Soundtrack / Deluxe Edition)',\n",
       "       'Spider-Man: Into the Spider-Verse (Soundtrack From & Inspired by the Motion Picture)',\n",
       "       'Aladdin (Original Motion Picture Soundtrack)',\n",
       "       'Love, Simon (Original Motion Picture Soundtrack)',\n",
       "       'Fifty Shades Freed (Original Motion Picture Soundtrack)',\n",
       "       'The Fate of the Furious: The Album', 'Suicide Squad: The Album',\n",
       "       'Vol. 2 Guardians of the Galaxy: Awesome Mix Vol. 2 (Original Motion Picture Soundtrack)',\n",
       "       'Beauty and the Beast (Original Motion Picture Soundtrack/Deluxe Edition)',\n",
       "       'Sing (Original Motion Picture Soundtrack / Deluxe)',\n",
       "       'Fifty Shades Darker (Original Motion Picture Soundtrack)',\n",
       "       'EPIC AF', \"NOW That's What I Call Music, Vol. 61\",\n",
       "       'Descendants 2 (Original TV Movie Soundtrack)',\n",
       "       \"NOW That's What I Call Music, Vol. 62\", 'EPIC LIT'], dtype=object)"
      ]
     },
     "execution_count": 119,
     "metadata": {},
     "output_type": "execute_result"
    }
   ],
   "source": [
    "df_unassigned['album_name'].unique()"
   ]
  },
  {
   "cell_type": "code",
   "execution_count": 120,
   "id": "c283f01b",
   "metadata": {},
   "outputs": [],
   "source": [
    "df.loc[df.album_name == 'Moana (Original Motion Picture Soundtrack/Deluxe Edition)', 'main_genre'] = \"Soundtrack\"\n",
    "df.loc[df.album_name == 'The Greatest Showman (Original Motion Picture Soundtrack)', 'main_genre'] = \"Soundtrack\"\n",
    "df.loc[df.album_name == 'Frozen 2 (Original Motion Picture Soundtrack/Deluxe Edition)', 'main_genre'] = \"Soundtrack\"\n",
    "df.loc[df.album_name == 'Frozen (Original Motion Picture Soundtrack / Deluxe Edition)', 'main_genre'] = \"Soundtrack\"\n",
    "df.loc[df.album_name == 'Spider-Man: Into the Spider-Verse (Soundtrack From & Inspired by the Motion Picture)', 'main_genre'] = \"Soundtrack\"\n",
    "df.loc[df.album_name == 'Aladdin (Original Motion Picture Soundtrack)', 'main_genre'] = \"Soundtrack\"\n",
    "df.loc[df.album_name == 'Love, Simon (Original Motion Picture Soundtrack)', 'main_genre'] = \"Soundtrack\"\n",
    "df.loc[df.album_name == 'Fifty Shades Freed (Original Motion Picture Soundtrack)', 'main_genre'] = \"Soundtrack\"\n",
    "df.loc[df.album_name == 'The Fate of the Furious: The Album', 'main_genre'] = \"Soundtrack\"\n",
    "df.loc[df.album_name == 'Suicide Squad: The Album', 'main_genre'] = \"Soundtrack\"\n",
    "df.loc[df.album_name == 'Vol. 2 Guardians of the Galaxy: Awesome Mix Vol. 2 (Original Motion Picture Soundtrack)', 'main_genre'] = \"Soundtrack\"\n",
    "df.loc[df.album_name == 'Sing (Original Motion Picture Soundtrack / Deluxe)', 'main_genre'] = \"Soundtrack\"\n",
    "df.loc[df.album_name == 'Fifty Shades Darker (Original Motion Picture Soundtrack)', 'main_genre'] = \"Soundtrack\"\n",
    "df.loc[df.album_name == 'Fifty Shades Darker (Original Motion Picture Soundtrack)', 'main_genre'] = \"Soundtrack\"\n",
    "df.loc[df.album_name == 'EPIC AF', 'main_genre'] = \"Hip-hop\"\n",
    "df.loc[df.album_name == 'Descendants 2 (Original TV Movie Soundtrack)', 'main_genre'] = \"Soundtrack\"\n",
    "df.loc[df.album_name == 'NOW That\\'s What I Call Music, Vol. 61', 'main_genre'] = \"Misc\"\n",
    "df.loc[df.album_name == 'NOW That\\'s What I Call Music, Vol. 62', 'main_genre'] = \"Misc\"\n",
    "df.loc[df.album_name == 'EPIC LIT', 'main_genre'] = \"Edm\"\n",
    "df.loc[df.album_name == 'Beauty and the Beast (Original Motion Picture Soundtrack/Deluxe Edition)', 'main_genre'] = \"Soundtrack\""
   ]
  },
  {
   "cell_type": "code",
   "execution_count": 121,
   "id": "fac4cb24",
   "metadata": {},
   "outputs": [
    {
     "data": {
      "text/plain": [
       "0"
      ]
     },
     "execution_count": 121,
     "metadata": {},
     "output_type": "execute_result"
    }
   ],
   "source": [
    "df_unassigned = df.loc[df['main_genre'] == 'No Genre Assigned']\n",
    "df_unassigned.shape[0]"
   ]
  },
  {
   "cell_type": "markdown",
   "id": "bd432c36",
   "metadata": {},
   "source": [
    "#### Function for dummy coding genre columns"
   ]
  },
  {
   "cell_type": "code",
   "execution_count": 122,
   "id": "90d1ee03",
   "metadata": {
    "scrolled": true
   },
   "outputs": [],
   "source": [
    "def dummy_code(l, new_col):\n",
    "    if new_col in l:\n",
    "        return(1)\n",
    "    else:\n",
    "        return(0)"
   ]
  },
  {
   "cell_type": "markdown",
   "id": "ea9f5453",
   "metadata": {},
   "source": [
    "#### Dummy code genre columns creating a column for each new genre with the 0/1 presence of that genre for this track"
   ]
  },
  {
   "cell_type": "code",
   "execution_count": 123,
   "id": "9201a6a0",
   "metadata": {
    "scrolled": true
   },
   "outputs": [],
   "source": [
    "for new_col in genres_df['New Genre'].unique():\n",
    "    df[new_col] = df[\"track_artists_genres_consolidate\"].apply(lambda v: dummy_code(v, new_col))"
   ]
  },
  {
   "cell_type": "markdown",
   "id": "5c47c533",
   "metadata": {},
   "source": [
    "#### Wrangle release date format"
   ]
  },
  {
   "cell_type": "code",
   "execution_count": 124,
   "id": "4197d15c",
   "metadata": {},
   "outputs": [],
   "source": [
    "dfa['release_date_datetime'] = pd.to_datetime(dfa['album_release_date'], format='%Y-%m-%d')\n",
    "dfa['release_year'] = dfa['release_date_datetime'].dt.year"
   ]
  },
  {
   "cell_type": "markdown",
   "id": "671361bb",
   "metadata": {},
   "source": [
    "#### Export to csv"
   ]
  },
  {
   "cell_type": "code",
   "execution_count": 125,
   "id": "ec4a8bca",
   "metadata": {
    "scrolled": true
   },
   "outputs": [],
   "source": [
    "df.to_csv(\"../data/AllChartAlbumTracksRecoded.csv\", index=False)"
   ]
  },
  {
   "cell_type": "code",
   "execution_count": 126,
   "id": "2b674eeb",
   "metadata": {
    "scrolled": true
   },
   "outputs": [],
   "source": [
    "dfa.to_csv(\"../data/MasterChartTableRecoded.csv\", index=False)"
   ]
  },
  {
   "cell_type": "markdown",
   "id": "66c2e5e6",
   "metadata": {
    "scrolled": true
   },
   "source": [
    "#### Create new table with chart year column"
   ]
  },
  {
   "cell_type": "code",
   "execution_count": 127,
   "id": "4c1cd945",
   "metadata": {},
   "outputs": [
    {
     "data": {
      "text/html": [
       "<div>\n",
       "<style scoped>\n",
       "    .dataframe tbody tr th:only-of-type {\n",
       "        vertical-align: middle;\n",
       "    }\n",
       "\n",
       "    .dataframe tbody tr th {\n",
       "        vertical-align: top;\n",
       "    }\n",
       "\n",
       "    .dataframe thead th {\n",
       "        text-align: right;\n",
       "    }\n",
       "</style>\n",
       "<table border=\"1\" class=\"dataframe\">\n",
       "  <thead>\n",
       "    <tr style=\"text-align: right;\">\n",
       "      <th></th>\n",
       "      <th>playlist_id</th>\n",
       "      <th>playlist_name</th>\n",
       "      <th>position</th>\n",
       "      <th>album_name</th>\n",
       "      <th>album_id</th>\n",
       "      <th>album_release_date</th>\n",
       "      <th>album_artists</th>\n",
       "      <th>album_artists_ids</th>\n",
       "      <th>album_artists_genres</th>\n",
       "      <th>album_artists_popularity</th>\n",
       "      <th>album_artists_followers</th>\n",
       "      <th>track_name</th>\n",
       "      <th>track_id</th>\n",
       "      <th>track_popularity</th>\n",
       "      <th>track_artists</th>\n",
       "      <th>track_artists_ids</th>\n",
       "      <th>track_artists_genres</th>\n",
       "      <th>track_artists_popularity</th>\n",
       "      <th>track_explicit</th>\n",
       "      <th>track_artists_followers</th>\n",
       "      <th>danceability</th>\n",
       "      <th>energy</th>\n",
       "      <th>key</th>\n",
       "      <th>speechiness</th>\n",
       "      <th>loudness</th>\n",
       "      <th>mode</th>\n",
       "      <th>acousticness</th>\n",
       "      <th>instrumentalness</th>\n",
       "      <th>liveness</th>\n",
       "      <th>valence</th>\n",
       "      <th>tempo</th>\n",
       "      <th>duration_ms</th>\n",
       "      <th>time_signature</th>\n",
       "      <th>album_artist</th>\n",
       "      <th>release_date_datetime</th>\n",
       "      <th>release_year</th>\n",
       "      <th>chart_year</th>\n",
       "    </tr>\n",
       "  </thead>\n",
       "  <tbody>\n",
       "    <tr>\n",
       "      <th>0</th>\n",
       "      <td>3avCwQPH6DkhMTRsizon7N</td>\n",
       "      <td>Billboard 200 Top Albums 2021</td>\n",
       "      <td>1</td>\n",
       "      <td>Dangerous: The Double Album</td>\n",
       "      <td>1qW1C4kDOXnrly22daHbxz</td>\n",
       "      <td>2021-01-08</td>\n",
       "      <td>Morgan Wallen</td>\n",
       "      <td>[4oUHIQIBe0LHzYfvXNW4QM]</td>\n",
       "      <td>[[contemporary country]]</td>\n",
       "      <td>[86]</td>\n",
       "      <td>[2789002]</td>\n",
       "      <td>More Than My Hometown</td>\n",
       "      <td>65mMCEOu5Ll1DBAfEUmerU</td>\n",
       "      <td>34</td>\n",
       "      <td>[Morgan Wallen]</td>\n",
       "      <td>[4oUHIQIBe0LHzYfvXNW4QM]</td>\n",
       "      <td>[[contemporary country]]</td>\n",
       "      <td>[86]</td>\n",
       "      <td>False</td>\n",
       "      <td>[2789002]</td>\n",
       "      <td>0.621</td>\n",
       "      <td>0.868</td>\n",
       "      <td>6</td>\n",
       "      <td>0.0460</td>\n",
       "      <td>-5.478</td>\n",
       "      <td>1</td>\n",
       "      <td>0.617000</td>\n",
       "      <td>0.000000</td>\n",
       "      <td>0.131</td>\n",
       "      <td>0.594</td>\n",
       "      <td>126.010</td>\n",
       "      <td>216573</td>\n",
       "      <td>4</td>\n",
       "      <td>Morgan Wallen</td>\n",
       "      <td>2021-01-08</td>\n",
       "      <td>2021</td>\n",
       "      <td>2021</td>\n",
       "    </tr>\n",
       "    <tr>\n",
       "      <th>1</th>\n",
       "      <td>3avCwQPH6DkhMTRsizon7N</td>\n",
       "      <td>Billboard 200 Top Albums 2021</td>\n",
       "      <td>2</td>\n",
       "      <td>SOUR</td>\n",
       "      <td>6s84u2TUpR3wdUv4NgKA2j</td>\n",
       "      <td>2021-05-21</td>\n",
       "      <td>['Olivia Rodrigo']</td>\n",
       "      <td>[1McMsnEElThX1knmY4oliG]</td>\n",
       "      <td>[[pop]]</td>\n",
       "      <td>[91]</td>\n",
       "      <td>[12849364]</td>\n",
       "      <td>drivers license</td>\n",
       "      <td>5wANPM4fQCJwkGd4rN57mH</td>\n",
       "      <td>92</td>\n",
       "      <td>[Olivia Rodrigo]</td>\n",
       "      <td>[1McMsnEElThX1knmY4oliG]</td>\n",
       "      <td>[[pop]]</td>\n",
       "      <td>[91]</td>\n",
       "      <td>True</td>\n",
       "      <td>[12849364]</td>\n",
       "      <td>0.561</td>\n",
       "      <td>0.431</td>\n",
       "      <td>10</td>\n",
       "      <td>0.0578</td>\n",
       "      <td>-8.810</td>\n",
       "      <td>1</td>\n",
       "      <td>0.768000</td>\n",
       "      <td>0.000014</td>\n",
       "      <td>0.106</td>\n",
       "      <td>0.137</td>\n",
       "      <td>143.875</td>\n",
       "      <td>242013</td>\n",
       "      <td>4</td>\n",
       "      <td>Olivia Rodrigo</td>\n",
       "      <td>2021-05-21</td>\n",
       "      <td>2021</td>\n",
       "      <td>2021</td>\n",
       "    </tr>\n",
       "    <tr>\n",
       "      <th>2</th>\n",
       "      <td>3avCwQPH6DkhMTRsizon7N</td>\n",
       "      <td>Billboard 200 Top Albums 2021</td>\n",
       "      <td>3</td>\n",
       "      <td>Shoot For The Stars Aim For The Moon</td>\n",
       "      <td>7e7t0MCrNDcJZsPwUKjmOc</td>\n",
       "      <td>2020-07-03</td>\n",
       "      <td>['Pop Smoke']</td>\n",
       "      <td>[0eDvMgVFoNV3TpwtrVCoTj]</td>\n",
       "      <td>[[brooklyn drill]]</td>\n",
       "      <td>[89]</td>\n",
       "      <td>[8935893]</td>\n",
       "      <td>What You Know Bout Love</td>\n",
       "      <td>1tkg4EHVoqnhR6iFEXb60y</td>\n",
       "      <td>85</td>\n",
       "      <td>[Pop Smoke]</td>\n",
       "      <td>[0eDvMgVFoNV3TpwtrVCoTj]</td>\n",
       "      <td>[[brooklyn drill]]</td>\n",
       "      <td>[89]</td>\n",
       "      <td>True</td>\n",
       "      <td>[8935893]</td>\n",
       "      <td>0.709</td>\n",
       "      <td>0.548</td>\n",
       "      <td>10</td>\n",
       "      <td>0.3530</td>\n",
       "      <td>-8.493</td>\n",
       "      <td>1</td>\n",
       "      <td>0.650000</td>\n",
       "      <td>0.000002</td>\n",
       "      <td>0.133</td>\n",
       "      <td>0.543</td>\n",
       "      <td>83.995</td>\n",
       "      <td>160000</td>\n",
       "      <td>4</td>\n",
       "      <td>Pop Smoke</td>\n",
       "      <td>2020-07-03</td>\n",
       "      <td>2020</td>\n",
       "      <td>2021</td>\n",
       "    </tr>\n",
       "    <tr>\n",
       "      <th>3</th>\n",
       "      <td>3avCwQPH6DkhMTRsizon7N</td>\n",
       "      <td>Billboard 200 Top Albums 2021</td>\n",
       "      <td>4</td>\n",
       "      <td>evermore</td>\n",
       "      <td>2Xoteh7uEpea4TohMxjtaq</td>\n",
       "      <td>2020-12-11</td>\n",
       "      <td>['Taylor Swift']</td>\n",
       "      <td>[06HL4z0CvFAxyc27GXpf02]</td>\n",
       "      <td>[[pop]]</td>\n",
       "      <td>[98]</td>\n",
       "      <td>[48097228]</td>\n",
       "      <td>willow</td>\n",
       "      <td>0lx2cLdOt3piJbcaXIV74f</td>\n",
       "      <td>82</td>\n",
       "      <td>[Taylor Swift]</td>\n",
       "      <td>[06HL4z0CvFAxyc27GXpf02]</td>\n",
       "      <td>[[pop]]</td>\n",
       "      <td>[98]</td>\n",
       "      <td>False</td>\n",
       "      <td>[48097228]</td>\n",
       "      <td>0.392</td>\n",
       "      <td>0.574</td>\n",
       "      <td>7</td>\n",
       "      <td>0.1700</td>\n",
       "      <td>-9.195</td>\n",
       "      <td>1</td>\n",
       "      <td>0.833000</td>\n",
       "      <td>0.001790</td>\n",
       "      <td>0.145</td>\n",
       "      <td>0.529</td>\n",
       "      <td>81.112</td>\n",
       "      <td>214707</td>\n",
       "      <td>4</td>\n",
       "      <td>Taylor Swift</td>\n",
       "      <td>2020-12-11</td>\n",
       "      <td>2020</td>\n",
       "      <td>2021</td>\n",
       "    </tr>\n",
       "    <tr>\n",
       "      <th>4</th>\n",
       "      <td>3avCwQPH6DkhMTRsizon7N</td>\n",
       "      <td>Billboard 200 Top Albums 2021</td>\n",
       "      <td>5</td>\n",
       "      <td>Certified Lover Boy</td>\n",
       "      <td>3SpBlxme9WbeQdI9kx7KAV</td>\n",
       "      <td>2021-09-03</td>\n",
       "      <td>['Drake']</td>\n",
       "      <td>[3TVXtAsR1Inumwj472S9r4]</td>\n",
       "      <td>[[canadian hip hop, canadian pop, hip hop, rap...</td>\n",
       "      <td>[98]</td>\n",
       "      <td>[60310746]</td>\n",
       "      <td>Way 2 Sexy (with Future &amp; Young Thug)</td>\n",
       "      <td>0k1WUmIRnG3xU6fvvDVfRG</td>\n",
       "      <td>88</td>\n",
       "      <td>[Drake, Future, Young Thug]</td>\n",
       "      <td>[3TVXtAsR1Inumwj472S9r4]</td>\n",
       "      <td>[[canadian hip hop, canadian pop, hip hop, rap...</td>\n",
       "      <td>[98]</td>\n",
       "      <td>True</td>\n",
       "      <td>[60310746]</td>\n",
       "      <td>0.803</td>\n",
       "      <td>0.597</td>\n",
       "      <td>11</td>\n",
       "      <td>0.1410</td>\n",
       "      <td>-6.035</td>\n",
       "      <td>0</td>\n",
       "      <td>0.000619</td>\n",
       "      <td>0.000005</td>\n",
       "      <td>0.323</td>\n",
       "      <td>0.331</td>\n",
       "      <td>136.008</td>\n",
       "      <td>257605</td>\n",
       "      <td>4</td>\n",
       "      <td>Drake</td>\n",
       "      <td>2021-09-03</td>\n",
       "      <td>2021</td>\n",
       "      <td>2021</td>\n",
       "    </tr>\n",
       "  </tbody>\n",
       "</table>\n",
       "</div>"
      ],
      "text/plain": [
       "              playlist_id                  playlist_name  position  \\\n",
       "0  3avCwQPH6DkhMTRsizon7N  Billboard 200 Top Albums 2021         1   \n",
       "1  3avCwQPH6DkhMTRsizon7N  Billboard 200 Top Albums 2021         2   \n",
       "2  3avCwQPH6DkhMTRsizon7N  Billboard 200 Top Albums 2021         3   \n",
       "3  3avCwQPH6DkhMTRsizon7N  Billboard 200 Top Albums 2021         4   \n",
       "4  3avCwQPH6DkhMTRsizon7N  Billboard 200 Top Albums 2021         5   \n",
       "\n",
       "                             album_name                album_id  \\\n",
       "0           Dangerous: The Double Album  1qW1C4kDOXnrly22daHbxz   \n",
       "1                                  SOUR  6s84u2TUpR3wdUv4NgKA2j   \n",
       "2  Shoot For The Stars Aim For The Moon  7e7t0MCrNDcJZsPwUKjmOc   \n",
       "3                              evermore  2Xoteh7uEpea4TohMxjtaq   \n",
       "4                   Certified Lover Boy  3SpBlxme9WbeQdI9kx7KAV   \n",
       "\n",
       "  album_release_date       album_artists         album_artists_ids  \\\n",
       "0         2021-01-08       Morgan Wallen  [4oUHIQIBe0LHzYfvXNW4QM]   \n",
       "1         2021-05-21  ['Olivia Rodrigo']  [1McMsnEElThX1knmY4oliG]   \n",
       "2         2020-07-03       ['Pop Smoke']  [0eDvMgVFoNV3TpwtrVCoTj]   \n",
       "3         2020-12-11    ['Taylor Swift']  [06HL4z0CvFAxyc27GXpf02]   \n",
       "4         2021-09-03           ['Drake']  [3TVXtAsR1Inumwj472S9r4]   \n",
       "\n",
       "                                album_artists_genres album_artists_popularity  \\\n",
       "0                           [[contemporary country]]                     [86]   \n",
       "1                                            [[pop]]                     [91]   \n",
       "2                                 [[brooklyn drill]]                     [89]   \n",
       "3                                            [[pop]]                     [98]   \n",
       "4  [[canadian hip hop, canadian pop, hip hop, rap...                     [98]   \n",
       "\n",
       "  album_artists_followers                             track_name  \\\n",
       "0               [2789002]                  More Than My Hometown   \n",
       "1              [12849364]                        drivers license   \n",
       "2               [8935893]                What You Know Bout Love   \n",
       "3              [48097228]                                 willow   \n",
       "4              [60310746]  Way 2 Sexy (with Future & Young Thug)   \n",
       "\n",
       "                 track_id  track_popularity                track_artists  \\\n",
       "0  65mMCEOu5Ll1DBAfEUmerU                34              [Morgan Wallen]   \n",
       "1  5wANPM4fQCJwkGd4rN57mH                92             [Olivia Rodrigo]   \n",
       "2  1tkg4EHVoqnhR6iFEXb60y                85                  [Pop Smoke]   \n",
       "3  0lx2cLdOt3piJbcaXIV74f                82               [Taylor Swift]   \n",
       "4  0k1WUmIRnG3xU6fvvDVfRG                88  [Drake, Future, Young Thug]   \n",
       "\n",
       "          track_artists_ids  \\\n",
       "0  [4oUHIQIBe0LHzYfvXNW4QM]   \n",
       "1  [1McMsnEElThX1knmY4oliG]   \n",
       "2  [0eDvMgVFoNV3TpwtrVCoTj]   \n",
       "3  [06HL4z0CvFAxyc27GXpf02]   \n",
       "4  [3TVXtAsR1Inumwj472S9r4]   \n",
       "\n",
       "                                track_artists_genres track_artists_popularity  \\\n",
       "0                           [[contemporary country]]                     [86]   \n",
       "1                                            [[pop]]                     [91]   \n",
       "2                                 [[brooklyn drill]]                     [89]   \n",
       "3                                            [[pop]]                     [98]   \n",
       "4  [[canadian hip hop, canadian pop, hip hop, rap...                     [98]   \n",
       "\n",
       "   track_explicit track_artists_followers  danceability  energy  key  \\\n",
       "0           False               [2789002]         0.621   0.868    6   \n",
       "1            True              [12849364]         0.561   0.431   10   \n",
       "2            True               [8935893]         0.709   0.548   10   \n",
       "3           False              [48097228]         0.392   0.574    7   \n",
       "4            True              [60310746]         0.803   0.597   11   \n",
       "\n",
       "   speechiness  loudness  mode  acousticness  instrumentalness  liveness  \\\n",
       "0       0.0460    -5.478     1      0.617000          0.000000     0.131   \n",
       "1       0.0578    -8.810     1      0.768000          0.000014     0.106   \n",
       "2       0.3530    -8.493     1      0.650000          0.000002     0.133   \n",
       "3       0.1700    -9.195     1      0.833000          0.001790     0.145   \n",
       "4       0.1410    -6.035     0      0.000619          0.000005     0.323   \n",
       "\n",
       "   valence    tempo  duration_ms  time_signature    album_artist  \\\n",
       "0    0.594  126.010       216573               4   Morgan Wallen   \n",
       "1    0.137  143.875       242013               4  Olivia Rodrigo   \n",
       "2    0.543   83.995       160000               4       Pop Smoke   \n",
       "3    0.529   81.112       214707               4    Taylor Swift   \n",
       "4    0.331  136.008       257605               4           Drake   \n",
       "\n",
       "  release_date_datetime  release_year chart_year  \n",
       "0            2021-01-08          2021       2021  \n",
       "1            2021-05-21          2021       2021  \n",
       "2            2020-07-03          2020       2021  \n",
       "3            2020-12-11          2020       2021  \n",
       "4            2021-09-03          2021       2021  "
      ]
     },
     "execution_count": 127,
     "metadata": {},
     "output_type": "execute_result"
    }
   ],
   "source": [
    "df6 = dfa\n",
    "# create a list of conditions for recoding \n",
    "conditions = [\n",
    "    (df6['playlist_name'] == \"Billboard 200 Top Albums 2021\"),\n",
    "    (df6['playlist_name'] == \"Billboard 200 Top Albums 2020\"),\n",
    "    (df6['playlist_name'] == \"Billboard 200 Top Albums 2019\"),\n",
    "    (df6['playlist_name'] == \"Billboard 200 Top Albums 2018\"),\n",
    "    (df6['playlist_name'] == \"Billboard 200 Top Albums 2017\")\n",
    "    ]\n",
    "\n",
    "# create a list of the values we want to assign for each condition\n",
    "values = ['2021', '2020', '2019', '2018', '2017']\n",
    "\n",
    "# create a new column and use np.select to assign values to it using our lists as arguments\n",
    "df6['chart_year'] = np.select(conditions, values)\n",
    "\n",
    "# display updated DataFrame\n",
    "df6.head()"
   ]
  },
  {
   "cell_type": "markdown",
   "id": "75d645ca",
   "metadata": {},
   "source": [
    "Join recoded table with track table for dummy coded values and genre"
   ]
  },
  {
   "cell_type": "code",
   "execution_count": 128,
   "id": "5dc66568",
   "metadata": {},
   "outputs": [
    {
     "data": {
      "text/html": [
       "<div>\n",
       "<style scoped>\n",
       "    .dataframe tbody tr th:only-of-type {\n",
       "        vertical-align: middle;\n",
       "    }\n",
       "\n",
       "    .dataframe tbody tr th {\n",
       "        vertical-align: top;\n",
       "    }\n",
       "\n",
       "    .dataframe thead th {\n",
       "        text-align: right;\n",
       "    }\n",
       "</style>\n",
       "<table border=\"1\" class=\"dataframe\">\n",
       "  <thead>\n",
       "    <tr style=\"text-align: right;\">\n",
       "      <th></th>\n",
       "      <th>playlist_id</th>\n",
       "      <th>playlist_name</th>\n",
       "      <th>position</th>\n",
       "      <th>album_name</th>\n",
       "      <th>album_id</th>\n",
       "      <th>album_release_date</th>\n",
       "      <th>album_artists</th>\n",
       "      <th>album_artists_ids</th>\n",
       "      <th>album_artists_genres</th>\n",
       "      <th>album_artists_popularity</th>\n",
       "      <th>album_artists_followers</th>\n",
       "      <th>track_name</th>\n",
       "      <th>track_id</th>\n",
       "      <th>track_popularity</th>\n",
       "      <th>track_artists</th>\n",
       "      <th>track_artists_ids</th>\n",
       "      <th>track_artists_genres</th>\n",
       "      <th>track_artists_popularity</th>\n",
       "      <th>track_explicit</th>\n",
       "      <th>track_artists_followers</th>\n",
       "      <th>danceability</th>\n",
       "      <th>energy</th>\n",
       "      <th>key</th>\n",
       "      <th>speechiness</th>\n",
       "      <th>loudness</th>\n",
       "      <th>mode</th>\n",
       "      <th>acousticness</th>\n",
       "      <th>instrumentalness</th>\n",
       "      <th>liveness</th>\n",
       "      <th>valence</th>\n",
       "      <th>tempo</th>\n",
       "      <th>duration_ms</th>\n",
       "      <th>time_signature</th>\n",
       "      <th>album_artist</th>\n",
       "      <th>release_date_datetime</th>\n",
       "      <th>release_year</th>\n",
       "      <th>chart_year</th>\n",
       "      <th>main_genre</th>\n",
       "    </tr>\n",
       "  </thead>\n",
       "  <tbody>\n",
       "    <tr>\n",
       "      <th>0</th>\n",
       "      <td>3avCwQPH6DkhMTRsizon7N</td>\n",
       "      <td>Billboard 200 Top Albums 2021</td>\n",
       "      <td>1</td>\n",
       "      <td>Dangerous: The Double Album</td>\n",
       "      <td>1qW1C4kDOXnrly22daHbxz</td>\n",
       "      <td>2021-01-08</td>\n",
       "      <td>Morgan Wallen</td>\n",
       "      <td>[4oUHIQIBe0LHzYfvXNW4QM]</td>\n",
       "      <td>[[contemporary country]]</td>\n",
       "      <td>[86]</td>\n",
       "      <td>[2789002]</td>\n",
       "      <td>More Than My Hometown</td>\n",
       "      <td>65mMCEOu5Ll1DBAfEUmerU</td>\n",
       "      <td>34</td>\n",
       "      <td>[Morgan Wallen]</td>\n",
       "      <td>[4oUHIQIBe0LHzYfvXNW4QM]</td>\n",
       "      <td>[[contemporary country]]</td>\n",
       "      <td>[86]</td>\n",
       "      <td>False</td>\n",
       "      <td>[2789002]</td>\n",
       "      <td>0.621</td>\n",
       "      <td>0.868</td>\n",
       "      <td>6</td>\n",
       "      <td>0.0460</td>\n",
       "      <td>-5.478</td>\n",
       "      <td>1</td>\n",
       "      <td>0.617</td>\n",
       "      <td>0.000000</td>\n",
       "      <td>0.131</td>\n",
       "      <td>0.594</td>\n",
       "      <td>126.010</td>\n",
       "      <td>216573</td>\n",
       "      <td>4</td>\n",
       "      <td>Morgan Wallen</td>\n",
       "      <td>2021-01-08</td>\n",
       "      <td>2021</td>\n",
       "      <td>2021</td>\n",
       "      <td>Country</td>\n",
       "    </tr>\n",
       "    <tr>\n",
       "      <th>1</th>\n",
       "      <td>3avCwQPH6DkhMTRsizon7N</td>\n",
       "      <td>Billboard 200 Top Albums 2021</td>\n",
       "      <td>2</td>\n",
       "      <td>SOUR</td>\n",
       "      <td>6s84u2TUpR3wdUv4NgKA2j</td>\n",
       "      <td>2021-05-21</td>\n",
       "      <td>['Olivia Rodrigo']</td>\n",
       "      <td>[1McMsnEElThX1knmY4oliG]</td>\n",
       "      <td>[[pop]]</td>\n",
       "      <td>[91]</td>\n",
       "      <td>[12849364]</td>\n",
       "      <td>drivers license</td>\n",
       "      <td>5wANPM4fQCJwkGd4rN57mH</td>\n",
       "      <td>92</td>\n",
       "      <td>[Olivia Rodrigo]</td>\n",
       "      <td>[1McMsnEElThX1knmY4oliG]</td>\n",
       "      <td>[[pop]]</td>\n",
       "      <td>[91]</td>\n",
       "      <td>True</td>\n",
       "      <td>[12849364]</td>\n",
       "      <td>0.561</td>\n",
       "      <td>0.431</td>\n",
       "      <td>10</td>\n",
       "      <td>0.0578</td>\n",
       "      <td>-8.810</td>\n",
       "      <td>1</td>\n",
       "      <td>0.768</td>\n",
       "      <td>0.000014</td>\n",
       "      <td>0.106</td>\n",
       "      <td>0.137</td>\n",
       "      <td>143.875</td>\n",
       "      <td>242013</td>\n",
       "      <td>4</td>\n",
       "      <td>Olivia Rodrigo</td>\n",
       "      <td>2021-05-21</td>\n",
       "      <td>2021</td>\n",
       "      <td>2021</td>\n",
       "      <td>Pop</td>\n",
       "    </tr>\n",
       "    <tr>\n",
       "      <th>2</th>\n",
       "      <td>3avCwQPH6DkhMTRsizon7N</td>\n",
       "      <td>Billboard 200 Top Albums 2021</td>\n",
       "      <td>3</td>\n",
       "      <td>Shoot For The Stars Aim For The Moon</td>\n",
       "      <td>7e7t0MCrNDcJZsPwUKjmOc</td>\n",
       "      <td>2020-07-03</td>\n",
       "      <td>['Pop Smoke']</td>\n",
       "      <td>[0eDvMgVFoNV3TpwtrVCoTj]</td>\n",
       "      <td>[[brooklyn drill]]</td>\n",
       "      <td>[89]</td>\n",
       "      <td>[8935893]</td>\n",
       "      <td>What You Know Bout Love</td>\n",
       "      <td>1tkg4EHVoqnhR6iFEXb60y</td>\n",
       "      <td>85</td>\n",
       "      <td>[Pop Smoke]</td>\n",
       "      <td>[0eDvMgVFoNV3TpwtrVCoTj]</td>\n",
       "      <td>[[brooklyn drill]]</td>\n",
       "      <td>[89]</td>\n",
       "      <td>True</td>\n",
       "      <td>[8935893]</td>\n",
       "      <td>0.709</td>\n",
       "      <td>0.548</td>\n",
       "      <td>10</td>\n",
       "      <td>0.3530</td>\n",
       "      <td>-8.493</td>\n",
       "      <td>1</td>\n",
       "      <td>0.650</td>\n",
       "      <td>0.000002</td>\n",
       "      <td>0.133</td>\n",
       "      <td>0.543</td>\n",
       "      <td>83.995</td>\n",
       "      <td>160000</td>\n",
       "      <td>4</td>\n",
       "      <td>Pop Smoke</td>\n",
       "      <td>2020-07-03</td>\n",
       "      <td>2020</td>\n",
       "      <td>2021</td>\n",
       "      <td>Hip-hop</td>\n",
       "    </tr>\n",
       "    <tr>\n",
       "      <th>3</th>\n",
       "      <td>1EEazdcjH0keT4sttGvH8c</td>\n",
       "      <td>Billboard 200 Top Albums 2020</td>\n",
       "      <td>7</td>\n",
       "      <td>Shoot For The Stars Aim For The Moon</td>\n",
       "      <td>7e7t0MCrNDcJZsPwUKjmOc</td>\n",
       "      <td>2020-07-03</td>\n",
       "      <td>['Pop Smoke']</td>\n",
       "      <td>[0eDvMgVFoNV3TpwtrVCoTj]</td>\n",
       "      <td>[[brooklyn drill]]</td>\n",
       "      <td>[89]</td>\n",
       "      <td>[8935893]</td>\n",
       "      <td>What You Know Bout Love</td>\n",
       "      <td>1tkg4EHVoqnhR6iFEXb60y</td>\n",
       "      <td>85</td>\n",
       "      <td>[Pop Smoke]</td>\n",
       "      <td>[0eDvMgVFoNV3TpwtrVCoTj]</td>\n",
       "      <td>[[brooklyn drill]]</td>\n",
       "      <td>[89]</td>\n",
       "      <td>True</td>\n",
       "      <td>[8935893]</td>\n",
       "      <td>0.709</td>\n",
       "      <td>0.548</td>\n",
       "      <td>10</td>\n",
       "      <td>0.3530</td>\n",
       "      <td>-8.493</td>\n",
       "      <td>1</td>\n",
       "      <td>0.650</td>\n",
       "      <td>0.000002</td>\n",
       "      <td>0.133</td>\n",
       "      <td>0.543</td>\n",
       "      <td>83.995</td>\n",
       "      <td>160000</td>\n",
       "      <td>4</td>\n",
       "      <td>Pop Smoke</td>\n",
       "      <td>2020-07-03</td>\n",
       "      <td>2020</td>\n",
       "      <td>2020</td>\n",
       "      <td>Hip-hop</td>\n",
       "    </tr>\n",
       "    <tr>\n",
       "      <th>4</th>\n",
       "      <td>3avCwQPH6DkhMTRsizon7N</td>\n",
       "      <td>Billboard 200 Top Albums 2021</td>\n",
       "      <td>4</td>\n",
       "      <td>evermore</td>\n",
       "      <td>2Xoteh7uEpea4TohMxjtaq</td>\n",
       "      <td>2020-12-11</td>\n",
       "      <td>['Taylor Swift']</td>\n",
       "      <td>[06HL4z0CvFAxyc27GXpf02]</td>\n",
       "      <td>[[pop]]</td>\n",
       "      <td>[98]</td>\n",
       "      <td>[48097228]</td>\n",
       "      <td>willow</td>\n",
       "      <td>0lx2cLdOt3piJbcaXIV74f</td>\n",
       "      <td>82</td>\n",
       "      <td>[Taylor Swift]</td>\n",
       "      <td>[06HL4z0CvFAxyc27GXpf02]</td>\n",
       "      <td>[[pop]]</td>\n",
       "      <td>[98]</td>\n",
       "      <td>False</td>\n",
       "      <td>[48097228]</td>\n",
       "      <td>0.392</td>\n",
       "      <td>0.574</td>\n",
       "      <td>7</td>\n",
       "      <td>0.1700</td>\n",
       "      <td>-9.195</td>\n",
       "      <td>1</td>\n",
       "      <td>0.833</td>\n",
       "      <td>0.001790</td>\n",
       "      <td>0.145</td>\n",
       "      <td>0.529</td>\n",
       "      <td>81.112</td>\n",
       "      <td>214707</td>\n",
       "      <td>4</td>\n",
       "      <td>Taylor Swift</td>\n",
       "      <td>2020-12-11</td>\n",
       "      <td>2020</td>\n",
       "      <td>2021</td>\n",
       "      <td>Pop</td>\n",
       "    </tr>\n",
       "  </tbody>\n",
       "</table>\n",
       "</div>"
      ],
      "text/plain": [
       "              playlist_id                  playlist_name  position  \\\n",
       "0  3avCwQPH6DkhMTRsizon7N  Billboard 200 Top Albums 2021         1   \n",
       "1  3avCwQPH6DkhMTRsizon7N  Billboard 200 Top Albums 2021         2   \n",
       "2  3avCwQPH6DkhMTRsizon7N  Billboard 200 Top Albums 2021         3   \n",
       "3  1EEazdcjH0keT4sttGvH8c  Billboard 200 Top Albums 2020         7   \n",
       "4  3avCwQPH6DkhMTRsizon7N  Billboard 200 Top Albums 2021         4   \n",
       "\n",
       "                             album_name                album_id  \\\n",
       "0           Dangerous: The Double Album  1qW1C4kDOXnrly22daHbxz   \n",
       "1                                  SOUR  6s84u2TUpR3wdUv4NgKA2j   \n",
       "2  Shoot For The Stars Aim For The Moon  7e7t0MCrNDcJZsPwUKjmOc   \n",
       "3  Shoot For The Stars Aim For The Moon  7e7t0MCrNDcJZsPwUKjmOc   \n",
       "4                              evermore  2Xoteh7uEpea4TohMxjtaq   \n",
       "\n",
       "  album_release_date       album_artists         album_artists_ids  \\\n",
       "0         2021-01-08       Morgan Wallen  [4oUHIQIBe0LHzYfvXNW4QM]   \n",
       "1         2021-05-21  ['Olivia Rodrigo']  [1McMsnEElThX1knmY4oliG]   \n",
       "2         2020-07-03       ['Pop Smoke']  [0eDvMgVFoNV3TpwtrVCoTj]   \n",
       "3         2020-07-03       ['Pop Smoke']  [0eDvMgVFoNV3TpwtrVCoTj]   \n",
       "4         2020-12-11    ['Taylor Swift']  [06HL4z0CvFAxyc27GXpf02]   \n",
       "\n",
       "       album_artists_genres album_artists_popularity album_artists_followers  \\\n",
       "0  [[contemporary country]]                     [86]               [2789002]   \n",
       "1                   [[pop]]                     [91]              [12849364]   \n",
       "2        [[brooklyn drill]]                     [89]               [8935893]   \n",
       "3        [[brooklyn drill]]                     [89]               [8935893]   \n",
       "4                   [[pop]]                     [98]              [48097228]   \n",
       "\n",
       "                track_name                track_id  track_popularity  \\\n",
       "0    More Than My Hometown  65mMCEOu5Ll1DBAfEUmerU                34   \n",
       "1          drivers license  5wANPM4fQCJwkGd4rN57mH                92   \n",
       "2  What You Know Bout Love  1tkg4EHVoqnhR6iFEXb60y                85   \n",
       "3  What You Know Bout Love  1tkg4EHVoqnhR6iFEXb60y                85   \n",
       "4                   willow  0lx2cLdOt3piJbcaXIV74f                82   \n",
       "\n",
       "      track_artists         track_artists_ids      track_artists_genres  \\\n",
       "0   [Morgan Wallen]  [4oUHIQIBe0LHzYfvXNW4QM]  [[contemporary country]]   \n",
       "1  [Olivia Rodrigo]  [1McMsnEElThX1knmY4oliG]                   [[pop]]   \n",
       "2       [Pop Smoke]  [0eDvMgVFoNV3TpwtrVCoTj]        [[brooklyn drill]]   \n",
       "3       [Pop Smoke]  [0eDvMgVFoNV3TpwtrVCoTj]        [[brooklyn drill]]   \n",
       "4    [Taylor Swift]  [06HL4z0CvFAxyc27GXpf02]                   [[pop]]   \n",
       "\n",
       "  track_artists_popularity  track_explicit track_artists_followers  \\\n",
       "0                     [86]           False               [2789002]   \n",
       "1                     [91]            True              [12849364]   \n",
       "2                     [89]            True               [8935893]   \n",
       "3                     [89]            True               [8935893]   \n",
       "4                     [98]           False              [48097228]   \n",
       "\n",
       "   danceability  energy  key  speechiness  loudness  mode  acousticness  \\\n",
       "0         0.621   0.868    6       0.0460    -5.478     1         0.617   \n",
       "1         0.561   0.431   10       0.0578    -8.810     1         0.768   \n",
       "2         0.709   0.548   10       0.3530    -8.493     1         0.650   \n",
       "3         0.709   0.548   10       0.3530    -8.493     1         0.650   \n",
       "4         0.392   0.574    7       0.1700    -9.195     1         0.833   \n",
       "\n",
       "   instrumentalness  liveness  valence    tempo  duration_ms  time_signature  \\\n",
       "0          0.000000     0.131    0.594  126.010       216573               4   \n",
       "1          0.000014     0.106    0.137  143.875       242013               4   \n",
       "2          0.000002     0.133    0.543   83.995       160000               4   \n",
       "3          0.000002     0.133    0.543   83.995       160000               4   \n",
       "4          0.001790     0.145    0.529   81.112       214707               4   \n",
       "\n",
       "     album_artist release_date_datetime  release_year chart_year main_genre  \n",
       "0   Morgan Wallen            2021-01-08          2021       2021    Country  \n",
       "1  Olivia Rodrigo            2021-05-21          2021       2021        Pop  \n",
       "2       Pop Smoke            2020-07-03          2020       2021    Hip-hop  \n",
       "3       Pop Smoke            2020-07-03          2020       2020    Hip-hop  \n",
       "4    Taylor Swift            2020-12-11          2020       2021        Pop  "
      ]
     },
     "execution_count": 128,
     "metadata": {},
     "output_type": "execute_result"
    }
   ],
   "source": [
    "df7 = pd.merge(df6, df[['main_genre', 'track_id']], on='track_id')\n",
    "df7.head()"
   ]
  },
  {
   "cell_type": "markdown",
   "id": "5b72b012",
   "metadata": {},
   "source": [
    "Output to csv for Tableau use"
   ]
  },
  {
   "cell_type": "code",
   "execution_count": 129,
   "id": "d8ef5c4a",
   "metadata": {},
   "outputs": [],
   "source": [
    "df7.to_csv('../data/MasterChartAlbumWithChartYear.csv', index=False)"
   ]
  },
  {
   "cell_type": "code",
   "execution_count": null,
   "id": "79632358",
   "metadata": {},
   "outputs": [],
   "source": []
  }
 ],
 "metadata": {
  "kernelspec": {
   "display_name": "Python 3",
   "language": "python",
   "name": "python3"
  },
  "language_info": {
   "codemirror_mode": {
    "name": "ipython",
    "version": 3
   },
   "file_extension": ".py",
   "mimetype": "text/x-python",
   "name": "python",
   "nbconvert_exporter": "python",
   "pygments_lexer": "ipython3",
   "version": "3.8.8"
  }
 },
 "nbformat": 4,
 "nbformat_minor": 5
}
