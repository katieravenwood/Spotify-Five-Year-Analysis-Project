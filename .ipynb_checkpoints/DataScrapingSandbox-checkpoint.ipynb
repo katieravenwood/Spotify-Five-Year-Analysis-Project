{
 "cells": [
  {
   "cell_type": "markdown",
   "id": "a5c5a956",
   "metadata": {},
   "source": [
    "# Spotify Song Data Scraping Sandbox"
   ]
  },
  {
   "cell_type": "markdown",
   "id": "ba14a9e3",
   "metadata": {},
   "source": [
    "### References:\n",
    "#### Based on techniques from the following tutorials/feeds: <br />\n",
    "Max Hilsdorf, \"How to Create Large Music Datasets Using Spotipy\", <i>Towards Data Science</i>, 25 April 2020: <br />\n",
    "https://towardsdatascience.com/how-to-create-large-music-datasets-using-spotipy-40e7242cc6a6 <br />\n",
    "Max Tingle, \"Getting Started with Spotify’s API & Spotipy\", <i>Towards Data Science</i>, 3 Oct 2019: <br />\n",
    "https://medium.com/@maxtingle/getting-started-with-spotifys-api-spotipy-197c3dc6353b <br />\n",
    "Sandra Radgowska, \"How to use Spotify API and what data science opportunities can it open up?\", <i>My Journey As A Data Scientist</i>, 18 August 2021:<br />\n",
    "https://datascientistdiary.com/index.php/2021/03/04/how-to-use-spotify-api-and-what-data-science-opportunities-can-it-open-up/<br />\n",
    "Angelica Dietzel, \"How to Extract Any Artist’s Data Using Spotify’s API, Python, and Spotipy\", <i>Better Programming</i>, 25 March 2020:<br />\n",
    "https://betterprogramming.pub/how-to-extract-any-artists-data-using-spotify-s-api-python-and-spotipy-4c079401bc37<br />\n",
    "StackOverflow: Spotipy: How To Read More Than 100 Tracks From A Playlist:<br />\n",
    "https://stackoverflow.com/questions/39086287/spotipy-how-to-read-more-than-100-tracks-from-a-playlist<br />\n",
    "Github: How Do I Get Every Track of A Playlist:<br /> https://github.com/plamere/spotipy/issues/246"
   ]
  },
  {
   "cell_type": "markdown",
   "id": "221b655a",
   "metadata": {},
   "source": [
    "## Setup"
   ]
  },
  {
   "cell_type": "markdown",
   "id": "8875f365",
   "metadata": {},
   "source": [
    "### Import packages"
   ]
  },
  {
   "cell_type": "code",
   "execution_count": 3,
   "id": "1252e80c",
   "metadata": {},
   "outputs": [],
   "source": [
    "import json\n",
    "import time\n",
    "from tqdm import tqdm\n",
    "import pandas as pd\n",
    "import spotipy\n",
    "from spotipy.oauth2 import SpotifyClientCredentials\n",
    "import creds"
   ]
  },
  {
   "cell_type": "markdown",
   "id": "ef707aaa",
   "metadata": {},
   "source": [
    "### Set display options"
   ]
  },
  {
   "cell_type": "code",
   "execution_count": 4,
   "id": "cb90862e",
   "metadata": {},
   "outputs": [],
   "source": [
    "pd.set_option('display.max_columns', 500)"
   ]
  },
  {
   "cell_type": "markdown",
   "id": "83963bef",
   "metadata": {},
   "source": [
    "### Spotify Credentials"
   ]
  },
  {
   "cell_type": "markdown",
   "id": "c9c8c715",
   "metadata": {},
   "source": [
    "#### Load credentials"
   ]
  },
  {
   "cell_type": "markdown",
   "id": "36ce0b86",
   "metadata": {},
   "source": [
    "Loads the creds.py file, containing the following two lines for variables client_id and secret, which is gitignored for sharing. \n",
    "\n",
    "client_id = 'Your Client ID Here'<br />\n",
    "secret = 'Your secret here'"
   ]
  },
  {
   "cell_type": "code",
   "execution_count": 5,
   "id": "01c50c05",
   "metadata": {},
   "outputs": [],
   "source": [
    "%run -i 'creds.py'"
   ]
  },
  {
   "cell_type": "markdown",
   "id": "3d22124f",
   "metadata": {},
   "source": [
    "#### Set credentials"
   ]
  },
  {
   "cell_type": "code",
   "execution_count": 6,
   "id": "c134fc22",
   "metadata": {},
   "outputs": [],
   "source": [
    "# Load client credentials for Spotipy\n",
    "client_credentials_manager = SpotifyClientCredentials(client_id=client_id,client_secret=secret)\n",
    "sp = spotipy.Spotify(client_credentials_manager=client_credentials_manager)"
   ]
  },
  {
   "cell_type": "markdown",
   "id": "0fc410b6",
   "metadata": {},
   "source": [
    "## Functions for data extraction"
   ]
  },
  {
   "cell_type": "markdown",
   "id": "91669486",
   "metadata": {},
   "source": [
    "### Get track data including features (updated to ensure retrieval of all artists)\n",
    "#### Details: uri, name, album, artist name, release date, explicit T/F, duration in mins\n",
    "#### Audio features: acousticness, danceability, energy, instrumentalness, liveness, loudness, speechiness, tempo, time_signature"
   ]
  },
  {
   "cell_type": "markdown",
   "id": "2b240a96",
   "metadata": {},
   "source": [
    "#### Function to extract all the track ids from your playlist (returns only 100 items)"
   ]
  },
  {
   "cell_type": "code",
   "execution_count": 17,
   "id": "f24c261c",
   "metadata": {},
   "outputs": [],
   "source": [
    "def get_track_ids(playlist_id):\n",
    "    \"\"\"Extracts track ids from playlist\"\"\"\n",
    "    music_id_list = []    \n",
    "    playlist = sp.playlist(playlist_id)    \n",
    "    for item in tqdm(playlist['tracks']['items']):    \n",
    "        music_track = item['track']    \n",
    "        music_id_list.append(music_track['id'])    \n",
    "    return music_id_list "
   ]
  },
  {
   "cell_type": "code",
   "execution_count": 18,
   "id": "a9c17124",
   "metadata": {},
   "outputs": [
    {
     "name": "stderr",
     "output_type": "stream",
     "text": [
      "100%|██████████| 100/100 [00:00<00:00, 438276.28it/s]"
     ]
    },
    {
     "name": "stdout",
     "output_type": "stream",
     "text": [
      "Music ID list length: 100\n"
     ]
    },
    {
     "name": "stderr",
     "output_type": "stream",
     "text": [
      "\n"
     ]
    }
   ],
   "source": [
    "# Test function with playlist id for list of 200 tracks\n",
    "music_id_list = get_track_ids('3avCwQPH6DkhMTRsizon7N')\n",
    "# Check all IDs returned\n",
    "print(\"Music ID list length:\", len(music_id_list))\n",
    "\n",
    "# Truncated by API track return limit (100)"
   ]
  },
  {
   "cell_type": "markdown",
   "id": "965c3a0e",
   "metadata": {},
   "source": [
    "#### Function to extract all album artists given a track id:"
   ]
  },
  {
   "cell_type": "code",
   "execution_count": 19,
   "id": "049d7b39",
   "metadata": {},
   "outputs": [],
   "source": [
    "def get_all_album_artists_names(track_id):\n",
    "    \"\"\" Returns a list of artist names for the given track's album \"\"\"\n",
    "    meta = sp.track(track_id)\n",
    "    album_artist_list = [] \n",
    "    for item in (meta['album']['artists']):\n",
    "        album_artist = item['name']\n",
    "        album_artist_list.append(album_artist)\n",
    "    return album_artist_list     "
   ]
  },
  {
   "cell_type": "markdown",
   "id": "3b5a2d0f",
   "metadata": {},
   "source": [
    "Test with track id '3fFBZvG777xoKyvcrBq7lc?si=f241a44d776b451a'"
   ]
  },
  {
   "cell_type": "code",
   "execution_count": 20,
   "id": "f5482bd3",
   "metadata": {},
   "outputs": [
    {
     "data": {
      "text/plain": [
       "['Future', 'Juice WRLD']"
      ]
     },
     "execution_count": 20,
     "metadata": {},
     "output_type": "execute_result"
    }
   ],
   "source": [
    "get_all_album_artists_names('3fFBZvG777xoKyvcrBq7lc?si=f241a44d776b451a')"
   ]
  },
  {
   "cell_type": "markdown",
   "id": "0ff801b7",
   "metadata": {},
   "source": [
    "#### Function to extract all the track artists given the track id:"
   ]
  },
  {
   "cell_type": "code",
   "execution_count": 21,
   "id": "acbfb992",
   "metadata": {},
   "outputs": [],
   "source": [
    "def get_all_track_artists_names(track_id):\n",
    "    \"\"\"Returns the list of artists' names for the given track \"\"\"\n",
    "    meta = sp.track(track_id)\n",
    "    track_artist_list = []\n",
    "    for item in (meta['artists']):\n",
    "        track_artist = item['name']\n",
    "        track_artist_list.append(track_artist)\n",
    "    return track_artist_list     "
   ]
  },
  {
   "cell_type": "markdown",
   "id": "e836d7fe",
   "metadata": {},
   "source": [
    "Test with track id '3fFBZvG777xoKyvcrBq7lc?si=f241a44d776b451a'"
   ]
  },
  {
   "cell_type": "code",
   "execution_count": 22,
   "id": "11816405",
   "metadata": {},
   "outputs": [
    {
     "data": {
      "text/plain": [
       "['Future', 'Juice WRLD', 'Young Thug']"
      ]
     },
     "execution_count": 22,
     "metadata": {},
     "output_type": "execute_result"
    }
   ],
   "source": [
    "get_all_track_artists_names('3fFBZvG777xoKyvcrBq7lc?si=f241a44d776b451a')"
   ]
  },
  {
   "cell_type": "markdown",
   "id": "3949400d",
   "metadata": {},
   "source": [
    "#### Function to extract all the track artists' ids given a track id:"
   ]
  },
  {
   "cell_type": "code",
   "execution_count": 23,
   "id": "f546423b",
   "metadata": {},
   "outputs": [],
   "source": [
    "def get_all_track_artists_ids(track_id):\n",
    "    \"\"\" Returns list of artists' ids for the given track \"\"\"\n",
    "    meta = sp.track(track_id)\n",
    "    track_artist_id_list = []\n",
    "    for item in (meta['artists']):\n",
    "        track_artist = item['id']\n",
    "        track_artist_id_list.append(track_artist)\n",
    "    return track_artist_id_list     "
   ]
  },
  {
   "cell_type": "markdown",
   "id": "4fb95a97",
   "metadata": {},
   "source": [
    "Test with track id '3fFBZvG777xoKyvcrBq7lc?si=f241a44d776b451a'"
   ]
  },
  {
   "cell_type": "code",
   "execution_count": 24,
   "id": "a7e14ed0",
   "metadata": {},
   "outputs": [
    {
     "data": {
      "text/plain": [
       "['1RyvyyTE3xzB2ZywiAwp0i', '4MCBfE4596Uoi2O4DtmEMz', '50co4Is1HCEo8bhOyUWKpn']"
      ]
     },
     "execution_count": 24,
     "metadata": {},
     "output_type": "execute_result"
    }
   ],
   "source": [
    "get_all_track_artists_ids('3fFBZvG777xoKyvcrBq7lc?si=f241a44d776b451a')"
   ]
  },
  {
   "cell_type": "markdown",
   "id": "7181aa4b",
   "metadata": {},
   "source": [
    "#### Function to extract all the details and features of each track by passing its ID:"
   ]
  },
  {
   "cell_type": "code",
   "execution_count": 25,
   "id": "4c54e0da",
   "metadata": {},
   "outputs": [],
   "source": [
    "def get_track_data(track_id):\n",
    "    \"\"\"Returns list of data for given track id and builds a dataframe\"\"\"\n",
    "    meta = sp.track(track_id)\n",
    "    features = sp.audio_features(track_id)\n",
    "    analysis = sp.audio_analysis(track_id)\n",
    "    track_details = {'uri': meta['uri'],\n",
    "                    'name': meta['name'],\n",
    "                    'track_artists': get_all_track_artists_names(track_id),\n",
    "                    'track_artists_ids': get_all_track_artists_ids(track_id),\n",
    "                    'album': meta['album']['name'],\n",
    "                    'album_artists': get_all_album_artists_names(track_id),\n",
    "                    'release_date': meta['album']['release_date'],\n",
    "                    'explicit': meta['explicit'],\n",
    "                    'duration_in_mins': round((meta['duration_ms'] * 0.001) / 60.0, 2),\n",
    "                    'acousticness' : features[0]['acousticness'],\n",
    "                    'danceability' : features[0]['danceability'],\n",
    "                    'energy' : features[0]['energy'],\n",
    "                    'instrumentalness' : features[0]['instrumentalness'],\n",
    "                    'liveness' : features[0]['liveness'],\n",
    "                    'loudness' : features[0]['loudness'],\n",
    "                    'speechiness' : features[0]['speechiness'],\n",
    "                    'tempo' : features[0]['tempo'],\n",
    "                    'time_signature' : features[0]['time_signature'],\n",
    "                    'track_duration_in_seconds' : analysis['track']['duration'],\n",
    "                    'end_of_fade_in' : analysis['track']['end_of_fade_in'],\n",
    "                    'start_of_fade_out' : analysis['track']['start_of_fade_out'],\n",
    "                    'key' : analysis['track']['key'],\n",
    "                    'mode' : analysis['track']['mode']\n",
    "                    }\n",
    "    return track_details"
   ]
  },
  {
   "cell_type": "markdown",
   "id": "e4b915aa",
   "metadata": {},
   "source": [
    "#### Loop function possibility 1: "
   ]
  },
  {
   "cell_type": "code",
   "execution_count": 92,
   "id": "80c39e56",
   "metadata": {},
   "outputs": [],
   "source": [
    "def get_playlist_tracks(username, playlist_id):\n",
    "    \"\"\"Loops through track pages in Spotify >100 tracks\"\"\"\n",
    "    results = sp.user_playlist_tracks(username, playlist_id)\n",
    "    tracks = results['items']\n",
    "    while results['next']:\n",
    "        results = sp.next(results)\n",
    "        tracks.extend(results['items'])\n",
    "    return tracks\n",
    "    "
   ]
  },
  {
   "cell_type": "code",
   "execution_count": 93,
   "id": "96b25ef3",
   "metadata": {},
   "outputs": [],
   "source": [
    "test_tracks = get_playlist_tracks('katiekellert', '3avCwQPH6DkhMTRsizon7N')\n",
    "# Returns 200 for 200 tracks"
   ]
  },
  {
   "cell_type": "code",
   "execution_count": 94,
   "id": "971172f1",
   "metadata": {},
   "outputs": [
    {
     "data": {
      "text/html": [
       "<div>\n",
       "<style scoped>\n",
       "    .dataframe tbody tr th:only-of-type {\n",
       "        vertical-align: middle;\n",
       "    }\n",
       "\n",
       "    .dataframe tbody tr th {\n",
       "        vertical-align: top;\n",
       "    }\n",
       "\n",
       "    .dataframe thead th {\n",
       "        text-align: right;\n",
       "    }\n",
       "</style>\n",
       "<table border=\"1\" class=\"dataframe\">\n",
       "  <thead>\n",
       "    <tr style=\"text-align: right;\">\n",
       "      <th></th>\n",
       "      <th>added_at</th>\n",
       "      <th>added_by</th>\n",
       "      <th>is_local</th>\n",
       "      <th>primary_color</th>\n",
       "      <th>track</th>\n",
       "      <th>video_thumbnail</th>\n",
       "    </tr>\n",
       "  </thead>\n",
       "  <tbody>\n",
       "    <tr>\n",
       "      <th>0</th>\n",
       "      <td>2021-12-28T22:47:43Z</td>\n",
       "      <td>{'external_urls': {'spotify': 'https://open.sp...</td>\n",
       "      <td>False</td>\n",
       "      <td>None</td>\n",
       "      <td>{'album': {'album_type': 'album', 'artists': [...</td>\n",
       "      <td>{'url': None}</td>\n",
       "    </tr>\n",
       "    <tr>\n",
       "      <th>1</th>\n",
       "      <td>2021-12-28T22:46:26Z</td>\n",
       "      <td>{'external_urls': {'spotify': 'https://open.sp...</td>\n",
       "      <td>False</td>\n",
       "      <td>None</td>\n",
       "      <td>{'album': {'album_type': 'album', 'artists': [...</td>\n",
       "      <td>{'url': None}</td>\n",
       "    </tr>\n",
       "    <tr>\n",
       "      <th>2</th>\n",
       "      <td>2021-12-28T18:04:19Z</td>\n",
       "      <td>{'external_urls': {'spotify': 'https://open.sp...</td>\n",
       "      <td>False</td>\n",
       "      <td>None</td>\n",
       "      <td>{'album': {'album_type': 'album', 'artists': [...</td>\n",
       "      <td>{'url': None}</td>\n",
       "    </tr>\n",
       "    <tr>\n",
       "      <th>3</th>\n",
       "      <td>2021-12-28T22:45:24Z</td>\n",
       "      <td>{'external_urls': {'spotify': 'https://open.sp...</td>\n",
       "      <td>False</td>\n",
       "      <td>None</td>\n",
       "      <td>{'album': {'album_type': 'album', 'artists': [...</td>\n",
       "      <td>{'url': None}</td>\n",
       "    </tr>\n",
       "    <tr>\n",
       "      <th>4</th>\n",
       "      <td>2021-12-28T22:57:11Z</td>\n",
       "      <td>{'external_urls': {'spotify': 'https://open.sp...</td>\n",
       "      <td>False</td>\n",
       "      <td>None</td>\n",
       "      <td>{'album': {'album_type': 'album', 'artists': [...</td>\n",
       "      <td>{'url': None}</td>\n",
       "    </tr>\n",
       "    <tr>\n",
       "      <th>...</th>\n",
       "      <td>...</td>\n",
       "      <td>...</td>\n",
       "      <td>...</td>\n",
       "      <td>...</td>\n",
       "      <td>...</td>\n",
       "      <td>...</td>\n",
       "    </tr>\n",
       "    <tr>\n",
       "      <th>195</th>\n",
       "      <td>2021-12-29T03:40:46Z</td>\n",
       "      <td>{'external_urls': {'spotify': 'https://open.sp...</td>\n",
       "      <td>False</td>\n",
       "      <td>None</td>\n",
       "      <td>{'album': {'album_type': 'album', 'artists': [...</td>\n",
       "      <td>{'url': None}</td>\n",
       "    </tr>\n",
       "    <tr>\n",
       "      <th>196</th>\n",
       "      <td>2021-12-29T03:41:25Z</td>\n",
       "      <td>{'external_urls': {'spotify': 'https://open.sp...</td>\n",
       "      <td>False</td>\n",
       "      <td>None</td>\n",
       "      <td>{'album': {'album_type': 'album', 'artists': [...</td>\n",
       "      <td>{'url': None}</td>\n",
       "    </tr>\n",
       "    <tr>\n",
       "      <th>197</th>\n",
       "      <td>2021-12-29T03:41:59Z</td>\n",
       "      <td>{'external_urls': {'spotify': 'https://open.sp...</td>\n",
       "      <td>False</td>\n",
       "      <td>None</td>\n",
       "      <td>{'album': {'album_type': 'album', 'artists': [...</td>\n",
       "      <td>{'url': None}</td>\n",
       "    </tr>\n",
       "    <tr>\n",
       "      <th>198</th>\n",
       "      <td>2021-12-29T03:42:28Z</td>\n",
       "      <td>{'external_urls': {'spotify': 'https://open.sp...</td>\n",
       "      <td>False</td>\n",
       "      <td>None</td>\n",
       "      <td>{'album': {'album_type': 'album', 'artists': [...</td>\n",
       "      <td>{'url': None}</td>\n",
       "    </tr>\n",
       "    <tr>\n",
       "      <th>199</th>\n",
       "      <td>2021-12-29T03:43:16Z</td>\n",
       "      <td>{'external_urls': {'spotify': 'https://open.sp...</td>\n",
       "      <td>False</td>\n",
       "      <td>None</td>\n",
       "      <td>{'album': {'album_type': 'album', 'artists': [...</td>\n",
       "      <td>{'url': None}</td>\n",
       "    </tr>\n",
       "  </tbody>\n",
       "</table>\n",
       "<p>200 rows × 6 columns</p>\n",
       "</div>"
      ],
      "text/plain": [
       "                 added_at                                           added_by  \\\n",
       "0    2021-12-28T22:47:43Z  {'external_urls': {'spotify': 'https://open.sp...   \n",
       "1    2021-12-28T22:46:26Z  {'external_urls': {'spotify': 'https://open.sp...   \n",
       "2    2021-12-28T18:04:19Z  {'external_urls': {'spotify': 'https://open.sp...   \n",
       "3    2021-12-28T22:45:24Z  {'external_urls': {'spotify': 'https://open.sp...   \n",
       "4    2021-12-28T22:57:11Z  {'external_urls': {'spotify': 'https://open.sp...   \n",
       "..                    ...                                                ...   \n",
       "195  2021-12-29T03:40:46Z  {'external_urls': {'spotify': 'https://open.sp...   \n",
       "196  2021-12-29T03:41:25Z  {'external_urls': {'spotify': 'https://open.sp...   \n",
       "197  2021-12-29T03:41:59Z  {'external_urls': {'spotify': 'https://open.sp...   \n",
       "198  2021-12-29T03:42:28Z  {'external_urls': {'spotify': 'https://open.sp...   \n",
       "199  2021-12-29T03:43:16Z  {'external_urls': {'spotify': 'https://open.sp...   \n",
       "\n",
       "     is_local primary_color  \\\n",
       "0       False          None   \n",
       "1       False          None   \n",
       "2       False          None   \n",
       "3       False          None   \n",
       "4       False          None   \n",
       "..        ...           ...   \n",
       "195     False          None   \n",
       "196     False          None   \n",
       "197     False          None   \n",
       "198     False          None   \n",
       "199     False          None   \n",
       "\n",
       "                                                 track video_thumbnail  \n",
       "0    {'album': {'album_type': 'album', 'artists': [...   {'url': None}  \n",
       "1    {'album': {'album_type': 'album', 'artists': [...   {'url': None}  \n",
       "2    {'album': {'album_type': 'album', 'artists': [...   {'url': None}  \n",
       "3    {'album': {'album_type': 'album', 'artists': [...   {'url': None}  \n",
       "4    {'album': {'album_type': 'album', 'artists': [...   {'url': None}  \n",
       "..                                                 ...             ...  \n",
       "195  {'album': {'album_type': 'album', 'artists': [...   {'url': None}  \n",
       "196  {'album': {'album_type': 'album', 'artists': [...   {'url': None}  \n",
       "197  {'album': {'album_type': 'album', 'artists': [...   {'url': None}  \n",
       "198  {'album': {'album_type': 'album', 'artists': [...   {'url': None}  \n",
       "199  {'album': {'album_type': 'album', 'artists': [...   {'url': None}  \n",
       "\n",
       "[200 rows x 6 columns]"
      ]
     },
     "execution_count": 94,
     "metadata": {},
     "output_type": "execute_result"
    }
   ],
   "source": [
    "test_tracks_df = pd.DataFrame(test_tracks)\n",
    "test_tracks_df"
   ]
  },
  {
   "cell_type": "markdown",
   "id": "e079f47b",
   "metadata": {},
   "source": [
    "###  Extract track data"
   ]
  },
  {
   "cell_type": "markdown",
   "id": "1c9322a1",
   "metadata": {},
   "source": [
    "#### Create track container dictionaries"
   ]
  },
  {
   "cell_type": "code",
   "execution_count": 100,
   "id": "1269935d",
   "metadata": {},
   "outputs": [],
   "source": [
    "tracks_with_allartists = []"
   ]
  },
  {
   "cell_type": "markdown",
   "id": "a5a1035b",
   "metadata": {},
   "source": [
    "#### Extract info of each track\n",
    "\n",
    "For testing:  playlist_id = '27Wi4y5VlHr43Q6UpZMVyS'"
   ]
  },
  {
   "cell_type": "code",
   "execution_count": 101,
   "id": "f6965ecd",
   "metadata": {
    "scrolled": true
   },
   "outputs": [
    {
     "name": "stdout",
     "output_type": "stream",
     "text": [
      "Enter the playlist id27Wi4y5VlHr43Q6UpZMVyS\n"
     ]
    },
    {
     "name": "stderr",
     "output_type": "stream",
     "text": [
      "100%|██████████| 5/5 [00:00<00:00, 31871.61it/s]\n",
      "  0%|          | 0/5 [00:00<?, ?it/s]"
     ]
    },
    {
     "name": "stdout",
     "output_type": "stream",
     "text": [
      "5\n",
      "['0e7ipj03S05BNilyu5bRzt', '1P17dC1amhFzptugyAO7Il', '3bsycjdQtbcJeR6822SBvd', '3ee8Jmje8o58CHK66QrVC2', '3GCdLUSnKSMJhs4Tj6CV3s']\n"
     ]
    },
    {
     "name": "stderr",
     "output_type": "stream",
     "text": [
      "100%|██████████| 5/5 [00:06<00:00,  1.37s/it]\n"
     ]
    }
   ],
   "source": [
    "# Get the ids for all the songs in your playlist\n",
    "playlist_id = input('Enter the playlist id')\n",
    "track_ids = get_track_ids(playlist_id)\n",
    "print(len(track_ids))\n",
    "print(track_ids)\n",
    "\n",
    "#  Loop over track ids and get their data points\n",
    "for i in tqdm(range(len(track_ids))):\n",
    "    time.sleep(.5)\n",
    "    track = get_track_data(track_ids[i])\n",
    "    tracks_with_allartists.append(track)\n",
    "\n",
    "# *Returns <=100 tracks for longer playlists"
   ]
  },
  {
   "cell_type": "markdown",
   "id": "184c6124",
   "metadata": {},
   "source": [
    "#### Create dataframe"
   ]
  },
  {
   "cell_type": "code",
   "execution_count": 102,
   "id": "0c5c5a82",
   "metadata": {},
   "outputs": [
    {
     "data": {
      "text/html": [
       "<div>\n",
       "<style scoped>\n",
       "    .dataframe tbody tr th:only-of-type {\n",
       "        vertical-align: middle;\n",
       "    }\n",
       "\n",
       "    .dataframe tbody tr th {\n",
       "        vertical-align: top;\n",
       "    }\n",
       "\n",
       "    .dataframe thead th {\n",
       "        text-align: right;\n",
       "    }\n",
       "</style>\n",
       "<table border=\"1\" class=\"dataframe\">\n",
       "  <thead>\n",
       "    <tr style=\"text-align: right;\">\n",
       "      <th></th>\n",
       "      <th>uri</th>\n",
       "      <th>name</th>\n",
       "      <th>track_artists</th>\n",
       "      <th>track_artists_ids</th>\n",
       "      <th>album</th>\n",
       "      <th>album_artists</th>\n",
       "      <th>release_date</th>\n",
       "      <th>explicit</th>\n",
       "      <th>duration_in_mins</th>\n",
       "      <th>acousticness</th>\n",
       "      <th>danceability</th>\n",
       "      <th>energy</th>\n",
       "      <th>instrumentalness</th>\n",
       "      <th>liveness</th>\n",
       "      <th>loudness</th>\n",
       "      <th>speechiness</th>\n",
       "      <th>tempo</th>\n",
       "      <th>time_signature</th>\n",
       "      <th>track_duration_in_seconds</th>\n",
       "      <th>end_of_fade_in</th>\n",
       "      <th>start_of_fade_out</th>\n",
       "      <th>key</th>\n",
       "      <th>mode</th>\n",
       "    </tr>\n",
       "  </thead>\n",
       "  <tbody>\n",
       "    <tr>\n",
       "      <th>0</th>\n",
       "      <td>spotify:track:0e7ipj03S05BNilyu5bRzt</td>\n",
       "      <td>rockstar (feat. 21 Savage)</td>\n",
       "      <td>[Post Malone, 21 Savage]</td>\n",
       "      <td>[246dkjvS1zLTtiykXe5h60, 1URnnhqYAYcrqrcwql10ft]</td>\n",
       "      <td>beerbongs &amp; bentleys</td>\n",
       "      <td>[Post Malone]</td>\n",
       "      <td>2018-04-27</td>\n",
       "      <td>True</td>\n",
       "      <td>3.64</td>\n",
       "      <td>0.1240</td>\n",
       "      <td>0.585</td>\n",
       "      <td>0.520</td>\n",
       "      <td>0.000070</td>\n",
       "      <td>0.1310</td>\n",
       "      <td>-6.136</td>\n",
       "      <td>0.0712</td>\n",
       "      <td>159.801</td>\n",
       "      <td>4</td>\n",
       "      <td>218.14667</td>\n",
       "      <td>0.00000</td>\n",
       "      <td>215.41151</td>\n",
       "      <td>5</td>\n",
       "      <td>0</td>\n",
       "    </tr>\n",
       "    <tr>\n",
       "      <th>1</th>\n",
       "      <td>spotify:track:1P17dC1amhFzptugyAO7Il</td>\n",
       "      <td>Look What You Made Me Do</td>\n",
       "      <td>[Taylor Swift]</td>\n",
       "      <td>[06HL4z0CvFAxyc27GXpf02]</td>\n",
       "      <td>reputation</td>\n",
       "      <td>[Taylor Swift]</td>\n",
       "      <td>2017-11-10</td>\n",
       "      <td>False</td>\n",
       "      <td>3.53</td>\n",
       "      <td>0.2040</td>\n",
       "      <td>0.766</td>\n",
       "      <td>0.709</td>\n",
       "      <td>0.000014</td>\n",
       "      <td>0.1260</td>\n",
       "      <td>-6.471</td>\n",
       "      <td>0.1230</td>\n",
       "      <td>128.070</td>\n",
       "      <td>4</td>\n",
       "      <td>211.85333</td>\n",
       "      <td>0.34884</td>\n",
       "      <td>209.84454</td>\n",
       "      <td>9</td>\n",
       "      <td>0</td>\n",
       "    </tr>\n",
       "    <tr>\n",
       "      <th>2</th>\n",
       "      <td>spotify:track:3bsycjdQtbcJeR6822SBvd</td>\n",
       "      <td>I Like It</td>\n",
       "      <td>[Cardi B, Bad Bunny, J Balvin]</td>\n",
       "      <td>[4kYSro6naA4h99UJvo89HB, 4q3ewBCX7sLwd24euuV69...</td>\n",
       "      <td>Invasion of Privacy</td>\n",
       "      <td>[Cardi B]</td>\n",
       "      <td>2018-04-05</td>\n",
       "      <td>False</td>\n",
       "      <td>4.22</td>\n",
       "      <td>0.0981</td>\n",
       "      <td>0.814</td>\n",
       "      <td>0.721</td>\n",
       "      <td>0.000000</td>\n",
       "      <td>0.3780</td>\n",
       "      <td>-4.026</td>\n",
       "      <td>0.1360</td>\n",
       "      <td>136.050</td>\n",
       "      <td>4</td>\n",
       "      <td>253.39029</td>\n",
       "      <td>0.15116</td>\n",
       "      <td>241.78938</td>\n",
       "      <td>5</td>\n",
       "      <td>0</td>\n",
       "    </tr>\n",
       "    <tr>\n",
       "      <th>3</th>\n",
       "      <td>spotify:track:3ee8Jmje8o58CHK66QrVC2</td>\n",
       "      <td>SAD!</td>\n",
       "      <td>[XXXTENTACION]</td>\n",
       "      <td>[15UsOTVnJzReFVN1VCnxy4]</td>\n",
       "      <td>?</td>\n",
       "      <td>[XXXTENTACION]</td>\n",
       "      <td>2018-03-16</td>\n",
       "      <td>True</td>\n",
       "      <td>2.78</td>\n",
       "      <td>0.2580</td>\n",
       "      <td>0.740</td>\n",
       "      <td>0.613</td>\n",
       "      <td>0.003720</td>\n",
       "      <td>0.1230</td>\n",
       "      <td>-4.880</td>\n",
       "      <td>0.1450</td>\n",
       "      <td>75.023</td>\n",
       "      <td>4</td>\n",
       "      <td>166.60553</td>\n",
       "      <td>0.00000</td>\n",
       "      <td>155.38794</td>\n",
       "      <td>8</td>\n",
       "      <td>1</td>\n",
       "    </tr>\n",
       "    <tr>\n",
       "      <th>4</th>\n",
       "      <td>spotify:track:3GCdLUSnKSMJhs4Tj6CV3s</td>\n",
       "      <td>All The Stars (with SZA)</td>\n",
       "      <td>[Kendrick Lamar, SZA]</td>\n",
       "      <td>[2YZyLoL8N0Wb9xBt1NhZWg, 7tYKF4w9nC0nq9CsPZTHyP]</td>\n",
       "      <td>Black Panther The Album Music From And Inspire...</td>\n",
       "      <td>[Kendrick Lamar, SZA]</td>\n",
       "      <td>2018-02-09</td>\n",
       "      <td>True</td>\n",
       "      <td>3.87</td>\n",
       "      <td>0.0605</td>\n",
       "      <td>0.698</td>\n",
       "      <td>0.633</td>\n",
       "      <td>0.000194</td>\n",
       "      <td>0.0926</td>\n",
       "      <td>-4.946</td>\n",
       "      <td>0.0597</td>\n",
       "      <td>96.924</td>\n",
       "      <td>4</td>\n",
       "      <td>232.18668</td>\n",
       "      <td>0.00000</td>\n",
       "      <td>227.49170</td>\n",
       "      <td>8</td>\n",
       "      <td>1</td>\n",
       "    </tr>\n",
       "  </tbody>\n",
       "</table>\n",
       "</div>"
      ],
      "text/plain": [
       "                                    uri                        name  \\\n",
       "0  spotify:track:0e7ipj03S05BNilyu5bRzt  rockstar (feat. 21 Savage)   \n",
       "1  spotify:track:1P17dC1amhFzptugyAO7Il    Look What You Made Me Do   \n",
       "2  spotify:track:3bsycjdQtbcJeR6822SBvd                   I Like It   \n",
       "3  spotify:track:3ee8Jmje8o58CHK66QrVC2                        SAD!   \n",
       "4  spotify:track:3GCdLUSnKSMJhs4Tj6CV3s    All The Stars (with SZA)   \n",
       "\n",
       "                    track_artists  \\\n",
       "0        [Post Malone, 21 Savage]   \n",
       "1                  [Taylor Swift]   \n",
       "2  [Cardi B, Bad Bunny, J Balvin]   \n",
       "3                  [XXXTENTACION]   \n",
       "4           [Kendrick Lamar, SZA]   \n",
       "\n",
       "                                   track_artists_ids  \\\n",
       "0   [246dkjvS1zLTtiykXe5h60, 1URnnhqYAYcrqrcwql10ft]   \n",
       "1                           [06HL4z0CvFAxyc27GXpf02]   \n",
       "2  [4kYSro6naA4h99UJvo89HB, 4q3ewBCX7sLwd24euuV69...   \n",
       "3                           [15UsOTVnJzReFVN1VCnxy4]   \n",
       "4   [2YZyLoL8N0Wb9xBt1NhZWg, 7tYKF4w9nC0nq9CsPZTHyP]   \n",
       "\n",
       "                                               album          album_artists  \\\n",
       "0                               beerbongs & bentleys          [Post Malone]   \n",
       "1                                         reputation         [Taylor Swift]   \n",
       "2                                Invasion of Privacy              [Cardi B]   \n",
       "3                                                  ?         [XXXTENTACION]   \n",
       "4  Black Panther The Album Music From And Inspire...  [Kendrick Lamar, SZA]   \n",
       "\n",
       "  release_date  explicit  duration_in_mins  acousticness  danceability  \\\n",
       "0   2018-04-27      True              3.64        0.1240         0.585   \n",
       "1   2017-11-10     False              3.53        0.2040         0.766   \n",
       "2   2018-04-05     False              4.22        0.0981         0.814   \n",
       "3   2018-03-16      True              2.78        0.2580         0.740   \n",
       "4   2018-02-09      True              3.87        0.0605         0.698   \n",
       "\n",
       "   energy  instrumentalness  liveness  loudness  speechiness    tempo  \\\n",
       "0   0.520          0.000070    0.1310    -6.136       0.0712  159.801   \n",
       "1   0.709          0.000014    0.1260    -6.471       0.1230  128.070   \n",
       "2   0.721          0.000000    0.3780    -4.026       0.1360  136.050   \n",
       "3   0.613          0.003720    0.1230    -4.880       0.1450   75.023   \n",
       "4   0.633          0.000194    0.0926    -4.946       0.0597   96.924   \n",
       "\n",
       "   time_signature  track_duration_in_seconds  end_of_fade_in  \\\n",
       "0               4                  218.14667         0.00000   \n",
       "1               4                  211.85333         0.34884   \n",
       "2               4                  253.39029         0.15116   \n",
       "3               4                  166.60553         0.00000   \n",
       "4               4                  232.18668         0.00000   \n",
       "\n",
       "   start_of_fade_out  key  mode  \n",
       "0          215.41151    5     0  \n",
       "1          209.84454    9     0  \n",
       "2          241.78938    5     0  \n",
       "3          155.38794    8     1  \n",
       "4          227.49170    8     1  "
      ]
     },
     "execution_count": 102,
     "metadata": {},
     "output_type": "execute_result"
    }
   ],
   "source": [
    "df_allartists = pd.DataFrame(tracks_with_allartists)\n",
    "df_allartists"
   ]
  },
  {
   "cell_type": "code",
   "execution_count": 103,
   "id": "94b9a878",
   "metadata": {},
   "outputs": [
    {
     "data": {
      "text/plain": [
       "['Cardi B', 'Bad Bunny', 'J Balvin']"
      ]
     },
     "execution_count": 103,
     "metadata": {},
     "output_type": "execute_result"
    }
   ],
   "source": [
    "df_allartists['track_artists'][2]"
   ]
  },
  {
   "cell_type": "markdown",
   "id": "90e8d853",
   "metadata": {},
   "source": [
    "### Get artist data (id, artist name, genre, popularity, followers)"
   ]
  },
  {
   "cell_type": "markdown",
   "id": "e75a39b9",
   "metadata": {},
   "source": [
    "#### Extract track artist id column"
   ]
  },
  {
   "cell_type": "code",
   "execution_count": 109,
   "id": "b4436736",
   "metadata": {},
   "outputs": [
    {
     "data": {
      "text/plain": [
       "0     [246dkjvS1zLTtiykXe5h60, 1URnnhqYAYcrqrcwql10ft]\n",
       "1                             [06HL4z0CvFAxyc27GXpf02]\n",
       "2    [4kYSro6naA4h99UJvo89HB, 4q3ewBCX7sLwd24euuV69...\n",
       "3                             [15UsOTVnJzReFVN1VCnxy4]\n",
       "4     [2YZyLoL8N0Wb9xBt1NhZWg, 7tYKF4w9nC0nq9CsPZTHyP]\n",
       "Name: track_artists_ids, dtype: object"
      ]
     },
     "execution_count": 109,
     "metadata": {},
     "output_type": "execute_result"
    }
   ],
   "source": [
    "artist_ids = df_allartists['track_artists_ids']\n",
    "artist_ids"
   ]
  },
  {
   "cell_type": "markdown",
   "id": "d16a3168",
   "metadata": {},
   "source": [
    "#### Explode column"
   ]
  },
  {
   "cell_type": "code",
   "execution_count": 110,
   "id": "2061334c",
   "metadata": {},
   "outputs": [
    {
     "data": {
      "text/html": [
       "<div>\n",
       "<style scoped>\n",
       "    .dataframe tbody tr th:only-of-type {\n",
       "        vertical-align: middle;\n",
       "    }\n",
       "\n",
       "    .dataframe tbody tr th {\n",
       "        vertical-align: top;\n",
       "    }\n",
       "\n",
       "    .dataframe thead th {\n",
       "        text-align: right;\n",
       "    }\n",
       "</style>\n",
       "<table border=\"1\" class=\"dataframe\">\n",
       "  <thead>\n",
       "    <tr style=\"text-align: right;\">\n",
       "      <th></th>\n",
       "      <th>track_artists_ids</th>\n",
       "    </tr>\n",
       "  </thead>\n",
       "  <tbody>\n",
       "    <tr>\n",
       "      <th>0</th>\n",
       "      <td>246dkjvS1zLTtiykXe5h60</td>\n",
       "    </tr>\n",
       "    <tr>\n",
       "      <th>1</th>\n",
       "      <td>1URnnhqYAYcrqrcwql10ft</td>\n",
       "    </tr>\n",
       "    <tr>\n",
       "      <th>2</th>\n",
       "      <td>06HL4z0CvFAxyc27GXpf02</td>\n",
       "    </tr>\n",
       "    <tr>\n",
       "      <th>3</th>\n",
       "      <td>4kYSro6naA4h99UJvo89HB</td>\n",
       "    </tr>\n",
       "    <tr>\n",
       "      <th>4</th>\n",
       "      <td>4q3ewBCX7sLwd24euuV69X</td>\n",
       "    </tr>\n",
       "    <tr>\n",
       "      <th>5</th>\n",
       "      <td>1vyhD5VmyZ7KMfW5gqLgo5</td>\n",
       "    </tr>\n",
       "    <tr>\n",
       "      <th>6</th>\n",
       "      <td>15UsOTVnJzReFVN1VCnxy4</td>\n",
       "    </tr>\n",
       "    <tr>\n",
       "      <th>7</th>\n",
       "      <td>2YZyLoL8N0Wb9xBt1NhZWg</td>\n",
       "    </tr>\n",
       "    <tr>\n",
       "      <th>8</th>\n",
       "      <td>7tYKF4w9nC0nq9CsPZTHyP</td>\n",
       "    </tr>\n",
       "  </tbody>\n",
       "</table>\n",
       "</div>"
      ],
      "text/plain": [
       "        track_artists_ids\n",
       "0  246dkjvS1zLTtiykXe5h60\n",
       "1  1URnnhqYAYcrqrcwql10ft\n",
       "2  06HL4z0CvFAxyc27GXpf02\n",
       "3  4kYSro6naA4h99UJvo89HB\n",
       "4  4q3ewBCX7sLwd24euuV69X\n",
       "5  1vyhD5VmyZ7KMfW5gqLgo5\n",
       "6  15UsOTVnJzReFVN1VCnxy4\n",
       "7  2YZyLoL8N0Wb9xBt1NhZWg\n",
       "8  7tYKF4w9nC0nq9CsPZTHyP"
      ]
     },
     "execution_count": 110,
     "metadata": {},
     "output_type": "execute_result"
    }
   ],
   "source": [
    "splody_ids = artist_ids.explode('track_artists_ids')\n",
    "id_df= pd.DataFrame(splody_ids)\n",
    "id_df"
   ]
  },
  {
   "cell_type": "markdown",
   "id": "5ec9e219",
   "metadata": {},
   "source": [
    "#### Remove duplicates"
   ]
  },
  {
   "cell_type": "code",
   "execution_count": 111,
   "id": "ac18a919",
   "metadata": {},
   "outputs": [
    {
     "data": {
      "text/html": [
       "<div>\n",
       "<style scoped>\n",
       "    .dataframe tbody tr th:only-of-type {\n",
       "        vertical-align: middle;\n",
       "    }\n",
       "\n",
       "    .dataframe tbody tr th {\n",
       "        vertical-align: top;\n",
       "    }\n",
       "\n",
       "    .dataframe thead th {\n",
       "        text-align: right;\n",
       "    }\n",
       "</style>\n",
       "<table border=\"1\" class=\"dataframe\">\n",
       "  <thead>\n",
       "    <tr style=\"text-align: right;\">\n",
       "      <th></th>\n",
       "      <th>track_artists_ids</th>\n",
       "    </tr>\n",
       "  </thead>\n",
       "  <tbody>\n",
       "    <tr>\n",
       "      <th>0</th>\n",
       "      <td>246dkjvS1zLTtiykXe5h60</td>\n",
       "    </tr>\n",
       "    <tr>\n",
       "      <th>1</th>\n",
       "      <td>1URnnhqYAYcrqrcwql10ft</td>\n",
       "    </tr>\n",
       "    <tr>\n",
       "      <th>2</th>\n",
       "      <td>06HL4z0CvFAxyc27GXpf02</td>\n",
       "    </tr>\n",
       "    <tr>\n",
       "      <th>3</th>\n",
       "      <td>4kYSro6naA4h99UJvo89HB</td>\n",
       "    </tr>\n",
       "    <tr>\n",
       "      <th>4</th>\n",
       "      <td>4q3ewBCX7sLwd24euuV69X</td>\n",
       "    </tr>\n",
       "    <tr>\n",
       "      <th>5</th>\n",
       "      <td>1vyhD5VmyZ7KMfW5gqLgo5</td>\n",
       "    </tr>\n",
       "    <tr>\n",
       "      <th>6</th>\n",
       "      <td>15UsOTVnJzReFVN1VCnxy4</td>\n",
       "    </tr>\n",
       "    <tr>\n",
       "      <th>7</th>\n",
       "      <td>2YZyLoL8N0Wb9xBt1NhZWg</td>\n",
       "    </tr>\n",
       "    <tr>\n",
       "      <th>8</th>\n",
       "      <td>7tYKF4w9nC0nq9CsPZTHyP</td>\n",
       "    </tr>\n",
       "  </tbody>\n",
       "</table>\n",
       "</div>"
      ],
      "text/plain": [
       "        track_artists_ids\n",
       "0  246dkjvS1zLTtiykXe5h60\n",
       "1  1URnnhqYAYcrqrcwql10ft\n",
       "2  06HL4z0CvFAxyc27GXpf02\n",
       "3  4kYSro6naA4h99UJvo89HB\n",
       "4  4q3ewBCX7sLwd24euuV69X\n",
       "5  1vyhD5VmyZ7KMfW5gqLgo5\n",
       "6  15UsOTVnJzReFVN1VCnxy4\n",
       "7  2YZyLoL8N0Wb9xBt1NhZWg\n",
       "8  7tYKF4w9nC0nq9CsPZTHyP"
      ]
     },
     "execution_count": 111,
     "metadata": {},
     "output_type": "execute_result"
    }
   ],
   "source": [
    "id_df2 = id_df.drop_duplicates(subset=['track_artists_ids'], keep='first')\n",
    "id_df2"
   ]
  },
  {
   "cell_type": "markdown",
   "id": "04aae996",
   "metadata": {},
   "source": [
    "#### Convert to list"
   ]
  },
  {
   "cell_type": "code",
   "execution_count": 112,
   "id": "2782f5d0",
   "metadata": {},
   "outputs": [
    {
     "data": {
      "text/plain": [
       "['246dkjvS1zLTtiykXe5h60',\n",
       " '1URnnhqYAYcrqrcwql10ft',\n",
       " '06HL4z0CvFAxyc27GXpf02',\n",
       " '4kYSro6naA4h99UJvo89HB',\n",
       " '4q3ewBCX7sLwd24euuV69X',\n",
       " '1vyhD5VmyZ7KMfW5gqLgo5',\n",
       " '15UsOTVnJzReFVN1VCnxy4',\n",
       " '2YZyLoL8N0Wb9xBt1NhZWg',\n",
       " '7tYKF4w9nC0nq9CsPZTHyP']"
      ]
     },
     "execution_count": 112,
     "metadata": {},
     "output_type": "execute_result"
    }
   ],
   "source": [
    "artist_id_list = id_df2['track_artists_ids'].tolist()\n",
    "artist_id_list"
   ]
  },
  {
   "cell_type": "markdown",
   "id": "fb4dfc62",
   "metadata": {},
   "source": [
    "#### Function to extract all the details of each artist by passing their ID:"
   ]
  },
  {
   "cell_type": "code",
   "execution_count": 113,
   "id": "3660b7fd",
   "metadata": {},
   "outputs": [],
   "source": [
    "def get_artist_data(artist_id):\n",
    "    \"\"\"Returns artist data for given id\"\"\"\n",
    "    meta = sp.artist(artist_id)\n",
    "    artist_details = {'artist id': meta['id'],\n",
    "                    'artist name': meta['name'],\n",
    "                    'genres': meta['genres'],\n",
    "                    'popularity': meta['popularity'],\n",
    "                    'followers': meta['followers']['total']\n",
    "                    }\n",
    "    return artist_details"
   ]
  },
  {
   "cell_type": "markdown",
   "id": "c7602a28",
   "metadata": {},
   "source": [
    "####  Extract artist data"
   ]
  },
  {
   "cell_type": "markdown",
   "id": "a90898c3",
   "metadata": {},
   "source": [
    "Extract artist data from list"
   ]
  },
  {
   "cell_type": "code",
   "execution_count": 114,
   "id": "0d538dcb",
   "metadata": {},
   "outputs": [
    {
     "name": "stderr",
     "output_type": "stream",
     "text": [
      "100%|██████████| 9/9 [00:05<00:00,  1.67it/s]\n"
     ]
    }
   ],
   "source": [
    "artists = []\n",
    "#  Loop over track ids and get their data points\n",
    "for i in tqdm(range(len(artist_id_list))):\n",
    "    time.sleep(.5)\n",
    "    artist = get_artist_data(artist_id_list[i])\n",
    "    artists.append(artist)"
   ]
  },
  {
   "cell_type": "code",
   "execution_count": 115,
   "id": "d34a63c2",
   "metadata": {},
   "outputs": [
    {
     "data": {
      "text/plain": [
       "[{'artist id': '246dkjvS1zLTtiykXe5h60',\n",
       "  'artist name': 'Post Malone',\n",
       "  'genres': ['dfw rap', 'melodic rap', 'rap'],\n",
       "  'popularity': 92,\n",
       "  'followers': 35414369},\n",
       " {'artist id': '1URnnhqYAYcrqrcwql10ft',\n",
       "  'artist name': '21 Savage',\n",
       "  'genres': ['atl hip hop', 'rap', 'trap'],\n",
       "  'popularity': 89,\n",
       "  'followers': 10588325},\n",
       " {'artist id': '06HL4z0CvFAxyc27GXpf02',\n",
       "  'artist name': 'Taylor Swift',\n",
       "  'genres': ['pop'],\n",
       "  'popularity': 100,\n",
       "  'followers': 47442319},\n",
       " {'artist id': '4kYSro6naA4h99UJvo89HB',\n",
       "  'artist name': 'Cardi B',\n",
       "  'genres': ['dance pop', 'pop', 'pop rap', 'rap'],\n",
       "  'popularity': 86,\n",
       "  'followers': 18871226},\n",
       " {'artist id': '4q3ewBCX7sLwd24euuV69X',\n",
       "  'artist name': 'Bad Bunny',\n",
       "  'genres': ['latin', 'reggaeton', 'trap latino'],\n",
       "  'popularity': 99,\n",
       "  'followers': 41622707},\n",
       " {'artist id': '1vyhD5VmyZ7KMfW5gqLgo5',\n",
       "  'artist name': 'J Balvin',\n",
       "  'genres': ['latin', 'reggaeton', 'reggaeton colombiano', 'trap latino'],\n",
       "  'popularity': 94,\n",
       "  'followers': 31646698},\n",
       " {'artist id': '15UsOTVnJzReFVN1VCnxy4',\n",
       "  'artist name': 'XXXTENTACION',\n",
       "  'genres': ['emo rap', 'miami hip hop'],\n",
       "  'popularity': 92,\n",
       "  'followers': 33521355},\n",
       " {'artist id': '2YZyLoL8N0Wb9xBt1NhZWg',\n",
       "  'artist name': 'Kendrick Lamar',\n",
       "  'genres': ['conscious hip hop', 'hip hop', 'rap', 'west coast rap'],\n",
       "  'popularity': 90,\n",
       "  'followers': 19003331},\n",
       " {'artist id': '7tYKF4w9nC0nq9CsPZTHyP',\n",
       "  'artist name': 'SZA',\n",
       "  'genres': ['pop', 'r&b', 'rap'],\n",
       "  'popularity': 89,\n",
       "  'followers': 6894392}]"
      ]
     },
     "execution_count": 115,
     "metadata": {},
     "output_type": "execute_result"
    }
   ],
   "source": [
    "artists"
   ]
  },
  {
   "cell_type": "markdown",
   "id": "3ad41ad5",
   "metadata": {},
   "source": [
    "#### Create dataframe"
   ]
  },
  {
   "cell_type": "code",
   "execution_count": 116,
   "id": "76594049",
   "metadata": {},
   "outputs": [
    {
     "data": {
      "text/html": [
       "<div>\n",
       "<style scoped>\n",
       "    .dataframe tbody tr th:only-of-type {\n",
       "        vertical-align: middle;\n",
       "    }\n",
       "\n",
       "    .dataframe tbody tr th {\n",
       "        vertical-align: top;\n",
       "    }\n",
       "\n",
       "    .dataframe thead th {\n",
       "        text-align: right;\n",
       "    }\n",
       "</style>\n",
       "<table border=\"1\" class=\"dataframe\">\n",
       "  <thead>\n",
       "    <tr style=\"text-align: right;\">\n",
       "      <th></th>\n",
       "      <th>artist id</th>\n",
       "      <th>artist name</th>\n",
       "      <th>genres</th>\n",
       "      <th>popularity</th>\n",
       "      <th>followers</th>\n",
       "    </tr>\n",
       "  </thead>\n",
       "  <tbody>\n",
       "    <tr>\n",
       "      <th>0</th>\n",
       "      <td>246dkjvS1zLTtiykXe5h60</td>\n",
       "      <td>Post Malone</td>\n",
       "      <td>[dfw rap, melodic rap, rap]</td>\n",
       "      <td>92</td>\n",
       "      <td>35414369</td>\n",
       "    </tr>\n",
       "    <tr>\n",
       "      <th>1</th>\n",
       "      <td>1URnnhqYAYcrqrcwql10ft</td>\n",
       "      <td>21 Savage</td>\n",
       "      <td>[atl hip hop, rap, trap]</td>\n",
       "      <td>89</td>\n",
       "      <td>10588325</td>\n",
       "    </tr>\n",
       "    <tr>\n",
       "      <th>2</th>\n",
       "      <td>06HL4z0CvFAxyc27GXpf02</td>\n",
       "      <td>Taylor Swift</td>\n",
       "      <td>[pop]</td>\n",
       "      <td>100</td>\n",
       "      <td>47442319</td>\n",
       "    </tr>\n",
       "    <tr>\n",
       "      <th>3</th>\n",
       "      <td>4kYSro6naA4h99UJvo89HB</td>\n",
       "      <td>Cardi B</td>\n",
       "      <td>[dance pop, pop, pop rap, rap]</td>\n",
       "      <td>86</td>\n",
       "      <td>18871226</td>\n",
       "    </tr>\n",
       "    <tr>\n",
       "      <th>4</th>\n",
       "      <td>4q3ewBCX7sLwd24euuV69X</td>\n",
       "      <td>Bad Bunny</td>\n",
       "      <td>[latin, reggaeton, trap latino]</td>\n",
       "      <td>99</td>\n",
       "      <td>41622707</td>\n",
       "    </tr>\n",
       "    <tr>\n",
       "      <th>5</th>\n",
       "      <td>1vyhD5VmyZ7KMfW5gqLgo5</td>\n",
       "      <td>J Balvin</td>\n",
       "      <td>[latin, reggaeton, reggaeton colombiano, trap ...</td>\n",
       "      <td>94</td>\n",
       "      <td>31646698</td>\n",
       "    </tr>\n",
       "    <tr>\n",
       "      <th>6</th>\n",
       "      <td>15UsOTVnJzReFVN1VCnxy4</td>\n",
       "      <td>XXXTENTACION</td>\n",
       "      <td>[emo rap, miami hip hop]</td>\n",
       "      <td>92</td>\n",
       "      <td>33521355</td>\n",
       "    </tr>\n",
       "    <tr>\n",
       "      <th>7</th>\n",
       "      <td>2YZyLoL8N0Wb9xBt1NhZWg</td>\n",
       "      <td>Kendrick Lamar</td>\n",
       "      <td>[conscious hip hop, hip hop, rap, west coast rap]</td>\n",
       "      <td>90</td>\n",
       "      <td>19003331</td>\n",
       "    </tr>\n",
       "    <tr>\n",
       "      <th>8</th>\n",
       "      <td>7tYKF4w9nC0nq9CsPZTHyP</td>\n",
       "      <td>SZA</td>\n",
       "      <td>[pop, r&amp;b, rap]</td>\n",
       "      <td>89</td>\n",
       "      <td>6894392</td>\n",
       "    </tr>\n",
       "  </tbody>\n",
       "</table>\n",
       "</div>"
      ],
      "text/plain": [
       "                artist id     artist name  \\\n",
       "0  246dkjvS1zLTtiykXe5h60     Post Malone   \n",
       "1  1URnnhqYAYcrqrcwql10ft       21 Savage   \n",
       "2  06HL4z0CvFAxyc27GXpf02    Taylor Swift   \n",
       "3  4kYSro6naA4h99UJvo89HB         Cardi B   \n",
       "4  4q3ewBCX7sLwd24euuV69X       Bad Bunny   \n",
       "5  1vyhD5VmyZ7KMfW5gqLgo5        J Balvin   \n",
       "6  15UsOTVnJzReFVN1VCnxy4    XXXTENTACION   \n",
       "7  2YZyLoL8N0Wb9xBt1NhZWg  Kendrick Lamar   \n",
       "8  7tYKF4w9nC0nq9CsPZTHyP             SZA   \n",
       "\n",
       "                                              genres  popularity  followers  \n",
       "0                        [dfw rap, melodic rap, rap]          92   35414369  \n",
       "1                           [atl hip hop, rap, trap]          89   10588325  \n",
       "2                                              [pop]         100   47442319  \n",
       "3                     [dance pop, pop, pop rap, rap]          86   18871226  \n",
       "4                    [latin, reggaeton, trap latino]          99   41622707  \n",
       "5  [latin, reggaeton, reggaeton colombiano, trap ...          94   31646698  \n",
       "6                           [emo rap, miami hip hop]          92   33521355  \n",
       "7  [conscious hip hop, hip hop, rap, west coast rap]          90   19003331  \n",
       "8                                    [pop, r&b, rap]          89    6894392  "
      ]
     },
     "execution_count": 116,
     "metadata": {},
     "output_type": "execute_result"
    }
   ],
   "source": [
    "artist_df = pd.DataFrame(artists)\n",
    "artist_df"
   ]
  },
  {
   "cell_type": "markdown",
   "id": "452d5eb3",
   "metadata": {},
   "source": [
    "# ================================================="
   ]
  },
  {
   "cell_type": "markdown",
   "id": "868bd4ee",
   "metadata": {},
   "source": [
    "## API Workaround Loop Example"
   ]
  },
  {
   "cell_type": "markdown",
   "id": "cef62910",
   "metadata": {},
   "source": [
    "### Supporting function definitions"
   ]
  },
  {
   "cell_type": "markdown",
   "id": "0697282a",
   "metadata": {},
   "source": [
    "#### Album artists names function"
   ]
  },
  {
   "cell_type": "code",
   "execution_count": 117,
   "id": "a8f28a6e",
   "metadata": {},
   "outputs": [],
   "source": [
    "def get_all_album_artists_names(track_id):\n",
    "    \"\"\"Returns a list of all artist names for the given trac's album\"\"\"\n",
    "    meta = sp.track(track_id)\n",
    "    album_artist_list = []\n",
    "    for item in (meta['album']['artists']):\n",
    "        album_artist = item['name']\n",
    "        album_artist_list.append(album_artist)\n",
    "    return album_artist_list     "
   ]
  },
  {
   "cell_type": "markdown",
   "id": "666bfdf7",
   "metadata": {},
   "source": [
    "Test with track id '3fFBZvG777xoKyvcrBq7lc?si=f241a44d776b451a'"
   ]
  },
  {
   "cell_type": "code",
   "execution_count": 118,
   "id": "1a38ec30",
   "metadata": {},
   "outputs": [
    {
     "data": {
      "text/plain": [
       "['Future', 'Juice WRLD']"
      ]
     },
     "execution_count": 118,
     "metadata": {},
     "output_type": "execute_result"
    }
   ],
   "source": [
    "get_all_album_artists_names('3fFBZvG777xoKyvcrBq7lc?si=f241a44d776b451a')"
   ]
  },
  {
   "cell_type": "markdown",
   "id": "518b8b98",
   "metadata": {},
   "source": [
    "#### Album artists ids function"
   ]
  },
  {
   "cell_type": "code",
   "execution_count": 119,
   "id": "a74aa587",
   "metadata": {},
   "outputs": [],
   "source": [
    "def get_all_album_artists_ids(track_id):\n",
    "    \"\"\" Returns a list of all artist ids for the given track's album\"\"\"\n",
    "    meta = sp.track(track_id)\n",
    "    album_artist_id_list = []\n",
    "    for item in (meta['album']['artists']):\n",
    "        album_artist_id = item['id']\n",
    "        album_artist_id_list.append(album_artist_id)\n",
    "    return album_artist_id_list     "
   ]
  },
  {
   "cell_type": "markdown",
   "id": "4cc6bfbc",
   "metadata": {},
   "source": [
    "Test with track id '3fFBZvG777xoKyvcrBq7lc?si=f241a44d776b451a'"
   ]
  },
  {
   "cell_type": "code",
   "execution_count": 120,
   "id": "0723625d",
   "metadata": {},
   "outputs": [
    {
     "data": {
      "text/plain": [
       "['1RyvyyTE3xzB2ZywiAwp0i', '4MCBfE4596Uoi2O4DtmEMz']"
      ]
     },
     "execution_count": 120,
     "metadata": {},
     "output_type": "execute_result"
    }
   ],
   "source": [
    "get_all_album_artists_ids('3fFBZvG777xoKyvcrBq7lc?si=f241a44d776b451a')"
   ]
  },
  {
   "cell_type": "markdown",
   "id": "179953f5",
   "metadata": {},
   "source": [
    "#### Album artists genres function"
   ]
  },
  {
   "cell_type": "code",
   "execution_count": 121,
   "id": "763e0b11",
   "metadata": {},
   "outputs": [],
   "source": [
    "def get_all_album_artists_genres(track_id):\n",
    "    \"\"\" Returns a lits of genres for the given track's album artists\"\"\"\n",
    "    meta = sp.track(track_id)\n",
    "    album_artist_genre_list = []\n",
    "    for item in (meta['album']['artists']):\n",
    "        album_artist_id = item['id']\n",
    "        album_artist_genres = sp.artist(album_artist_id)['genres']\n",
    "        album_artist_genre_list.append(album_artist_genres)\n",
    "    return album_artist_genre_list     "
   ]
  },
  {
   "cell_type": "markdown",
   "id": "b2c976b7",
   "metadata": {},
   "source": [
    "Test with track id '3fFBZvG777xoKyvcrBq7lc?si=f241a44d776b451a'"
   ]
  },
  {
   "cell_type": "code",
   "execution_count": 122,
   "id": "fcc050a4",
   "metadata": {},
   "outputs": [
    {
     "data": {
      "text/plain": [
       "[['atl hip hop', 'hip hop', 'pop rap', 'rap', 'southern hip hop', 'trap'],\n",
       " ['chicago rap', 'melodic rap']]"
      ]
     },
     "execution_count": 122,
     "metadata": {},
     "output_type": "execute_result"
    }
   ],
   "source": [
    "get_all_album_artists_genres('3fFBZvG777xoKyvcrBq7lc?si=f241a44d776b451a')"
   ]
  },
  {
   "cell_type": "markdown",
   "id": "a8569024",
   "metadata": {},
   "source": [
    "#### Album artists popularity function"
   ]
  },
  {
   "cell_type": "code",
   "execution_count": 123,
   "id": "b8f09b7a",
   "metadata": {},
   "outputs": [],
   "source": [
    "def get_all_album_artists_popularity(track_id):\n",
    "    \"\"\"Returns a list of popularity values for the given track's album artists\"\"\"\n",
    "    meta = sp.track(track_id)\n",
    "    album_artist_popularity_list = []\n",
    "    for item in (meta['album']['artists']):\n",
    "        album_artist_id = item['id']\n",
    "        album_artist_popularity = sp.artist(album_artist_id)['popularity']\n",
    "        album_artist_popularity_list.append(album_artist_popularity)\n",
    "    return album_artist_popularity_list     "
   ]
  },
  {
   "cell_type": "markdown",
   "id": "5be87229",
   "metadata": {},
   "source": [
    "Test with track id '3fFBZvG777xoKyvcrBq7lc?si=f241a44d776b451a'"
   ]
  },
  {
   "cell_type": "code",
   "execution_count": 124,
   "id": "0d9921c1",
   "metadata": {},
   "outputs": [
    {
     "data": {
      "text/plain": [
       "[91, 97]"
      ]
     },
     "execution_count": 124,
     "metadata": {},
     "output_type": "execute_result"
    }
   ],
   "source": [
    "get_all_album_artists_popularity('3fFBZvG777xoKyvcrBq7lc?si=f241a44d776b451a')"
   ]
  },
  {
   "cell_type": "markdown",
   "id": "e57c57f3",
   "metadata": {},
   "source": [
    "#### Album artists followers function"
   ]
  },
  {
   "cell_type": "code",
   "execution_count": 125,
   "id": "0d492e35",
   "metadata": {},
   "outputs": [],
   "source": [
    "def get_all_album_artists_followers(track_id):\n",
    "    \"\"\" Returns the follower count for all of the given thack's album artists\"\"\"\n",
    "    meta = sp.track(track_id)\n",
    "    album_artist_followers_list = []\n",
    "    for item in (meta['album']['artists']):\n",
    "        album_artist_id = item['id']\n",
    "        album_artist_followers = sp.artist(album_artist_id)['followers']['total']\n",
    "        album_artist_followers_list.append(album_artist_followers)\n",
    "    return album_artist_followers_list     "
   ]
  },
  {
   "cell_type": "markdown",
   "id": "35bf99db",
   "metadata": {},
   "source": [
    "Test with track id '3fFBZvG777xoKyvcrBq7lc?si=f241a44d776b451a'"
   ]
  },
  {
   "cell_type": "code",
   "execution_count": 126,
   "id": "6549f9c7",
   "metadata": {},
   "outputs": [
    {
     "data": {
      "text/plain": [
       "[10985372, 21575514]"
      ]
     },
     "execution_count": 126,
     "metadata": {},
     "output_type": "execute_result"
    }
   ],
   "source": [
    "get_all_album_artists_followers('3fFBZvG777xoKyvcrBq7lc?si=f241a44d776b451a')"
   ]
  },
  {
   "cell_type": "markdown",
   "id": "67fcc9da",
   "metadata": {},
   "source": [
    "#### Track artists names function"
   ]
  },
  {
   "cell_type": "code",
   "execution_count": 127,
   "id": "36fb7dba",
   "metadata": {},
   "outputs": [],
   "source": [
    "def get_all_track_artists_names(track_id):\n",
    "    \"\"\" Returns a list of the given track's artist names\"\"\"\n",
    "    meta = sp.track(track_id)\n",
    "    track_artist_list = []\n",
    "    for item in (meta['artists']):\n",
    "        track_artist = item['name']\n",
    "        track_artist_list.append(track_artist)\n",
    "    return track_artist_list     "
   ]
  },
  {
   "cell_type": "markdown",
   "id": "31f58f9f",
   "metadata": {},
   "source": [
    "Test with track id '3fFBZvG777xoKyvcrBq7lc?si=f241a44d776b451a'"
   ]
  },
  {
   "cell_type": "code",
   "execution_count": 128,
   "id": "28bda693",
   "metadata": {},
   "outputs": [
    {
     "data": {
      "text/plain": [
       "['Future', 'Juice WRLD', 'Young Thug']"
      ]
     },
     "execution_count": 128,
     "metadata": {},
     "output_type": "execute_result"
    }
   ],
   "source": [
    "get_all_track_artists_names('3fFBZvG777xoKyvcrBq7lc?si=f241a44d776b451a')"
   ]
  },
  {
   "cell_type": "markdown",
   "id": "95dc8536",
   "metadata": {},
   "source": [
    "#### Track artists ids function"
   ]
  },
  {
   "cell_type": "code",
   "execution_count": 129,
   "id": "2fb03258",
   "metadata": {},
   "outputs": [],
   "source": [
    "def get_all_track_artists_ids(track_id):\n",
    "    \"\"\" Returns a list of the given track's artist ids\"\"\"\n",
    "    meta = sp.track(track_id)\n",
    "    track_artist_id_list = []\n",
    "    for item in (meta['artists']):\n",
    "        track_artist = item['id']\n",
    "        track_artist_id_list.append(track_artist)\n",
    "    return track_artist_id_list     "
   ]
  },
  {
   "cell_type": "markdown",
   "id": "bffeb32a",
   "metadata": {},
   "source": [
    "Test with track id '3fFBZvG777xoKyvcrBq7lc?si=f241a44d776b451a'"
   ]
  },
  {
   "cell_type": "code",
   "execution_count": 130,
   "id": "dfe69601",
   "metadata": {},
   "outputs": [
    {
     "data": {
      "text/plain": [
       "['1RyvyyTE3xzB2ZywiAwp0i', '4MCBfE4596Uoi2O4DtmEMz', '50co4Is1HCEo8bhOyUWKpn']"
      ]
     },
     "execution_count": 130,
     "metadata": {},
     "output_type": "execute_result"
    }
   ],
   "source": [
    "get_all_track_artists_ids('3fFBZvG777xoKyvcrBq7lc?si=f241a44d776b451a')"
   ]
  },
  {
   "cell_type": "markdown",
   "id": "c975e3fa",
   "metadata": {},
   "source": [
    "#### Track artists genres function"
   ]
  },
  {
   "cell_type": "code",
   "execution_count": 131,
   "id": "78f3e4bf",
   "metadata": {},
   "outputs": [],
   "source": [
    "def get_all_track_artists_genres(track_id):\n",
    "    \"\"\" Returns a list of the given track's artists' genres \"\"\"\n",
    "    meta = sp.track(track_id)\n",
    "    track_artist_genre_list = []\n",
    "    for item in (meta['artists']):\n",
    "        track_artist_id = item['id']\n",
    "        track_artist_genres = sp.artist(track_artist_id)['genres']\n",
    "        track_artist_genre_list.append(track_artist_genres)\n",
    "    return track_artist_genre_list     "
   ]
  },
  {
   "cell_type": "markdown",
   "id": "22775583",
   "metadata": {},
   "source": [
    "Test with track id '3fFBZvG777xoKyvcrBq7lc?si=f241a44d776b451a'"
   ]
  },
  {
   "cell_type": "code",
   "execution_count": 132,
   "id": "92b98fe1",
   "metadata": {},
   "outputs": [
    {
     "data": {
      "text/plain": [
       "[['atl hip hop', 'hip hop', 'pop rap', 'rap', 'southern hip hop', 'trap'],\n",
       " ['chicago rap', 'melodic rap'],\n",
       " ['atl hip hop',\n",
       "  'atl trap',\n",
       "  'gangster rap',\n",
       "  'hip hop',\n",
       "  'melodic rap',\n",
       "  'rap',\n",
       "  'trap']]"
      ]
     },
     "execution_count": 132,
     "metadata": {},
     "output_type": "execute_result"
    }
   ],
   "source": [
    "get_all_track_artists_genres('3fFBZvG777xoKyvcrBq7lc?si=f241a44d776b451a')"
   ]
  },
  {
   "cell_type": "markdown",
   "id": "ea00d803",
   "metadata": {},
   "source": [
    "#### Track artists popularity function"
   ]
  },
  {
   "cell_type": "code",
   "execution_count": 133,
   "id": "4d89f684",
   "metadata": {},
   "outputs": [],
   "source": [
    "def get_all_track_artists_popularity(track_id):\n",
    "    \"\"\"Returns a list of the given track's artists' popularity values\"\"\"\n",
    "    meta = sp.track(track_id)\n",
    "    track_artist_popularity_list = []\n",
    "    for item in (meta['artists']):\n",
    "        track_artist_id = item['id']\n",
    "        track_artist_popularity = sp.artist(track_artist_id)['popularity']\n",
    "        track_artist_popularity_list.append(track_artist_popularity)\n",
    "    return track_artist_popularity_list     "
   ]
  },
  {
   "cell_type": "markdown",
   "id": "be392e56",
   "metadata": {},
   "source": [
    "Test with track id '3fFBZvG777xoKyvcrBq7lc?si=f241a44d776b451a'"
   ]
  },
  {
   "cell_type": "code",
   "execution_count": 134,
   "id": "df5e8f59",
   "metadata": {},
   "outputs": [
    {
     "data": {
      "text/plain": [
       "[91, 97, 90]"
      ]
     },
     "execution_count": 134,
     "metadata": {},
     "output_type": "execute_result"
    }
   ],
   "source": [
    "get_all_track_artists_popularity('3fFBZvG777xoKyvcrBq7lc?si=f241a44d776b451a')"
   ]
  },
  {
   "cell_type": "markdown",
   "id": "987453a3",
   "metadata": {},
   "source": [
    "#### Track artists followers function"
   ]
  },
  {
   "cell_type": "code",
   "execution_count": 135,
   "id": "6524e4a2",
   "metadata": {},
   "outputs": [],
   "source": [
    "def get_all_track_artists_followers(track_id):\n",
    "    \"\"\" Returns a list of the given track's artists' follwer counts\"\"\"\n",
    "    meta = sp.track(track_id)\n",
    "    track_artist_followers_list = []\n",
    "    for item in (meta['artists']):\n",
    "        track_artist_id = item['id']\n",
    "        track_artist_followers = sp.artist(track_artist_id)['followers']['total']\n",
    "        track_artist_followers_list.append(track_artist_followers)\n",
    "    return track_artist_followers_list     "
   ]
  },
  {
   "cell_type": "markdown",
   "id": "5d2a1744",
   "metadata": {},
   "source": [
    "Test with track id '3fFBZvG777xoKyvcrBq7lc?si=f241a44d776b451a'"
   ]
  },
  {
   "cell_type": "code",
   "execution_count": 136,
   "id": "1f86a963",
   "metadata": {},
   "outputs": [
    {
     "data": {
      "text/plain": [
       "[10985372, 21575514, 6843959]"
      ]
     },
     "execution_count": 136,
     "metadata": {},
     "output_type": "execute_result"
    }
   ],
   "source": [
    "get_all_track_artists_followers('3fFBZvG777xoKyvcrBq7lc?si=f241a44d776b451a')"
   ]
  },
  {
   "cell_type": "markdown",
   "id": "7d47e0dd",
   "metadata": {},
   "source": [
    "### Playlist data return function"
   ]
  },
  {
   "cell_type": "code",
   "execution_count": 137,
   "id": "4e4e117b",
   "metadata": {},
   "outputs": [],
   "source": [
    "def get_playlist_tracks_more_than_100_songs(username, playlist_id):\n",
    "    \"\"\" Returns data for a playlists's tracks and creates a dataframe \"\"\"\n",
    "    results = sp.user_playlist_tracks(username, playlist_id)\n",
    "    playlist_name = sp.playlist(playlist_id)['name']\n",
    "    tracks = results['items']\n",
    "    \"\"\" Loop for continuing through Spotify pagination of playlist tracks\"\"\"\n",
    "    while results['next']:\n",
    "        results = sp.next(results)\n",
    "        tracks.extend(results['items'])\n",
    "    results = tracks    \n",
    "    \n",
    "    \"\"\"Create list containers for track information\"\"\"\n",
    "    pl_id = []\n",
    "    pl_name = []\n",
    "    chart_position = []\n",
    "    album_name = []\n",
    "    album_id = []\n",
    "    album_release_date = []\n",
    "    album_artists = []\n",
    "    album_artists_ids = []\n",
    "    album_artists_genres = []\n",
    "    album_artists_popularity = []\n",
    "    album_artists_followers = []\n",
    "    track_name = []\n",
    "    track_id = []\n",
    "    track_popularity = []\n",
    "    track_explicit = []\n",
    "    track_artists = []\n",
    "    track_artists_ids = []\n",
    "    track_artists_genres = []\n",
    "    track_artists_popularity = []\n",
    "    track_artists_followers = []\n",
    "\n",
    "    \"\"\"Loop for pulling track information\"\"\"\n",
    "    \"\"\"tqdm included to provide a progress bar\"\"\"\n",
    "    for i in tqdm(range(len(results))):\n",
    "        if i == 0:\n",
    "            \"\"\" Set inital call variablesfor first row\"\"\"\n",
    "            pl_id = playlist_id\n",
    "            pl_name = playlist_name\n",
    "            chart_position = i + 1\n",
    "            album_name = results[i]['track']['album']['name']\n",
    "            album_id = results[i]['track']['album']['id']\n",
    "            album_release_date = results[i]['track']['album']['release_date']\n",
    "            album_artists = get_all_album_artists_names(results[i]['track']['id'])\n",
    "            album_artists_ids = get_all_album_artists_ids(results[i]['track']['id'])\n",
    "            album_artists_genres = get_all_album_artists_genres(results[i]['track']['id'])\n",
    "            album_artists_popularity = get_all_album_artists_popularity(results[i]['track']['id'])\n",
    "            album_artists_followers = get_all_album_artists_followers(results[i]['track']['id'])\n",
    "            track_name = results[i]['track']['name']\n",
    "            track_id = results[i]['track']['id']\n",
    "            track_popularity = results[i]['track']['popularity']\n",
    "            track_explicit = results[i]['track']['explicit']\n",
    "            track_artists = get_all_track_artists_names(results[i]['track']['id'])\n",
    "            track_artists_ids = get_all_album_artists_ids(results[i]['track']['id'])\n",
    "            track_artists_genres = get_all_album_artists_genres(results[i]['track']['id'])\n",
    "            track_artists_popularity = get_all_album_artists_popularity(results[i]['track']['id'])\n",
    "            track_artists_followers = get_all_album_artists_followers(results[i]['track']['id'])\n",
    "            \"\"\"Call a list of all audio features\"\"\"\n",
    "            features = sp.audio_features(track_id)\n",
    "            \"\"\"Create dataframe\"\"\"\n",
    "            features_df = pd.DataFrame(data=features, columns=features[0].keys())\n",
    "            \"\"\" Set data value location from created variables\"\"\"\n",
    "            features_df['playlist_id'] = pl_id\n",
    "            features_df['playlist_name'] = pl_name\n",
    "            features_df['position'] = chart_position\n",
    "            features_df['album_name'] = album_name\n",
    "            features_df['album_id'] = album_id\n",
    "            features_df['album_release_date'] = album_release_date\n",
    "            features_df['album_artists'] = album_artists\n",
    "            features_df['album_artists_ids'] = album_artists_ids\n",
    "            features_df['album_artists_genres'] = album_artists_genres\n",
    "            features_df['album_artists_popularity'] = album_artists_popularity\n",
    "            features_df['album_artists_followers'] = album_artists_followers\n",
    "            features_df['track_name'] = track_name\n",
    "            features_df['track_id'] = track_id\n",
    "            features_df['track_popularity'] = track_popularity\n",
    "            features_df['track_explicit'] = track_explicit\n",
    "            features_df['track_artists'] = track_artists\n",
    "            features_df['track_artists_ids'] = track_artists_ids\n",
    "            features_df['track_artists_genres'] = track_artists_genres\n",
    "            features_df['track_artists_popularity'] = track_artists_popularity\n",
    "            features_df['track_artists_followers'] = track_artists_followers            \n",
    "            \"\"\" Set index values\"\"\"\n",
    "            features_df = features_df[['playlist_id', 'playlist_name', 'position', \n",
    "                                       'album_name', 'album_id', 'album_release_date', 'album_artists', 'album_artists_ids',\n",
    "                                       'album_artists_genres', 'album_artists_popularity', 'album_artists_followers',\n",
    "                                       'track_name', 'track_id', 'track_popularity', 'track_artists', \n",
    "                                       'track_artists_ids', 'track_artists_genres', 'track_artists_popularity', \n",
    "                                       'track_explicit', 'track_artists_followers', 'danceability', 'energy', \n",
    "                                       'key', 'loudness', 'mode', 'acousticness', 'instrumentalness',\n",
    "                                       'liveness', 'valence', 'tempo',\n",
    "                                       'duration_ms', 'time_signature']]\n",
    "            continue\n",
    "        else:\n",
    "            try:\n",
    "                \"\"\" Set inital call variablesfor subsequent rows\"\"\"\n",
    "                pl_id = playlist_id\n",
    "                pl_name = playlist_name\n",
    "                chart_position = (i + 1)\n",
    "                album_name = results[i]['track']['album']['name']\n",
    "                album_id = results[i]['track']['album']['id']\n",
    "                album_release_date = results[i]['track']['album']['release_date']\n",
    "                album_artists = get_all_album_artists_names(results[i]['track']['id'])\n",
    "                album_artists_ids = get_all_album_artists_ids(results[i]['track']['id'])\n",
    "                album_artists_genres = get_all_album_artists_genres(results[i]['track']['id'])\n",
    "                album_artists_popularity = get_all_album_artists_popularity(results[i]['track']['id'])\n",
    "                album_artists_followers = get_all_album_artists_followers(results[i]['track']['id'])\n",
    "                track_name = results[i]['track']['name']\n",
    "                track_id = results[i]['track']['id']\n",
    "                track_popularity = results[i]['track']['popularity']\n",
    "                track_artists = get_all_track_artists_names(results[i]['track']['id'])\n",
    "                track_artists_ids = get_all_album_artists_ids(results[i]['track']['id'])\n",
    "                track_artists_genres = get_all_album_artists_genres(results[i]['track']['id'])\n",
    "                track_artists_popularity = get_all_album_artists_popularity(results[i]['track']['id'])\n",
    "                track_explicit = results[i]['track']['explicit']\n",
    "                track_artists_followers = get_all_album_artists_followers(results[i]['track']['id'])\n",
    "                \"\"\"Call a list of all audio features\"\"\"\n",
    "                features = sp.audio_features(track_id)\n",
    "                \"\"\"Create new row dict\"\"\"\n",
    "                new_row = {'playlist_id': [pl_id],\n",
    "                    'playlist_name': [pl_name],\n",
    "                    'position': [chart_position],\n",
    "                    'album_name': [album_name],\n",
    "                    'album_id': [album_id],\n",
    "                    'album_release_date': [album_release_date],\n",
    "                    'album_artists': [album_artists],\n",
    "                    'album_artists_ids': [album_artists_ids],\n",
    "                    'album_artists_genres': [album_artists_genres],\n",
    "                    'album_artists_popularity': [album_artists_popularity],\n",
    "                    'album_artists_followers': [album_artists_followers],\n",
    "                    'track_name': [track_name],\n",
    "                    'track_id': [track_id],\n",
    "                    'track_popularity': [track_popularity],\n",
    "                    'track_artists': [track_artists],\n",
    "                    'track_artists_ids': [track_artists_ids],\n",
    "                    'track_artists_genres': [track_artists_genres],\n",
    "                    'track_artists_popularity': [track_artists_popularity],\n",
    "                    'track_explicit': [track_explicit],\n",
    "                    'track_artists_followers': [track_artists_followers],\n",
    "                    'danceability':[features[0]['danceability']],\n",
    "                    'energy':[features[0]['energy']],\n",
    "                    'key':[features[0]['key']],\n",
    "                    'loudness':[features[0]['loudness']],\n",
    "                    'mode':[features[0]['mode']],\n",
    "                    'acousticness':[features[0]['acousticness']],\n",
    "                    'instrumentalness':[features[0]['instrumentalness']],\n",
    "                    'liveness':[features[0]['liveness']],\n",
    "                    'valence':[features[0]['valence']],\n",
    "                    'tempo':[features[0]['tempo']],\n",
    "                    'duration_ms':[features[0]['duration_ms']],\n",
    "                    'time_signature':[features[0]['time_signature']]\n",
    "                }\n",
    "\n",
    "                \"\"\"Convert new row to dataframe and concat to working df\"\"\"\n",
    "                dfs = [features_df, pd.DataFrame(new_row)]\n",
    "                features_df = pd.concat(dfs, ignore_index = True)\n",
    "            except:\n",
    "                continue\n",
    "                \n",
    "    return features_df"
   ]
  },
  {
   "cell_type": "markdown",
   "id": "2dd334a4",
   "metadata": {},
   "source": [
    "#### Playlist data return test"
   ]
  },
  {
   "cell_type": "code",
   "execution_count": 69,
   "id": "d12ded99",
   "metadata": {},
   "outputs": [
    {
     "name": "stderr",
     "output_type": "stream",
     "text": [
      "100%|██████████| 200/200 [05:52<00:00,  1.76s/it]\n"
     ]
    }
   ],
   "source": [
    "chart2021 = get_playlist_tracks_more_than_100_songs('katiekellert', '3avCwQPH6DkhMTRsizon7N')"
   ]
  },
  {
   "cell_type": "code",
   "execution_count": 138,
   "id": "642aebcc",
   "metadata": {},
   "outputs": [
    {
     "data": {
      "text/html": [
       "<div>\n",
       "<style scoped>\n",
       "    .dataframe tbody tr th:only-of-type {\n",
       "        vertical-align: middle;\n",
       "    }\n",
       "\n",
       "    .dataframe tbody tr th {\n",
       "        vertical-align: top;\n",
       "    }\n",
       "\n",
       "    .dataframe thead th {\n",
       "        text-align: right;\n",
       "    }\n",
       "</style>\n",
       "<table border=\"1\" class=\"dataframe\">\n",
       "  <thead>\n",
       "    <tr style=\"text-align: right;\">\n",
       "      <th></th>\n",
       "      <th>playlist_id</th>\n",
       "      <th>playlist_name</th>\n",
       "      <th>position</th>\n",
       "      <th>album_name</th>\n",
       "      <th>album_id</th>\n",
       "      <th>album_release_date</th>\n",
       "      <th>album_artists</th>\n",
       "      <th>album_artists_ids</th>\n",
       "      <th>album_artists_genres</th>\n",
       "      <th>album_artists_popularity</th>\n",
       "      <th>album_artists_followers</th>\n",
       "      <th>track_name</th>\n",
       "      <th>track_id</th>\n",
       "      <th>track_popularity</th>\n",
       "      <th>track_artists</th>\n",
       "      <th>track_artists_ids</th>\n",
       "      <th>track_artists_genres</th>\n",
       "      <th>track_artists_popularity</th>\n",
       "      <th>track_explicit</th>\n",
       "      <th>track_artists_followers</th>\n",
       "      <th>danceability</th>\n",
       "      <th>energy</th>\n",
       "      <th>key</th>\n",
       "      <th>loudness</th>\n",
       "      <th>mode</th>\n",
       "      <th>acousticness</th>\n",
       "      <th>instrumentalness</th>\n",
       "      <th>liveness</th>\n",
       "      <th>valence</th>\n",
       "      <th>tempo</th>\n",
       "      <th>duration_ms</th>\n",
       "      <th>time_signature</th>\n",
       "    </tr>\n",
       "  </thead>\n",
       "  <tbody>\n",
       "    <tr>\n",
       "      <th>0</th>\n",
       "      <td>3avCwQPH6DkhMTRsizon7N</td>\n",
       "      <td>Billboard 200 Top Albums 2021</td>\n",
       "      <td>1</td>\n",
       "      <td>Dangerous: The Double Album</td>\n",
       "      <td>1qW1C4kDOXnrly22daHbxz</td>\n",
       "      <td>2021-01-08</td>\n",
       "      <td>Morgan Wallen</td>\n",
       "      <td>4oUHIQIBe0LHzYfvXNW4QM</td>\n",
       "      <td>[contemporary country]</td>\n",
       "      <td>87</td>\n",
       "      <td>2715211</td>\n",
       "      <td>More Than My Hometown</td>\n",
       "      <td>65mMCEOu5Ll1DBAfEUmerU</td>\n",
       "      <td>35</td>\n",
       "      <td>Morgan Wallen</td>\n",
       "      <td>4oUHIQIBe0LHzYfvXNW4QM</td>\n",
       "      <td>[contemporary country]</td>\n",
       "      <td>87</td>\n",
       "      <td>False</td>\n",
       "      <td>2715211</td>\n",
       "      <td>0.621</td>\n",
       "      <td>0.868</td>\n",
       "      <td>6</td>\n",
       "      <td>-5.478</td>\n",
       "      <td>1</td>\n",
       "      <td>0.617000</td>\n",
       "      <td>0.000000</td>\n",
       "      <td>0.1310</td>\n",
       "      <td>0.594</td>\n",
       "      <td>126.010</td>\n",
       "      <td>216573</td>\n",
       "      <td>4</td>\n",
       "    </tr>\n",
       "    <tr>\n",
       "      <th>1</th>\n",
       "      <td>3avCwQPH6DkhMTRsizon7N</td>\n",
       "      <td>Billboard 200 Top Albums 2021</td>\n",
       "      <td>2</td>\n",
       "      <td>SOUR</td>\n",
       "      <td>6s84u2TUpR3wdUv4NgKA2j</td>\n",
       "      <td>2021-05-21</td>\n",
       "      <td>[Olivia Rodrigo]</td>\n",
       "      <td>[1McMsnEElThX1knmY4oliG]</td>\n",
       "      <td>[[pop]]</td>\n",
       "      <td>[92]</td>\n",
       "      <td>[12169365]</td>\n",
       "      <td>drivers license</td>\n",
       "      <td>5wANPM4fQCJwkGd4rN57mH</td>\n",
       "      <td>93</td>\n",
       "      <td>[Olivia Rodrigo]</td>\n",
       "      <td>[1McMsnEElThX1knmY4oliG]</td>\n",
       "      <td>[[pop]]</td>\n",
       "      <td>[92]</td>\n",
       "      <td>True</td>\n",
       "      <td>[12169365]</td>\n",
       "      <td>0.561</td>\n",
       "      <td>0.431</td>\n",
       "      <td>10</td>\n",
       "      <td>-8.810</td>\n",
       "      <td>1</td>\n",
       "      <td>0.768000</td>\n",
       "      <td>0.000014</td>\n",
       "      <td>0.1060</td>\n",
       "      <td>0.137</td>\n",
       "      <td>143.875</td>\n",
       "      <td>242013</td>\n",
       "      <td>4</td>\n",
       "    </tr>\n",
       "    <tr>\n",
       "      <th>2</th>\n",
       "      <td>3avCwQPH6DkhMTRsizon7N</td>\n",
       "      <td>Billboard 200 Top Albums 2021</td>\n",
       "      <td>3</td>\n",
       "      <td>Shoot For The Stars Aim For The Moon</td>\n",
       "      <td>7e7t0MCrNDcJZsPwUKjmOc</td>\n",
       "      <td>2020-07-03</td>\n",
       "      <td>[Pop Smoke]</td>\n",
       "      <td>[0eDvMgVFoNV3TpwtrVCoTj]</td>\n",
       "      <td>[[brooklyn drill]]</td>\n",
       "      <td>[89]</td>\n",
       "      <td>[8745351]</td>\n",
       "      <td>What You Know Bout Love</td>\n",
       "      <td>1tkg4EHVoqnhR6iFEXb60y</td>\n",
       "      <td>86</td>\n",
       "      <td>[Pop Smoke]</td>\n",
       "      <td>[0eDvMgVFoNV3TpwtrVCoTj]</td>\n",
       "      <td>[[brooklyn drill]]</td>\n",
       "      <td>[89]</td>\n",
       "      <td>True</td>\n",
       "      <td>[8745351]</td>\n",
       "      <td>0.709</td>\n",
       "      <td>0.548</td>\n",
       "      <td>10</td>\n",
       "      <td>-8.493</td>\n",
       "      <td>1</td>\n",
       "      <td>0.650000</td>\n",
       "      <td>0.000002</td>\n",
       "      <td>0.1330</td>\n",
       "      <td>0.543</td>\n",
       "      <td>83.995</td>\n",
       "      <td>160000</td>\n",
       "      <td>4</td>\n",
       "    </tr>\n",
       "    <tr>\n",
       "      <th>3</th>\n",
       "      <td>3avCwQPH6DkhMTRsizon7N</td>\n",
       "      <td>Billboard 200 Top Albums 2021</td>\n",
       "      <td>4</td>\n",
       "      <td>evermore</td>\n",
       "      <td>2Xoteh7uEpea4TohMxjtaq</td>\n",
       "      <td>2020-12-11</td>\n",
       "      <td>[Taylor Swift]</td>\n",
       "      <td>[06HL4z0CvFAxyc27GXpf02]</td>\n",
       "      <td>[[pop]]</td>\n",
       "      <td>[100]</td>\n",
       "      <td>[47442319]</td>\n",
       "      <td>willow</td>\n",
       "      <td>0lx2cLdOt3piJbcaXIV74f</td>\n",
       "      <td>82</td>\n",
       "      <td>[Taylor Swift]</td>\n",
       "      <td>[06HL4z0CvFAxyc27GXpf02]</td>\n",
       "      <td>[[pop]]</td>\n",
       "      <td>[100]</td>\n",
       "      <td>False</td>\n",
       "      <td>[47442319]</td>\n",
       "      <td>0.392</td>\n",
       "      <td>0.574</td>\n",
       "      <td>7</td>\n",
       "      <td>-9.195</td>\n",
       "      <td>1</td>\n",
       "      <td>0.833000</td>\n",
       "      <td>0.001790</td>\n",
       "      <td>0.1450</td>\n",
       "      <td>0.529</td>\n",
       "      <td>81.112</td>\n",
       "      <td>214707</td>\n",
       "      <td>4</td>\n",
       "    </tr>\n",
       "    <tr>\n",
       "      <th>4</th>\n",
       "      <td>3avCwQPH6DkhMTRsizon7N</td>\n",
       "      <td>Billboard 200 Top Albums 2021</td>\n",
       "      <td>5</td>\n",
       "      <td>Certified Lover Boy</td>\n",
       "      <td>3SpBlxme9WbeQdI9kx7KAV</td>\n",
       "      <td>2021-09-03</td>\n",
       "      <td>[Drake]</td>\n",
       "      <td>[3TVXtAsR1Inumwj472S9r4]</td>\n",
       "      <td>[[canadian hip hop, canadian pop, hip hop, rap...</td>\n",
       "      <td>[98]</td>\n",
       "      <td>[59891739]</td>\n",
       "      <td>Way 2 Sexy (with Future &amp; Young Thug)</td>\n",
       "      <td>0k1WUmIRnG3xU6fvvDVfRG</td>\n",
       "      <td>90</td>\n",
       "      <td>[Drake, Future, Young Thug]</td>\n",
       "      <td>[3TVXtAsR1Inumwj472S9r4]</td>\n",
       "      <td>[[canadian hip hop, canadian pop, hip hop, rap...</td>\n",
       "      <td>[98]</td>\n",
       "      <td>True</td>\n",
       "      <td>[59891739]</td>\n",
       "      <td>0.803</td>\n",
       "      <td>0.597</td>\n",
       "      <td>11</td>\n",
       "      <td>-6.035</td>\n",
       "      <td>0</td>\n",
       "      <td>0.000619</td>\n",
       "      <td>0.000005</td>\n",
       "      <td>0.3230</td>\n",
       "      <td>0.331</td>\n",
       "      <td>136.008</td>\n",
       "      <td>257605</td>\n",
       "      <td>4</td>\n",
       "    </tr>\n",
       "    <tr>\n",
       "      <th>...</th>\n",
       "      <td>...</td>\n",
       "      <td>...</td>\n",
       "      <td>...</td>\n",
       "      <td>...</td>\n",
       "      <td>...</td>\n",
       "      <td>...</td>\n",
       "      <td>...</td>\n",
       "      <td>...</td>\n",
       "      <td>...</td>\n",
       "      <td>...</td>\n",
       "      <td>...</td>\n",
       "      <td>...</td>\n",
       "      <td>...</td>\n",
       "      <td>...</td>\n",
       "      <td>...</td>\n",
       "      <td>...</td>\n",
       "      <td>...</td>\n",
       "      <td>...</td>\n",
       "      <td>...</td>\n",
       "      <td>...</td>\n",
       "      <td>...</td>\n",
       "      <td>...</td>\n",
       "      <td>...</td>\n",
       "      <td>...</td>\n",
       "      <td>...</td>\n",
       "      <td>...</td>\n",
       "      <td>...</td>\n",
       "      <td>...</td>\n",
       "      <td>...</td>\n",
       "      <td>...</td>\n",
       "      <td>...</td>\n",
       "      <td>...</td>\n",
       "    </tr>\n",
       "    <tr>\n",
       "      <th>195</th>\n",
       "      <td>3avCwQPH6DkhMTRsizon7N</td>\n",
       "      <td>Billboard 200 Top Albums 2021</td>\n",
       "      <td>196</td>\n",
       "      <td>Hybrid Theory</td>\n",
       "      <td>2pKw6GERJVAD61449B1EEM</td>\n",
       "      <td>2000-10-24</td>\n",
       "      <td>[Linkin Park]</td>\n",
       "      <td>[6XyY86QOPPrYVGvF9ch6wz]</td>\n",
       "      <td>[[alternative metal, nu metal, post-grunge, ra...</td>\n",
       "      <td>[87]</td>\n",
       "      <td>[20797814]</td>\n",
       "      <td>In the End</td>\n",
       "      <td>3tSmXSxaAnU1EPGKa6NytH</td>\n",
       "      <td>67</td>\n",
       "      <td>[Linkin Park]</td>\n",
       "      <td>[6XyY86QOPPrYVGvF9ch6wz]</td>\n",
       "      <td>[[alternative metal, nu metal, post-grunge, ra...</td>\n",
       "      <td>[87]</td>\n",
       "      <td>False</td>\n",
       "      <td>[20797814]</td>\n",
       "      <td>0.555</td>\n",
       "      <td>0.844</td>\n",
       "      <td>3</td>\n",
       "      <td>-6.567</td>\n",
       "      <td>0</td>\n",
       "      <td>0.008340</td>\n",
       "      <td>0.000000</td>\n",
       "      <td>0.0895</td>\n",
       "      <td>0.464</td>\n",
       "      <td>105.195</td>\n",
       "      <td>216800</td>\n",
       "      <td>4</td>\n",
       "    </tr>\n",
       "    <tr>\n",
       "      <th>196</th>\n",
       "      <td>3avCwQPH6DkhMTRsizon7N</td>\n",
       "      <td>Billboard 200 Top Albums 2021</td>\n",
       "      <td>197</td>\n",
       "      <td>The Chaos Chapter: FREEZE</td>\n",
       "      <td>5Zdr9vactwnJH4Vpe9Mid9</td>\n",
       "      <td>2021-05-31</td>\n",
       "      <td>[TOMORROW X TOGETHER]</td>\n",
       "      <td>[0ghlgldX5Dd6720Q3qFyQB]</td>\n",
       "      <td>[[k-pop, k-pop boy group]]</td>\n",
       "      <td>[81]</td>\n",
       "      <td>[5280216]</td>\n",
       "      <td>0X1=LOVESONG (I Know I Love You) feat. Seori</td>\n",
       "      <td>1Z8TPHiKeCUyClxV6WTTIf</td>\n",
       "      <td>81</td>\n",
       "      <td>[TOMORROW X TOGETHER]</td>\n",
       "      <td>[0ghlgldX5Dd6720Q3qFyQB]</td>\n",
       "      <td>[[k-pop, k-pop boy group]]</td>\n",
       "      <td>[81]</td>\n",
       "      <td>False</td>\n",
       "      <td>[5280216]</td>\n",
       "      <td>0.584</td>\n",
       "      <td>0.836</td>\n",
       "      <td>0</td>\n",
       "      <td>-4.925</td>\n",
       "      <td>1</td>\n",
       "      <td>0.055800</td>\n",
       "      <td>0.000000</td>\n",
       "      <td>0.0663</td>\n",
       "      <td>0.484</td>\n",
       "      <td>104.973</td>\n",
       "      <td>202204</td>\n",
       "      <td>4</td>\n",
       "    </tr>\n",
       "    <tr>\n",
       "      <th>197</th>\n",
       "      <td>3avCwQPH6DkhMTRsizon7N</td>\n",
       "      <td>Billboard 200 Top Albums 2021</td>\n",
       "      <td>198</td>\n",
       "      <td>21</td>\n",
       "      <td>0Lg1uZvI312TPqxNWShFXL</td>\n",
       "      <td>2011-01-24</td>\n",
       "      <td>[Adele]</td>\n",
       "      <td>[4dpARuHxo51G3z768sgnrY]</td>\n",
       "      <td>[[british soul, pop, pop soul, uk pop]]</td>\n",
       "      <td>[96]</td>\n",
       "      <td>[32679969]</td>\n",
       "      <td>Someone Like You</td>\n",
       "      <td>1zwMYTA5nlNjZxYrvBB2pV</td>\n",
       "      <td>82</td>\n",
       "      <td>[Adele]</td>\n",
       "      <td>[4dpARuHxo51G3z768sgnrY]</td>\n",
       "      <td>[[british soul, pop, pop soul, uk pop]]</td>\n",
       "      <td>[96]</td>\n",
       "      <td>False</td>\n",
       "      <td>[32679969]</td>\n",
       "      <td>0.556</td>\n",
       "      <td>0.319</td>\n",
       "      <td>9</td>\n",
       "      <td>-8.251</td>\n",
       "      <td>1</td>\n",
       "      <td>0.893000</td>\n",
       "      <td>0.000000</td>\n",
       "      <td>0.0996</td>\n",
       "      <td>0.294</td>\n",
       "      <td>135.187</td>\n",
       "      <td>285240</td>\n",
       "      <td>4</td>\n",
       "    </tr>\n",
       "    <tr>\n",
       "      <th>198</th>\n",
       "      <td>3avCwQPH6DkhMTRsizon7N</td>\n",
       "      <td>Billboard 200 Top Albums 2021</td>\n",
       "      <td>199</td>\n",
       "      <td>OK ORCHESTRA</td>\n",
       "      <td>1y2AzG31F4CuCKQ1rpIzaI</td>\n",
       "      <td>2021-03-26</td>\n",
       "      <td>[AJR]</td>\n",
       "      <td>[6s22t5Y3prQHyaHWUN1R1C]</td>\n",
       "      <td>[[modern rock, pop rap]]</td>\n",
       "      <td>[79]</td>\n",
       "      <td>[2074176]</td>\n",
       "      <td>Bang!</td>\n",
       "      <td>5FQPpxOXsvkMN6v18gtpwY</td>\n",
       "      <td>68</td>\n",
       "      <td>[AJR]</td>\n",
       "      <td>[6s22t5Y3prQHyaHWUN1R1C]</td>\n",
       "      <td>[[modern rock, pop rap]]</td>\n",
       "      <td>[79]</td>\n",
       "      <td>False</td>\n",
       "      <td>[2074176]</td>\n",
       "      <td>0.740</td>\n",
       "      <td>0.517</td>\n",
       "      <td>1</td>\n",
       "      <td>-6.233</td>\n",
       "      <td>0</td>\n",
       "      <td>0.018300</td>\n",
       "      <td>0.000000</td>\n",
       "      <td>0.0558</td>\n",
       "      <td>0.698</td>\n",
       "      <td>139.917</td>\n",
       "      <td>170858</td>\n",
       "      <td>4</td>\n",
       "    </tr>\n",
       "    <tr>\n",
       "      <th>199</th>\n",
       "      <td>3avCwQPH6DkhMTRsizon7N</td>\n",
       "      <td>Billboard 200 Top Albums 2021</td>\n",
       "      <td>200</td>\n",
       "      <td>THE ALBUM</td>\n",
       "      <td>71O60S5gIJSIAhdnrDIh3N</td>\n",
       "      <td>2020-10-02</td>\n",
       "      <td>[BLACKPINK]</td>\n",
       "      <td>[41MozSoPIsD1dJM0CLPjZF]</td>\n",
       "      <td>[[k-pop, k-pop girl group]]</td>\n",
       "      <td>[85]</td>\n",
       "      <td>[27282575]</td>\n",
       "      <td>How You Like That</td>\n",
       "      <td>4SFknyjLcyTLJFPKD2m96o</td>\n",
       "      <td>81</td>\n",
       "      <td>[BLACKPINK]</td>\n",
       "      <td>[41MozSoPIsD1dJM0CLPjZF]</td>\n",
       "      <td>[[k-pop, k-pop girl group]]</td>\n",
       "      <td>[85]</td>\n",
       "      <td>False</td>\n",
       "      <td>[27282575]</td>\n",
       "      <td>0.812</td>\n",
       "      <td>0.761</td>\n",
       "      <td>11</td>\n",
       "      <td>-5.222</td>\n",
       "      <td>1</td>\n",
       "      <td>0.046500</td>\n",
       "      <td>0.000135</td>\n",
       "      <td>0.0601</td>\n",
       "      <td>0.344</td>\n",
       "      <td>130.032</td>\n",
       "      <td>182956</td>\n",
       "      <td>4</td>\n",
       "    </tr>\n",
       "  </tbody>\n",
       "</table>\n",
       "<p>200 rows × 32 columns</p>\n",
       "</div>"
      ],
      "text/plain": [
       "                playlist_id                  playlist_name  position  \\\n",
       "0    3avCwQPH6DkhMTRsizon7N  Billboard 200 Top Albums 2021         1   \n",
       "1    3avCwQPH6DkhMTRsizon7N  Billboard 200 Top Albums 2021         2   \n",
       "2    3avCwQPH6DkhMTRsizon7N  Billboard 200 Top Albums 2021         3   \n",
       "3    3avCwQPH6DkhMTRsizon7N  Billboard 200 Top Albums 2021         4   \n",
       "4    3avCwQPH6DkhMTRsizon7N  Billboard 200 Top Albums 2021         5   \n",
       "..                      ...                            ...       ...   \n",
       "195  3avCwQPH6DkhMTRsizon7N  Billboard 200 Top Albums 2021       196   \n",
       "196  3avCwQPH6DkhMTRsizon7N  Billboard 200 Top Albums 2021       197   \n",
       "197  3avCwQPH6DkhMTRsizon7N  Billboard 200 Top Albums 2021       198   \n",
       "198  3avCwQPH6DkhMTRsizon7N  Billboard 200 Top Albums 2021       199   \n",
       "199  3avCwQPH6DkhMTRsizon7N  Billboard 200 Top Albums 2021       200   \n",
       "\n",
       "                               album_name                album_id  \\\n",
       "0             Dangerous: The Double Album  1qW1C4kDOXnrly22daHbxz   \n",
       "1                                    SOUR  6s84u2TUpR3wdUv4NgKA2j   \n",
       "2    Shoot For The Stars Aim For The Moon  7e7t0MCrNDcJZsPwUKjmOc   \n",
       "3                                evermore  2Xoteh7uEpea4TohMxjtaq   \n",
       "4                     Certified Lover Boy  3SpBlxme9WbeQdI9kx7KAV   \n",
       "..                                    ...                     ...   \n",
       "195                         Hybrid Theory  2pKw6GERJVAD61449B1EEM   \n",
       "196             The Chaos Chapter: FREEZE  5Zdr9vactwnJH4Vpe9Mid9   \n",
       "197                                    21  0Lg1uZvI312TPqxNWShFXL   \n",
       "198                          OK ORCHESTRA  1y2AzG31F4CuCKQ1rpIzaI   \n",
       "199                             THE ALBUM  71O60S5gIJSIAhdnrDIh3N   \n",
       "\n",
       "    album_release_date          album_artists         album_artists_ids  \\\n",
       "0           2021-01-08          Morgan Wallen    4oUHIQIBe0LHzYfvXNW4QM   \n",
       "1           2021-05-21       [Olivia Rodrigo]  [1McMsnEElThX1knmY4oliG]   \n",
       "2           2020-07-03            [Pop Smoke]  [0eDvMgVFoNV3TpwtrVCoTj]   \n",
       "3           2020-12-11         [Taylor Swift]  [06HL4z0CvFAxyc27GXpf02]   \n",
       "4           2021-09-03                [Drake]  [3TVXtAsR1Inumwj472S9r4]   \n",
       "..                 ...                    ...                       ...   \n",
       "195         2000-10-24          [Linkin Park]  [6XyY86QOPPrYVGvF9ch6wz]   \n",
       "196         2021-05-31  [TOMORROW X TOGETHER]  [0ghlgldX5Dd6720Q3qFyQB]   \n",
       "197         2011-01-24                [Adele]  [4dpARuHxo51G3z768sgnrY]   \n",
       "198         2021-03-26                  [AJR]  [6s22t5Y3prQHyaHWUN1R1C]   \n",
       "199         2020-10-02            [BLACKPINK]  [41MozSoPIsD1dJM0CLPjZF]   \n",
       "\n",
       "                                  album_artists_genres  \\\n",
       "0                               [contemporary country]   \n",
       "1                                              [[pop]]   \n",
       "2                                   [[brooklyn drill]]   \n",
       "3                                              [[pop]]   \n",
       "4    [[canadian hip hop, canadian pop, hip hop, rap...   \n",
       "..                                                 ...   \n",
       "195  [[alternative metal, nu metal, post-grunge, ra...   \n",
       "196                         [[k-pop, k-pop boy group]]   \n",
       "197            [[british soul, pop, pop soul, uk pop]]   \n",
       "198                           [[modern rock, pop rap]]   \n",
       "199                        [[k-pop, k-pop girl group]]   \n",
       "\n",
       "    album_artists_popularity album_artists_followers  \\\n",
       "0                         87                 2715211   \n",
       "1                       [92]              [12169365]   \n",
       "2                       [89]               [8745351]   \n",
       "3                      [100]              [47442319]   \n",
       "4                       [98]              [59891739]   \n",
       "..                       ...                     ...   \n",
       "195                     [87]              [20797814]   \n",
       "196                     [81]               [5280216]   \n",
       "197                     [96]              [32679969]   \n",
       "198                     [79]               [2074176]   \n",
       "199                     [85]              [27282575]   \n",
       "\n",
       "                                       track_name                track_id  \\\n",
       "0                           More Than My Hometown  65mMCEOu5Ll1DBAfEUmerU   \n",
       "1                                 drivers license  5wANPM4fQCJwkGd4rN57mH   \n",
       "2                         What You Know Bout Love  1tkg4EHVoqnhR6iFEXb60y   \n",
       "3                                          willow  0lx2cLdOt3piJbcaXIV74f   \n",
       "4           Way 2 Sexy (with Future & Young Thug)  0k1WUmIRnG3xU6fvvDVfRG   \n",
       "..                                            ...                     ...   \n",
       "195                                    In the End  3tSmXSxaAnU1EPGKa6NytH   \n",
       "196  0X1=LOVESONG (I Know I Love You) feat. Seori  1Z8TPHiKeCUyClxV6WTTIf   \n",
       "197                              Someone Like You  1zwMYTA5nlNjZxYrvBB2pV   \n",
       "198                                         Bang!  5FQPpxOXsvkMN6v18gtpwY   \n",
       "199                             How You Like That  4SFknyjLcyTLJFPKD2m96o   \n",
       "\n",
       "     track_popularity                track_artists         track_artists_ids  \\\n",
       "0                  35                Morgan Wallen    4oUHIQIBe0LHzYfvXNW4QM   \n",
       "1                  93             [Olivia Rodrigo]  [1McMsnEElThX1knmY4oliG]   \n",
       "2                  86                  [Pop Smoke]  [0eDvMgVFoNV3TpwtrVCoTj]   \n",
       "3                  82               [Taylor Swift]  [06HL4z0CvFAxyc27GXpf02]   \n",
       "4                  90  [Drake, Future, Young Thug]  [3TVXtAsR1Inumwj472S9r4]   \n",
       "..                ...                          ...                       ...   \n",
       "195                67                [Linkin Park]  [6XyY86QOPPrYVGvF9ch6wz]   \n",
       "196                81        [TOMORROW X TOGETHER]  [0ghlgldX5Dd6720Q3qFyQB]   \n",
       "197                82                      [Adele]  [4dpARuHxo51G3z768sgnrY]   \n",
       "198                68                        [AJR]  [6s22t5Y3prQHyaHWUN1R1C]   \n",
       "199                81                  [BLACKPINK]  [41MozSoPIsD1dJM0CLPjZF]   \n",
       "\n",
       "                                  track_artists_genres  \\\n",
       "0                               [contemporary country]   \n",
       "1                                              [[pop]]   \n",
       "2                                   [[brooklyn drill]]   \n",
       "3                                              [[pop]]   \n",
       "4    [[canadian hip hop, canadian pop, hip hop, rap...   \n",
       "..                                                 ...   \n",
       "195  [[alternative metal, nu metal, post-grunge, ra...   \n",
       "196                         [[k-pop, k-pop boy group]]   \n",
       "197            [[british soul, pop, pop soul, uk pop]]   \n",
       "198                           [[modern rock, pop rap]]   \n",
       "199                        [[k-pop, k-pop girl group]]   \n",
       "\n",
       "    track_artists_popularity  track_explicit track_artists_followers  \\\n",
       "0                         87           False                 2715211   \n",
       "1                       [92]            True              [12169365]   \n",
       "2                       [89]            True               [8745351]   \n",
       "3                      [100]           False              [47442319]   \n",
       "4                       [98]            True              [59891739]   \n",
       "..                       ...             ...                     ...   \n",
       "195                     [87]           False              [20797814]   \n",
       "196                     [81]           False               [5280216]   \n",
       "197                     [96]           False              [32679969]   \n",
       "198                     [79]           False               [2074176]   \n",
       "199                     [85]           False              [27282575]   \n",
       "\n",
       "     danceability  energy  key  loudness  mode  acousticness  \\\n",
       "0           0.621   0.868    6    -5.478     1      0.617000   \n",
       "1           0.561   0.431   10    -8.810     1      0.768000   \n",
       "2           0.709   0.548   10    -8.493     1      0.650000   \n",
       "3           0.392   0.574    7    -9.195     1      0.833000   \n",
       "4           0.803   0.597   11    -6.035     0      0.000619   \n",
       "..            ...     ...  ...       ...   ...           ...   \n",
       "195         0.555   0.844    3    -6.567     0      0.008340   \n",
       "196         0.584   0.836    0    -4.925     1      0.055800   \n",
       "197         0.556   0.319    9    -8.251     1      0.893000   \n",
       "198         0.740   0.517    1    -6.233     0      0.018300   \n",
       "199         0.812   0.761   11    -5.222     1      0.046500   \n",
       "\n",
       "     instrumentalness  liveness  valence    tempo  duration_ms  time_signature  \n",
       "0            0.000000    0.1310    0.594  126.010       216573               4  \n",
       "1            0.000014    0.1060    0.137  143.875       242013               4  \n",
       "2            0.000002    0.1330    0.543   83.995       160000               4  \n",
       "3            0.001790    0.1450    0.529   81.112       214707               4  \n",
       "4            0.000005    0.3230    0.331  136.008       257605               4  \n",
       "..                ...       ...      ...      ...          ...             ...  \n",
       "195          0.000000    0.0895    0.464  105.195       216800               4  \n",
       "196          0.000000    0.0663    0.484  104.973       202204               4  \n",
       "197          0.000000    0.0996    0.294  135.187       285240               4  \n",
       "198          0.000000    0.0558    0.698  139.917       170858               4  \n",
       "199          0.000135    0.0601    0.344  130.032       182956               4  \n",
       "\n",
       "[200 rows x 32 columns]"
      ]
     },
     "execution_count": 138,
     "metadata": {},
     "output_type": "execute_result"
    }
   ],
   "source": [
    "chart2021"
   ]
  },
  {
   "cell_type": "code",
   "execution_count": 139,
   "id": "c782fe86",
   "metadata": {},
   "outputs": [
    {
     "name": "stdout",
     "output_type": "stream",
     "text": [
      "Index(['playlist_id', 'playlist_name', 'position', 'album_name', 'album_id',\n",
      "       'album_release_date', 'album_artists', 'album_artists_ids',\n",
      "       'album_artists_genres', 'album_artists_popularity',\n",
      "       'album_artists_followers', 'track_name', 'track_id', 'track_popularity',\n",
      "       'track_artists', 'track_artists_ids', 'track_artists_genres',\n",
      "       'track_artists_popularity', 'track_explicit', 'track_artists_followers',\n",
      "       'danceability', 'energy', 'key', 'loudness', 'mode', 'acousticness',\n",
      "       'instrumentalness', 'liveness', 'valence', 'tempo', 'duration_ms',\n",
      "       'time_signature'],\n",
      "      dtype='object')\n"
     ]
    },
    {
     "data": {
      "text/plain": [
       "32"
      ]
     },
     "execution_count": 139,
     "metadata": {},
     "output_type": "execute_result"
    }
   ],
   "source": [
    "print(chart2021.columns)\n",
    "len(chart2021.columns)"
   ]
  },
  {
   "cell_type": "markdown",
   "id": "29bbc60c",
   "metadata": {},
   "source": [
    "# ====================================================="
   ]
  },
  {
   "cell_type": "markdown",
   "id": "084099a2",
   "metadata": {},
   "source": [
    "### Get artist IDs from playlists or tracks"
   ]
  },
  {
   "cell_type": "markdown",
   "id": "8c50ea2c",
   "metadata": {},
   "source": [
    "#### Create track container dictionaries\n",
    "\n",
    "* Note that since artists variable is not created in cell with function call, subsequent calls will be appended to the same dictionary"
   ]
  },
  {
   "cell_type": "code",
   "execution_count": 140,
   "id": "daaff5fb",
   "metadata": {},
   "outputs": [],
   "source": [
    "artists = []"
   ]
  },
  {
   "cell_type": "markdown",
   "id": "03d0303a",
   "metadata": {},
   "source": [
    "#### Function to extract all of the tracks' artist ids from your playlist:"
   ]
  },
  {
   "cell_type": "code",
   "execution_count": 141,
   "id": "ff0bf57a",
   "metadata": {},
   "outputs": [],
   "source": [
    "def get_artist_ids(playlist_id):\n",
    "    \"\"\" Return a list of first listed track artists from playlist id\"\"\"\n",
    "    artist_id_list = []\n",
    "    playlist = sp.playlist(playlist_id)\n",
    "    for item in playlist['tracks']['items']:\n",
    "        music_track = item['track']\n",
    "        artist_id_list.append(music_track['artists'][0]['id'])\n",
    "    return artist_id_list "
   ]
  },
  {
   "cell_type": "markdown",
   "id": "6e200094",
   "metadata": {},
   "source": [
    "Test with playlist id '27Wi4y5VlHr43Q6UpZMVyS'"
   ]
  },
  {
   "cell_type": "code",
   "execution_count": 142,
   "id": "ec3592d8",
   "metadata": {},
   "outputs": [
    {
     "data": {
      "text/plain": [
       "['246dkjvS1zLTtiykXe5h60',\n",
       " '06HL4z0CvFAxyc27GXpf02',\n",
       " '4kYSro6naA4h99UJvo89HB',\n",
       " '15UsOTVnJzReFVN1VCnxy4',\n",
       " '2YZyLoL8N0Wb9xBt1NhZWg']"
      ]
     },
     "execution_count": 142,
     "metadata": {},
     "output_type": "execute_result"
    }
   ],
   "source": [
    "get_artist_ids('27Wi4y5VlHr43Q6UpZMVyS')"
   ]
  },
  {
   "cell_type": "code",
   "execution_count": 143,
   "id": "33aff8e9",
   "metadata": {},
   "outputs": [],
   "source": [
    "def get_all_track_artists_ids(track_id):\n",
    "    \"\"\" Return a list of all track artists from a track id\"\"\"\n",
    "    meta = sp.track(track_id)\n",
    "    track_artist_id_list = []\n",
    "    for item in (meta['artists']):\n",
    "        track_artist = item['id']\n",
    "        track_artist_id_list.append(track_artist)\n",
    "    return track_artist_id_list     "
   ]
  },
  {
   "cell_type": "markdown",
   "id": "48cb2e54",
   "metadata": {},
   "source": [
    "Test with track id '3fFBZvG777xoKyvcrBq7lc?si=f241a44d776b451a'"
   ]
  },
  {
   "cell_type": "code",
   "execution_count": 144,
   "id": "d8f94bc0",
   "metadata": {},
   "outputs": [
    {
     "data": {
      "text/plain": [
       "['1RyvyyTE3xzB2ZywiAwp0i', '4MCBfE4596Uoi2O4DtmEMz', '50co4Is1HCEo8bhOyUWKpn']"
      ]
     },
     "execution_count": 144,
     "metadata": {},
     "output_type": "execute_result"
    }
   ],
   "source": [
    "get_all_track_artists_ids('3fFBZvG777xoKyvcrBq7lc?si=f241a44d776b451a')"
   ]
  },
  {
   "cell_type": "markdown",
   "id": "86947923",
   "metadata": {},
   "source": [
    "#### Function to extract all the details of each artist by passing their ID:"
   ]
  },
  {
   "cell_type": "code",
   "execution_count": 145,
   "id": "9fa557dd",
   "metadata": {},
   "outputs": [],
   "source": [
    "def get_artist_data(artist_id):\n",
    "    \"\"\" Return artist data from a given artist id\"\"\"\n",
    "    meta = sp.artist(artist_id)\n",
    "    artist_details = {'artist id': meta['id'],\n",
    "                    'artist name': meta['name'],\n",
    "                    'genres': meta['genres'],\n",
    "                    'popularity': meta['popularity'],\n",
    "                    'followers': meta['followers']['total']\n",
    "                    }\n",
    "    return artist_details"
   ]
  },
  {
   "cell_type": "markdown",
   "id": "e3e7de27",
   "metadata": {},
   "source": [
    "####  Extract artist data"
   ]
  },
  {
   "cell_type": "markdown",
   "id": "cd951c8a",
   "metadata": {},
   "source": [
    "Extract artist data of each track\n",
    "\n",
    "For testing:  playlist_id = '27Wi4y5VlHr43Q6UpZMVyS'"
   ]
  },
  {
   "cell_type": "code",
   "execution_count": 146,
   "id": "44619276",
   "metadata": {},
   "outputs": [
    {
     "name": "stdout",
     "output_type": "stream",
     "text": [
      "Enter the playlist id27Wi4y5VlHr43Q6UpZMVyS\n"
     ]
    },
    {
     "name": "stderr",
     "output_type": "stream",
     "text": [
      "\r",
      "  0%|          | 0/5 [00:00<?, ?it/s]"
     ]
    },
    {
     "name": "stdout",
     "output_type": "stream",
     "text": [
      "5\n",
      "['246dkjvS1zLTtiykXe5h60', '06HL4z0CvFAxyc27GXpf02', '4kYSro6naA4h99UJvo89HB', '15UsOTVnJzReFVN1VCnxy4', '2YZyLoL8N0Wb9xBt1NhZWg']\n"
     ]
    },
    {
     "name": "stderr",
     "output_type": "stream",
     "text": [
      "100%|██████████| 5/5 [00:02<00:00,  1.69it/s]\n"
     ]
    }
   ],
   "source": [
    "# Get the ids for all the songs in your playlist\n",
    "playlist_id = input('Enter the playlist id')\n",
    "artist_ids = get_artist_ids(playlist_id)\n",
    "print(len(artist_ids))\n",
    "print(artist_ids)\n",
    "\n",
    "#  Loop over track ids and get their data points\n",
    "for i in tqdm(range(len(artist_ids))):\n",
    "    time.sleep(.5)\n",
    "    artist = get_artist_data(artist_ids[i])\n",
    "    artists.append(artist)"
   ]
  },
  {
   "cell_type": "markdown",
   "id": "001f39c4",
   "metadata": {},
   "source": [
    "#### Create dataframe"
   ]
  },
  {
   "cell_type": "code",
   "execution_count": 147,
   "id": "b6b7fd94",
   "metadata": {},
   "outputs": [
    {
     "data": {
      "text/html": [
       "<div>\n",
       "<style scoped>\n",
       "    .dataframe tbody tr th:only-of-type {\n",
       "        vertical-align: middle;\n",
       "    }\n",
       "\n",
       "    .dataframe tbody tr th {\n",
       "        vertical-align: top;\n",
       "    }\n",
       "\n",
       "    .dataframe thead th {\n",
       "        text-align: right;\n",
       "    }\n",
       "</style>\n",
       "<table border=\"1\" class=\"dataframe\">\n",
       "  <thead>\n",
       "    <tr style=\"text-align: right;\">\n",
       "      <th></th>\n",
       "      <th>artist id</th>\n",
       "      <th>artist name</th>\n",
       "      <th>genres</th>\n",
       "      <th>popularity</th>\n",
       "      <th>followers</th>\n",
       "    </tr>\n",
       "  </thead>\n",
       "  <tbody>\n",
       "    <tr>\n",
       "      <th>0</th>\n",
       "      <td>246dkjvS1zLTtiykXe5h60</td>\n",
       "      <td>Post Malone</td>\n",
       "      <td>[dfw rap, melodic rap, rap]</td>\n",
       "      <td>92</td>\n",
       "      <td>35414369</td>\n",
       "    </tr>\n",
       "    <tr>\n",
       "      <th>1</th>\n",
       "      <td>06HL4z0CvFAxyc27GXpf02</td>\n",
       "      <td>Taylor Swift</td>\n",
       "      <td>[pop]</td>\n",
       "      <td>100</td>\n",
       "      <td>47442319</td>\n",
       "    </tr>\n",
       "    <tr>\n",
       "      <th>2</th>\n",
       "      <td>4kYSro6naA4h99UJvo89HB</td>\n",
       "      <td>Cardi B</td>\n",
       "      <td>[dance pop, pop, pop rap, rap]</td>\n",
       "      <td>86</td>\n",
       "      <td>18871226</td>\n",
       "    </tr>\n",
       "    <tr>\n",
       "      <th>3</th>\n",
       "      <td>15UsOTVnJzReFVN1VCnxy4</td>\n",
       "      <td>XXXTENTACION</td>\n",
       "      <td>[emo rap, miami hip hop]</td>\n",
       "      <td>92</td>\n",
       "      <td>33521355</td>\n",
       "    </tr>\n",
       "    <tr>\n",
       "      <th>4</th>\n",
       "      <td>2YZyLoL8N0Wb9xBt1NhZWg</td>\n",
       "      <td>Kendrick Lamar</td>\n",
       "      <td>[conscious hip hop, hip hop, rap, west coast rap]</td>\n",
       "      <td>90</td>\n",
       "      <td>19003331</td>\n",
       "    </tr>\n",
       "  </tbody>\n",
       "</table>\n",
       "</div>"
      ],
      "text/plain": [
       "                artist id     artist name  \\\n",
       "0  246dkjvS1zLTtiykXe5h60     Post Malone   \n",
       "1  06HL4z0CvFAxyc27GXpf02    Taylor Swift   \n",
       "2  4kYSro6naA4h99UJvo89HB         Cardi B   \n",
       "3  15UsOTVnJzReFVN1VCnxy4    XXXTENTACION   \n",
       "4  2YZyLoL8N0Wb9xBt1NhZWg  Kendrick Lamar   \n",
       "\n",
       "                                              genres  popularity  followers  \n",
       "0                        [dfw rap, melodic rap, rap]          92   35414369  \n",
       "1                                              [pop]         100   47442319  \n",
       "2                     [dance pop, pop, pop rap, rap]          86   18871226  \n",
       "3                           [emo rap, miami hip hop]          92   33521355  \n",
       "4  [conscious hip hop, hip hop, rap, west coast rap]          90   19003331  "
      ]
     },
     "execution_count": 147,
     "metadata": {},
     "output_type": "execute_result"
    }
   ],
   "source": [
    "artist_df = pd.DataFrame(artists)\n",
    "artist_df.head()"
   ]
  },
  {
   "cell_type": "markdown",
   "id": "bd49292e",
   "metadata": {},
   "source": [
    "### Get track's audio features directly from playlist (for concept only, still a WIP)"
   ]
  },
  {
   "cell_type": "markdown",
   "id": "47defec9",
   "metadata": {},
   "source": [
    "#### Function to extract each track's data from a playlist directly"
   ]
  },
  {
   "cell_type": "code",
   "execution_count": 148,
   "id": "b56278b7",
   "metadata": {},
   "outputs": [],
   "source": [
    "def get_playlist_tracks(playlist_id):\n",
    "    \"\"\"Returns all playlist track data in a single row of lists\"\"\"\n",
    "    track_attributes = sp.playlist_tracks(playlist_id)\n",
    "    return track_attributes"
   ]
  },
  {
   "cell_type": "code",
   "execution_count": 149,
   "id": "ec8e88b0",
   "metadata": {},
   "outputs": [
    {
     "name": "stderr",
     "output_type": "stream",
     "text": [
      "100%|██████████| 1/1 [00:00<00:00,  1.55it/s]\n"
     ]
    }
   ],
   "source": [
    "playlist_tracks_data = []\n",
    "playlist_ids = ['0qfagBJB5ou0r1kwQDZ8Op']\n",
    "\n",
    "#  Loop over playlist ids and get their data points\n",
    "for i in tqdm(range(len(playlist_ids))):\n",
    "    time.sleep(.5)\n",
    "    playlist_track = get_playlist_tracks(playlist_ids[i])\n",
    "    playlist_tracks_data.append(playlist_track)"
   ]
  },
  {
   "cell_type": "code",
   "execution_count": 150,
   "id": "49f98bef",
   "metadata": {},
   "outputs": [
    {
     "data": {
      "text/html": [
       "<div>\n",
       "<style scoped>\n",
       "    .dataframe tbody tr th:only-of-type {\n",
       "        vertical-align: middle;\n",
       "    }\n",
       "\n",
       "    .dataframe tbody tr th {\n",
       "        vertical-align: top;\n",
       "    }\n",
       "\n",
       "    .dataframe thead th {\n",
       "        text-align: right;\n",
       "    }\n",
       "</style>\n",
       "<table border=\"1\" class=\"dataframe\">\n",
       "  <thead>\n",
       "    <tr style=\"text-align: right;\">\n",
       "      <th></th>\n",
       "      <th>href</th>\n",
       "      <th>items</th>\n",
       "      <th>limit</th>\n",
       "      <th>next</th>\n",
       "      <th>offset</th>\n",
       "      <th>previous</th>\n",
       "      <th>total</th>\n",
       "    </tr>\n",
       "  </thead>\n",
       "  <tbody>\n",
       "    <tr>\n",
       "      <th>0</th>\n",
       "      <td>https://api.spotify.com/v1/playlists/0qfagBJB5...</td>\n",
       "      <td>[{'added_at': '2015-12-04T17:25:30Z', 'added_b...</td>\n",
       "      <td>100</td>\n",
       "      <td>None</td>\n",
       "      <td>0</td>\n",
       "      <td>None</td>\n",
       "      <td>21</td>\n",
       "    </tr>\n",
       "  </tbody>\n",
       "</table>\n",
       "</div>"
      ],
      "text/plain": [
       "                                                href  \\\n",
       "0  https://api.spotify.com/v1/playlists/0qfagBJB5...   \n",
       "\n",
       "                                               items  limit  next  offset  \\\n",
       "0  [{'added_at': '2015-12-04T17:25:30Z', 'added_b...    100  None       0   \n",
       "\n",
       "  previous  total  \n",
       "0     None     21  "
      ]
     },
     "execution_count": 150,
     "metadata": {},
     "output_type": "execute_result"
    }
   ],
   "source": [
    "playlist_df = pd.DataFrame(playlist_tracks_data)\n",
    "playlist_df"
   ]
  },
  {
   "cell_type": "code",
   "execution_count": null,
   "id": "869ebf32",
   "metadata": {},
   "outputs": [],
   "source": []
  },
  {
   "cell_type": "markdown",
   "id": "57bd7ec6",
   "metadata": {},
   "source": [
    "### Get track's audio features directly from playlist "
   ]
  },
  {
   "cell_type": "markdown",
   "id": "fe11599f",
   "metadata": {},
   "source": [
    "#### Function to extract each track's data from a playlist directly"
   ]
  },
  {
   "cell_type": "code",
   "execution_count": 151,
   "id": "4f58a756",
   "metadata": {},
   "outputs": [],
   "source": [
    "def get_playlist_data(playlist_id):\n",
    "    \"\"\"Returns playlist track data \"\"\"\n",
    "    playlist_tracks = sp.playlist_tracks(playlist_id)\n",
    "    return playlist_tracks"
   ]
  },
  {
   "cell_type": "code",
   "execution_count": 152,
   "id": "cb8f5c07",
   "metadata": {},
   "outputs": [
    {
     "name": "stderr",
     "output_type": "stream",
     "text": [
      "100%|██████████| 1/1 [00:00<00:00,  1.53it/s]\n"
     ]
    }
   ],
   "source": [
    "playlist_tracks_data = []\n",
    "playlist_ids = ['0qfagBJB5ou0r1kwQDZ8Op']\n",
    "\n",
    "#  Loop over playlist ids list and get their data as a single row\n",
    "for i in tqdm(range(len(playlist_ids))):\n",
    "    time.sleep(.5)\n",
    "    playlist_track_data = get_playlist_data(playlist_ids[i])\n",
    "    playlist_tracks_data.append(playlist_track_data)"
   ]
  },
  {
   "cell_type": "code",
   "execution_count": 158,
   "id": "03733793",
   "metadata": {},
   "outputs": [
    {
     "name": "stdout",
     "output_type": "stream",
     "text": [
      "1\n"
     ]
    }
   ],
   "source": [
    "print(len(playlist_tracks_data))"
   ]
  },
  {
   "cell_type": "code",
   "execution_count": 154,
   "id": "30bb633c",
   "metadata": {},
   "outputs": [
    {
     "data": {
      "text/html": [
       "<div>\n",
       "<style scoped>\n",
       "    .dataframe tbody tr th:only-of-type {\n",
       "        vertical-align: middle;\n",
       "    }\n",
       "\n",
       "    .dataframe tbody tr th {\n",
       "        vertical-align: top;\n",
       "    }\n",
       "\n",
       "    .dataframe thead th {\n",
       "        text-align: right;\n",
       "    }\n",
       "</style>\n",
       "<table border=\"1\" class=\"dataframe\">\n",
       "  <thead>\n",
       "    <tr style=\"text-align: right;\">\n",
       "      <th></th>\n",
       "      <th>href</th>\n",
       "      <th>items</th>\n",
       "      <th>limit</th>\n",
       "      <th>next</th>\n",
       "      <th>offset</th>\n",
       "      <th>previous</th>\n",
       "      <th>total</th>\n",
       "    </tr>\n",
       "  </thead>\n",
       "  <tbody>\n",
       "    <tr>\n",
       "      <th>0</th>\n",
       "      <td>https://api.spotify.com/v1/playlists/0qfagBJB5...</td>\n",
       "      <td>[{'added_at': '2015-12-04T17:25:30Z', 'added_b...</td>\n",
       "      <td>100</td>\n",
       "      <td>None</td>\n",
       "      <td>0</td>\n",
       "      <td>None</td>\n",
       "      <td>21</td>\n",
       "    </tr>\n",
       "  </tbody>\n",
       "</table>\n",
       "</div>"
      ],
      "text/plain": [
       "                                                href  \\\n",
       "0  https://api.spotify.com/v1/playlists/0qfagBJB5...   \n",
       "\n",
       "                                               items  limit  next  offset  \\\n",
       "0  [{'added_at': '2015-12-04T17:25:30Z', 'added_b...    100  None       0   \n",
       "\n",
       "  previous  total  \n",
       "0     None     21  "
      ]
     },
     "execution_count": 154,
     "metadata": {},
     "output_type": "execute_result"
    }
   ],
   "source": [
    "playlist_df = pd.DataFrame(playlist_tracks_data)\n",
    "playlist_df"
   ]
  },
  {
   "cell_type": "markdown",
   "id": "36dc3cc5",
   "metadata": {},
   "source": [
    "# ================================================"
   ]
  },
  {
   "cell_type": "markdown",
   "id": "08f64446",
   "metadata": {},
   "source": [
    "#### Total track number and name count code"
   ]
  },
  {
   "cell_type": "code",
   "execution_count": 155,
   "id": "d6579145",
   "metadata": {},
   "outputs": [
    {
     "data": {
      "text/plain": [
       "200"
      ]
     },
     "execution_count": 155,
     "metadata": {},
     "output_type": "execute_result"
    }
   ],
   "source": [
    "tracks_count = sp.playlist('3avCwQPH6DkhMTRsizon7N')['tracks']['total']\n",
    "tracks_count"
   ]
  },
  {
   "cell_type": "markdown",
   "id": "2b9a78eb",
   "metadata": {},
   "source": [
    "Extract name and playlist count of each track\n",
    "\n",
    "For testing:  playlist_id = '3avCwQPH6DkhMTRsizon7N'"
   ]
  },
  {
   "cell_type": "code",
   "execution_count": 156,
   "id": "2d728186",
   "metadata": {},
   "outputs": [
    {
     "name": "stdout",
     "output_type": "stream",
     "text": [
      "Billboard 200 Top Albums 2021\n",
      "200\n"
     ]
    }
   ],
   "source": [
    "playlist_id = '3avCwQPH6DkhMTRsizon7N'\n",
    "tracks_count = sp.playlist(playlist_id)['tracks']['total']\n",
    "playlist_name = sp.playlist(playlist_id)['name']\n",
    "print(playlist_name)\n",
    "print(tracks_count)"
   ]
  },
  {
   "cell_type": "code",
   "execution_count": null,
   "id": "586a982d",
   "metadata": {},
   "outputs": [],
   "source": []
  }
 ],
 "metadata": {
  "kernelspec": {
   "display_name": "Python 3",
   "language": "python",
   "name": "python3"
  },
  "language_info": {
   "codemirror_mode": {
    "name": "ipython",
    "version": 3
   },
   "file_extension": ".py",
   "mimetype": "text/x-python",
   "name": "python",
   "nbconvert_exporter": "python",
   "pygments_lexer": "ipython3",
   "version": "3.8.8"
  }
 },
 "nbformat": 4,
 "nbformat_minor": 5
}
