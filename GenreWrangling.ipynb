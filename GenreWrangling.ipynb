{
 "cells": [
  {
   "cell_type": "code",
   "execution_count": null,
   "id": "f75acd75",
   "metadata": {},
   "outputs": [],
   "source": [
    "import pandas as pd\n",
    "import numpy as np"
   ]
  },
  {
   "cell_type": "code",
   "execution_count": null,
   "id": "b747c184",
   "metadata": {},
   "outputs": [],
   "source": [
    "df = pd.read_csv(\"data/allchartalbumtracks.csv\")"
   ]
  },
  {
   "cell_type": "code",
   "execution_count": null,
   "id": "c62919ec",
   "metadata": {},
   "outputs": [],
   "source": [
    "genre_list = [eval(l)[0] for l in list(df[\"track_artists_genres\"])]"
   ]
  },
  {
   "cell_type": "code",
   "execution_count": null,
   "id": "6fa525d0",
   "metadata": {
    "scrolled": false
   },
   "outputs": [],
   "source": [
    "flat_list = list(set([genre for sublist in genre_list for genre in sublist]))\n",
    "flat_list"
   ]
  },
  {
   "cell_type": "code",
   "execution_count": null,
   "id": "73ea45b1",
   "metadata": {},
   "outputs": [],
   "source": [
    "genre_dict = {}\n",
    "original_genre_list = []\n",
    "new_genre_list = []\n",
    "\n",
    "for genre in flat_list:\n",
    "    new_genre = input(\"What would you like to change -\" + genre + \"- to:\")\n",
    "    genre_dict[genre] = new_genre\n",
    "    original_genre_list.append(genre)\n",
    "    new_genre_list.append(new_genre)\n",
    "    genre_df = pd.DataFrame({\"Original_Genre\": original_genre_list, \"New Genre\": new_genre_list})\n",
    "    genre_df.to_csv(\"data/genre_wrangling.csv\")"
   ]
  },
  {
   "cell_type": "code",
   "execution_count": null,
   "id": "638b00a5",
   "metadata": {},
   "outputs": [],
   "source": [
    "new_genre_df = pd.read_csv(\"data/genre_wrangling.csv\")\n",
    "new_genre_df"
   ]
  },
  {
   "cell_type": "code",
   "execution_count": null,
   "id": "6b456746",
   "metadata": {},
   "outputs": [],
   "source": []
  }
 ],
 "metadata": {
  "kernelspec": {
   "display_name": "Python 3",
   "language": "python",
   "name": "python3"
  },
  "language_info": {
   "codemirror_mode": {
    "name": "ipython",
    "version": 3
   },
   "file_extension": ".py",
   "mimetype": "text/x-python",
   "name": "python",
   "nbconvert_exporter": "python",
   "pygments_lexer": "ipython3",
   "version": "3.8.8"
  }
 },
 "nbformat": 4,
 "nbformat_minor": 5
}
